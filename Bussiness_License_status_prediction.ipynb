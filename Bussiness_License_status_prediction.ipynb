{
  "nbformat": 4,
  "nbformat_minor": 0,
  "metadata": {
    "colab": {
      "name": "Untitled4.ipynb",
      "provenance": [],
      "collapsed_sections": []
    },
    "kernelspec": {
      "name": "python3",
      "display_name": "Python 3"
    },
    "language_info": {
      "name": "python"
    }
  },
  "cells": [
    {
      "cell_type": "markdown",
      "source": [
        "## Bussiness License Status Prediction"
      ],
      "metadata": {
        "id": "NMuI1DMxXO2c"
      }
    },
    {
      "cell_type": "code",
      "execution_count": 1,
      "metadata": {
        "id": "le3veEBYuR2D"
      },
      "outputs": [],
      "source": [
        "import pandas as pd\n",
        "import numpy as np\n",
        "import matplotlib.pyplot as plt\n",
        "import seaborn as sns\n",
        "from sklearn.preprocessing import LabelEncoder\n",
        "from sklearn import metrics\n",
        "from sklearn.model_selection import GridSearchCV, RandomizedSearchCV\n",
        "from sklearn.model_selection import train_test_split as tt\n",
        "from sklearn.metrics import accuracy_score, classification_report\n",
        "from datetime import datetime as dt"
      ]
    },
    {
      "cell_type": "code",
      "source": [
        "train=pd.read_csv('/content/train_file.csv')\n",
        "train.head()"
      ],
      "metadata": {
        "colab": {
          "base_uri": "https://localhost:8080/",
          "height": 560
        },
        "id": "9-T1b8LkutHi",
        "outputId": "d94fbfcd-803b-4e07-aedc-2b22400cc023"
      },
      "execution_count": 2,
      "outputs": [
        {
          "output_type": "stream",
          "name": "stderr",
          "text": [
            "/usr/local/lib/python3.7/dist-packages/IPython/core/interactiveshell.py:2882: DtypeWarning: Columns (9) have mixed types.Specify dtype option on import or set low_memory=False.\n",
            "  exec(code_obj, self.user_global_ns, self.user_ns)\n"
          ]
        },
        {
          "output_type": "execute_result",
          "data": {
            "text/plain": [
              "                 ID  LICENSE ID  ACCOUNT NUMBER  SITE NUMBER  \\\n",
              "0    35342-20020816     1256593           32811            1   \n",
              "1  1358463-20051116     1639294          262311           29   \n",
              "2  1980233-20090722     1980233          345008            1   \n",
              "3  1476582-20040211     1476582          273121            1   \n",
              "4  1141408-20080516     1896750          213785            1   \n",
              "\n",
              "                     LEGAL NAME        DOING BUSINESS AS NAME  \\\n",
              "0                  CARMEN CAHUE         CLAUDIA'S BRIDAL SHOP   \n",
              "1           ISLA TROPICAL, INC.                 ISLA TROPICAL   \n",
              "2                DJS REMODELING          DJS REMODELING, INC.   \n",
              "3      ALL-BRY CONSTRUCTION CO.      ALL-BRY CONSTRUCTION CO.   \n",
              "4  MCDONOUGH MECHANICAL SERVICE  MCDONOUGH MECHANICAL SERVICE   \n",
              "\n",
              "                      ADDRESS      CITY STATE ZIP CODE  ...  \\\n",
              "0  2625 S CENTRAL PARK AVE  1   CHICAGO    IL  60623.0  ...   \n",
              "1         2825 W MONTROSE AVE   CHICAGO    IL    60618  ...   \n",
              "2           1605  CLAVEY RD 1  HIGHLAND    IL    60035  ...   \n",
              "3              8  NORTH TRAIL    LEMONT    IL    60439  ...   \n",
              "4             4081  JOSEPH DR  WAUKEGAN    IL    60087  ...   \n",
              "\n",
              "   LICENSE TERM START DATE  LICENSE TERM EXPIRATION DATE  \\\n",
              "0      2002-08-16T00:00:00           2003-08-15T00:00:00   \n",
              "1      2005-11-16T00:00:00           2006-11-15T00:00:00   \n",
              "2      2009-07-22T00:00:00           2011-07-15T00:00:00   \n",
              "3      2004-02-11T00:00:00           2005-02-15T00:00:00   \n",
              "4      2008-05-16T00:00:00           2010-05-15T00:00:00   \n",
              "\n",
              "  LICENSE APPROVED FOR ISSUANCE          DATE ISSUED  \\\n",
              "0           2002-08-21T00:00:00  2006-04-11T00:00:00   \n",
              "1           2006-04-05T00:00:00  2006-06-12T00:00:00   \n",
              "2           2009-07-22T00:00:00  2009-07-22T00:00:00   \n",
              "3           2004-02-10T00:00:00  2004-02-11T00:00:00   \n",
              "4           2008-06-04T00:00:00  2008-06-05T00:00:00   \n",
              "\n",
              "   LICENSE STATUS CHANGE DATE   SSA   LATITUDE  LONGITUDE  \\\n",
              "0                         NaN  25.0  41.843613 -87.714618   \n",
              "1         2006-06-15T00:00:00  60.0  41.961132 -87.699626   \n",
              "2                         NaN   NaN        NaN        NaN   \n",
              "3                         NaN   NaN        NaN        NaN   \n",
              "4                         NaN   NaN        NaN        NaN   \n",
              "\n",
              "                                            LOCATION LICENSE STATUS  \n",
              "0  {'latitude': '41.843612879431845', 'longitude'...            AAI  \n",
              "1  {'latitude': '41.96113244107215', 'longitude':...            AAC  \n",
              "2                                                NaN            AAI  \n",
              "3                                                NaN            AAI  \n",
              "4                                                NaN            AAI  \n",
              "\n",
              "[5 rows x 32 columns]"
            ],
            "text/html": [
              "\n",
              "  <div id=\"df-2bcc8d47-5094-444f-8947-0bc474c6ad64\">\n",
              "    <div class=\"colab-df-container\">\n",
              "      <div>\n",
              "<style scoped>\n",
              "    .dataframe tbody tr th:only-of-type {\n",
              "        vertical-align: middle;\n",
              "    }\n",
              "\n",
              "    .dataframe tbody tr th {\n",
              "        vertical-align: top;\n",
              "    }\n",
              "\n",
              "    .dataframe thead th {\n",
              "        text-align: right;\n",
              "    }\n",
              "</style>\n",
              "<table border=\"1\" class=\"dataframe\">\n",
              "  <thead>\n",
              "    <tr style=\"text-align: right;\">\n",
              "      <th></th>\n",
              "      <th>ID</th>\n",
              "      <th>LICENSE ID</th>\n",
              "      <th>ACCOUNT NUMBER</th>\n",
              "      <th>SITE NUMBER</th>\n",
              "      <th>LEGAL NAME</th>\n",
              "      <th>DOING BUSINESS AS NAME</th>\n",
              "      <th>ADDRESS</th>\n",
              "      <th>CITY</th>\n",
              "      <th>STATE</th>\n",
              "      <th>ZIP CODE</th>\n",
              "      <th>...</th>\n",
              "      <th>LICENSE TERM START DATE</th>\n",
              "      <th>LICENSE TERM EXPIRATION DATE</th>\n",
              "      <th>LICENSE APPROVED FOR ISSUANCE</th>\n",
              "      <th>DATE ISSUED</th>\n",
              "      <th>LICENSE STATUS CHANGE DATE</th>\n",
              "      <th>SSA</th>\n",
              "      <th>LATITUDE</th>\n",
              "      <th>LONGITUDE</th>\n",
              "      <th>LOCATION</th>\n",
              "      <th>LICENSE STATUS</th>\n",
              "    </tr>\n",
              "  </thead>\n",
              "  <tbody>\n",
              "    <tr>\n",
              "      <th>0</th>\n",
              "      <td>35342-20020816</td>\n",
              "      <td>1256593</td>\n",
              "      <td>32811</td>\n",
              "      <td>1</td>\n",
              "      <td>CARMEN CAHUE</td>\n",
              "      <td>CLAUDIA'S BRIDAL SHOP</td>\n",
              "      <td>2625 S CENTRAL PARK AVE  1</td>\n",
              "      <td>CHICAGO</td>\n",
              "      <td>IL</td>\n",
              "      <td>60623.0</td>\n",
              "      <td>...</td>\n",
              "      <td>2002-08-16T00:00:00</td>\n",
              "      <td>2003-08-15T00:00:00</td>\n",
              "      <td>2002-08-21T00:00:00</td>\n",
              "      <td>2006-04-11T00:00:00</td>\n",
              "      <td>NaN</td>\n",
              "      <td>25.0</td>\n",
              "      <td>41.843613</td>\n",
              "      <td>-87.714618</td>\n",
              "      <td>{'latitude': '41.843612879431845', 'longitude'...</td>\n",
              "      <td>AAI</td>\n",
              "    </tr>\n",
              "    <tr>\n",
              "      <th>1</th>\n",
              "      <td>1358463-20051116</td>\n",
              "      <td>1639294</td>\n",
              "      <td>262311</td>\n",
              "      <td>29</td>\n",
              "      <td>ISLA TROPICAL, INC.</td>\n",
              "      <td>ISLA TROPICAL</td>\n",
              "      <td>2825 W MONTROSE AVE</td>\n",
              "      <td>CHICAGO</td>\n",
              "      <td>IL</td>\n",
              "      <td>60618</td>\n",
              "      <td>...</td>\n",
              "      <td>2005-11-16T00:00:00</td>\n",
              "      <td>2006-11-15T00:00:00</td>\n",
              "      <td>2006-04-05T00:00:00</td>\n",
              "      <td>2006-06-12T00:00:00</td>\n",
              "      <td>2006-06-15T00:00:00</td>\n",
              "      <td>60.0</td>\n",
              "      <td>41.961132</td>\n",
              "      <td>-87.699626</td>\n",
              "      <td>{'latitude': '41.96113244107215', 'longitude':...</td>\n",
              "      <td>AAC</td>\n",
              "    </tr>\n",
              "    <tr>\n",
              "      <th>2</th>\n",
              "      <td>1980233-20090722</td>\n",
              "      <td>1980233</td>\n",
              "      <td>345008</td>\n",
              "      <td>1</td>\n",
              "      <td>DJS REMODELING</td>\n",
              "      <td>DJS REMODELING, INC.</td>\n",
              "      <td>1605  CLAVEY RD 1</td>\n",
              "      <td>HIGHLAND</td>\n",
              "      <td>IL</td>\n",
              "      <td>60035</td>\n",
              "      <td>...</td>\n",
              "      <td>2009-07-22T00:00:00</td>\n",
              "      <td>2011-07-15T00:00:00</td>\n",
              "      <td>2009-07-22T00:00:00</td>\n",
              "      <td>2009-07-22T00:00:00</td>\n",
              "      <td>NaN</td>\n",
              "      <td>NaN</td>\n",
              "      <td>NaN</td>\n",
              "      <td>NaN</td>\n",
              "      <td>NaN</td>\n",
              "      <td>AAI</td>\n",
              "    </tr>\n",
              "    <tr>\n",
              "      <th>3</th>\n",
              "      <td>1476582-20040211</td>\n",
              "      <td>1476582</td>\n",
              "      <td>273121</td>\n",
              "      <td>1</td>\n",
              "      <td>ALL-BRY CONSTRUCTION CO.</td>\n",
              "      <td>ALL-BRY CONSTRUCTION CO.</td>\n",
              "      <td>8  NORTH TRAIL</td>\n",
              "      <td>LEMONT</td>\n",
              "      <td>IL</td>\n",
              "      <td>60439</td>\n",
              "      <td>...</td>\n",
              "      <td>2004-02-11T00:00:00</td>\n",
              "      <td>2005-02-15T00:00:00</td>\n",
              "      <td>2004-02-10T00:00:00</td>\n",
              "      <td>2004-02-11T00:00:00</td>\n",
              "      <td>NaN</td>\n",
              "      <td>NaN</td>\n",
              "      <td>NaN</td>\n",
              "      <td>NaN</td>\n",
              "      <td>NaN</td>\n",
              "      <td>AAI</td>\n",
              "    </tr>\n",
              "    <tr>\n",
              "      <th>4</th>\n",
              "      <td>1141408-20080516</td>\n",
              "      <td>1896750</td>\n",
              "      <td>213785</td>\n",
              "      <td>1</td>\n",
              "      <td>MCDONOUGH MECHANICAL SERVICE</td>\n",
              "      <td>MCDONOUGH MECHANICAL SERVICE</td>\n",
              "      <td>4081  JOSEPH DR</td>\n",
              "      <td>WAUKEGAN</td>\n",
              "      <td>IL</td>\n",
              "      <td>60087</td>\n",
              "      <td>...</td>\n",
              "      <td>2008-05-16T00:00:00</td>\n",
              "      <td>2010-05-15T00:00:00</td>\n",
              "      <td>2008-06-04T00:00:00</td>\n",
              "      <td>2008-06-05T00:00:00</td>\n",
              "      <td>NaN</td>\n",
              "      <td>NaN</td>\n",
              "      <td>NaN</td>\n",
              "      <td>NaN</td>\n",
              "      <td>NaN</td>\n",
              "      <td>AAI</td>\n",
              "    </tr>\n",
              "  </tbody>\n",
              "</table>\n",
              "<p>5 rows × 32 columns</p>\n",
              "</div>\n",
              "      <button class=\"colab-df-convert\" onclick=\"convertToInteractive('df-2bcc8d47-5094-444f-8947-0bc474c6ad64')\"\n",
              "              title=\"Convert this dataframe to an interactive table.\"\n",
              "              style=\"display:none;\">\n",
              "        \n",
              "  <svg xmlns=\"http://www.w3.org/2000/svg\" height=\"24px\"viewBox=\"0 0 24 24\"\n",
              "       width=\"24px\">\n",
              "    <path d=\"M0 0h24v24H0V0z\" fill=\"none\"/>\n",
              "    <path d=\"M18.56 5.44l.94 2.06.94-2.06 2.06-.94-2.06-.94-.94-2.06-.94 2.06-2.06.94zm-11 1L8.5 8.5l.94-2.06 2.06-.94-2.06-.94L8.5 2.5l-.94 2.06-2.06.94zm10 10l.94 2.06.94-2.06 2.06-.94-2.06-.94-.94-2.06-.94 2.06-2.06.94z\"/><path d=\"M17.41 7.96l-1.37-1.37c-.4-.4-.92-.59-1.43-.59-.52 0-1.04.2-1.43.59L10.3 9.45l-7.72 7.72c-.78.78-.78 2.05 0 2.83L4 21.41c.39.39.9.59 1.41.59.51 0 1.02-.2 1.41-.59l7.78-7.78 2.81-2.81c.8-.78.8-2.07 0-2.86zM5.41 20L4 18.59l7.72-7.72 1.47 1.35L5.41 20z\"/>\n",
              "  </svg>\n",
              "      </button>\n",
              "      \n",
              "  <style>\n",
              "    .colab-df-container {\n",
              "      display:flex;\n",
              "      flex-wrap:wrap;\n",
              "      gap: 12px;\n",
              "    }\n",
              "\n",
              "    .colab-df-convert {\n",
              "      background-color: #E8F0FE;\n",
              "      border: none;\n",
              "      border-radius: 50%;\n",
              "      cursor: pointer;\n",
              "      display: none;\n",
              "      fill: #1967D2;\n",
              "      height: 32px;\n",
              "      padding: 0 0 0 0;\n",
              "      width: 32px;\n",
              "    }\n",
              "\n",
              "    .colab-df-convert:hover {\n",
              "      background-color: #E2EBFA;\n",
              "      box-shadow: 0px 1px 2px rgba(60, 64, 67, 0.3), 0px 1px 3px 1px rgba(60, 64, 67, 0.15);\n",
              "      fill: #174EA6;\n",
              "    }\n",
              "\n",
              "    [theme=dark] .colab-df-convert {\n",
              "      background-color: #3B4455;\n",
              "      fill: #D2E3FC;\n",
              "    }\n",
              "\n",
              "    [theme=dark] .colab-df-convert:hover {\n",
              "      background-color: #434B5C;\n",
              "      box-shadow: 0px 1px 3px 1px rgba(0, 0, 0, 0.15);\n",
              "      filter: drop-shadow(0px 1px 2px rgba(0, 0, 0, 0.3));\n",
              "      fill: #FFFFFF;\n",
              "    }\n",
              "  </style>\n",
              "\n",
              "      <script>\n",
              "        const buttonEl =\n",
              "          document.querySelector('#df-2bcc8d47-5094-444f-8947-0bc474c6ad64 button.colab-df-convert');\n",
              "        buttonEl.style.display =\n",
              "          google.colab.kernel.accessAllowed ? 'block' : 'none';\n",
              "\n",
              "        async function convertToInteractive(key) {\n",
              "          const element = document.querySelector('#df-2bcc8d47-5094-444f-8947-0bc474c6ad64');\n",
              "          const dataTable =\n",
              "            await google.colab.kernel.invokeFunction('convertToInteractive',\n",
              "                                                     [key], {});\n",
              "          if (!dataTable) return;\n",
              "\n",
              "          const docLinkHtml = 'Like what you see? Visit the ' +\n",
              "            '<a target=\"_blank\" href=https://colab.research.google.com/notebooks/data_table.ipynb>data table notebook</a>'\n",
              "            + ' to learn more about interactive tables.';\n",
              "          element.innerHTML = '';\n",
              "          dataTable['output_type'] = 'display_data';\n",
              "          await google.colab.output.renderOutput(dataTable, element);\n",
              "          const docLink = document.createElement('div');\n",
              "          docLink.innerHTML = docLinkHtml;\n",
              "          element.appendChild(docLink);\n",
              "        }\n",
              "      </script>\n",
              "    </div>\n",
              "  </div>\n",
              "  "
            ]
          },
          "metadata": {},
          "execution_count": 2
        }
      ]
    },
    {
      "cell_type": "code",
      "source": [
        "test=pd.read_csv('/content/test_file.csv')\n",
        "test.head()"
      ],
      "metadata": {
        "colab": {
          "base_uri": "https://localhost:8080/",
          "height": 525
        },
        "id": "TiQ_icqqiunj",
        "outputId": "25c7ec4f-519f-4979-abc9-f4a71f7a3cf1"
      },
      "execution_count": 3,
      "outputs": [
        {
          "output_type": "execute_result",
          "data": {
            "text/plain": [
              "                 ID  LICENSE ID  ACCOUNT NUMBER  SITE NUMBER  \\\n",
              "0  1516615-20120216     2132209          280120            1   \n",
              "1    69813-20110616     2090759           65043            1   \n",
              "2  1519227-20041116     1541990          281270            1   \n",
              "3  1922025-20100816     2041053          335243            1   \n",
              "4  1675683-20070816     1837158          283018            3   \n",
              "\n",
              "               LEGAL NAME DOING BUSINESS AS NAME                   ADDRESS  \\\n",
              "0          RS HOMES I LLC         RS HOMES I LLC    350 W HUBBARD ST 3 300   \n",
              "1      CSX INTERMODAL INC         CSX INTERMODAL        2101 W 59TH ST 1ST   \n",
              "2   LOCOMIBILE  LOFTS LLC   LOCOMOBILE LOFTS LLC     1133 S WABASH AVE 1ST   \n",
              "3         ANNA F. JAMISON        ANNA F. JAMISON  13156 S FORRESTVILLE AVE   \n",
              "4  MARINCA A. COVARRUBIAS                DETAILS         4208 S ARCHER AVE   \n",
              "\n",
              "      CITY STATE  ZIP CODE  ...  CONDITIONAL APPROVAL  \\\n",
              "0  CHICAGO    IL   60610.0  ...                     N   \n",
              "1  CHICAGO    IL   60636.0  ...                     N   \n",
              "2  CHICAGO    IL   60605.0  ...                     N   \n",
              "3  CHICAGO    IL   60827.0  ...                     N   \n",
              "4  CHICAGO    IL   60632.0  ...                     N   \n",
              "\n",
              "   LICENSE TERM START DATE LICENSE TERM EXPIRATION DATE  \\\n",
              "0      2012-02-16T00:00:00          2014-02-15T00:00:00   \n",
              "1      2011-06-16T00:00:00          2013-06-15T00:00:00   \n",
              "2      2004-11-16T00:00:00          2005-11-15T00:00:00   \n",
              "3      2010-08-16T00:00:00          2012-08-15T00:00:00   \n",
              "4      2007-08-16T00:00:00          2009-06-15T00:00:00   \n",
              "\n",
              "   LICENSE APPROVED FOR ISSUANCE          DATE ISSUED  \\\n",
              "0            2012-01-19T00:00:00  2012-01-20T00:00:00   \n",
              "1            2012-11-02T00:00:00  2012-11-05T00:00:00   \n",
              "2            2004-12-06T00:00:00  2004-12-07T00:00:00   \n",
              "3                            NaN  2010-11-04T00:00:00   \n",
              "4            2007-08-15T00:00:00  2007-08-16T00:00:00   \n",
              "\n",
              "  LICENSE STATUS CHANGE DATE   SSA   LATITUDE  LONGITUDE  \\\n",
              "0        2012-12-29T00:00:00   NaN  41.890047 -87.637467   \n",
              "1        2012-12-29T00:00:00   NaN  41.786485 -87.676665   \n",
              "2                        NaN   NaN  41.868269 -87.625695   \n",
              "3        2012-12-31T00:00:00   NaN  41.655762 -87.608686   \n",
              "4        2008-03-26T00:00:00  39.0  41.816969 -87.699785   \n",
              "\n",
              "                                            LOCATION  \n",
              "0  {'latitude': '41.89004724888915', 'longitude':...  \n",
              "1  {'latitude': '41.786485235679486', 'longitude'...  \n",
              "2  {'latitude': '41.86826924843568', 'longitude':...  \n",
              "3  {'latitude': '41.65576175146191', 'longitude':...  \n",
              "4  {'latitude': '41.81696910012824', 'longitude':...  \n",
              "\n",
              "[5 rows x 31 columns]"
            ],
            "text/html": [
              "\n",
              "  <div id=\"df-6ad7cb66-d727-4c92-818b-9fe1568f5e5e\">\n",
              "    <div class=\"colab-df-container\">\n",
              "      <div>\n",
              "<style scoped>\n",
              "    .dataframe tbody tr th:only-of-type {\n",
              "        vertical-align: middle;\n",
              "    }\n",
              "\n",
              "    .dataframe tbody tr th {\n",
              "        vertical-align: top;\n",
              "    }\n",
              "\n",
              "    .dataframe thead th {\n",
              "        text-align: right;\n",
              "    }\n",
              "</style>\n",
              "<table border=\"1\" class=\"dataframe\">\n",
              "  <thead>\n",
              "    <tr style=\"text-align: right;\">\n",
              "      <th></th>\n",
              "      <th>ID</th>\n",
              "      <th>LICENSE ID</th>\n",
              "      <th>ACCOUNT NUMBER</th>\n",
              "      <th>SITE NUMBER</th>\n",
              "      <th>LEGAL NAME</th>\n",
              "      <th>DOING BUSINESS AS NAME</th>\n",
              "      <th>ADDRESS</th>\n",
              "      <th>CITY</th>\n",
              "      <th>STATE</th>\n",
              "      <th>ZIP CODE</th>\n",
              "      <th>...</th>\n",
              "      <th>CONDITIONAL APPROVAL</th>\n",
              "      <th>LICENSE TERM START DATE</th>\n",
              "      <th>LICENSE TERM EXPIRATION DATE</th>\n",
              "      <th>LICENSE APPROVED FOR ISSUANCE</th>\n",
              "      <th>DATE ISSUED</th>\n",
              "      <th>LICENSE STATUS CHANGE DATE</th>\n",
              "      <th>SSA</th>\n",
              "      <th>LATITUDE</th>\n",
              "      <th>LONGITUDE</th>\n",
              "      <th>LOCATION</th>\n",
              "    </tr>\n",
              "  </thead>\n",
              "  <tbody>\n",
              "    <tr>\n",
              "      <th>0</th>\n",
              "      <td>1516615-20120216</td>\n",
              "      <td>2132209</td>\n",
              "      <td>280120</td>\n",
              "      <td>1</td>\n",
              "      <td>RS HOMES I LLC</td>\n",
              "      <td>RS HOMES I LLC</td>\n",
              "      <td>350 W HUBBARD ST 3 300</td>\n",
              "      <td>CHICAGO</td>\n",
              "      <td>IL</td>\n",
              "      <td>60610.0</td>\n",
              "      <td>...</td>\n",
              "      <td>N</td>\n",
              "      <td>2012-02-16T00:00:00</td>\n",
              "      <td>2014-02-15T00:00:00</td>\n",
              "      <td>2012-01-19T00:00:00</td>\n",
              "      <td>2012-01-20T00:00:00</td>\n",
              "      <td>2012-12-29T00:00:00</td>\n",
              "      <td>NaN</td>\n",
              "      <td>41.890047</td>\n",
              "      <td>-87.637467</td>\n",
              "      <td>{'latitude': '41.89004724888915', 'longitude':...</td>\n",
              "    </tr>\n",
              "    <tr>\n",
              "      <th>1</th>\n",
              "      <td>69813-20110616</td>\n",
              "      <td>2090759</td>\n",
              "      <td>65043</td>\n",
              "      <td>1</td>\n",
              "      <td>CSX INTERMODAL INC</td>\n",
              "      <td>CSX INTERMODAL</td>\n",
              "      <td>2101 W 59TH ST 1ST</td>\n",
              "      <td>CHICAGO</td>\n",
              "      <td>IL</td>\n",
              "      <td>60636.0</td>\n",
              "      <td>...</td>\n",
              "      <td>N</td>\n",
              "      <td>2011-06-16T00:00:00</td>\n",
              "      <td>2013-06-15T00:00:00</td>\n",
              "      <td>2012-11-02T00:00:00</td>\n",
              "      <td>2012-11-05T00:00:00</td>\n",
              "      <td>2012-12-29T00:00:00</td>\n",
              "      <td>NaN</td>\n",
              "      <td>41.786485</td>\n",
              "      <td>-87.676665</td>\n",
              "      <td>{'latitude': '41.786485235679486', 'longitude'...</td>\n",
              "    </tr>\n",
              "    <tr>\n",
              "      <th>2</th>\n",
              "      <td>1519227-20041116</td>\n",
              "      <td>1541990</td>\n",
              "      <td>281270</td>\n",
              "      <td>1</td>\n",
              "      <td>LOCOMIBILE  LOFTS LLC</td>\n",
              "      <td>LOCOMOBILE LOFTS LLC</td>\n",
              "      <td>1133 S WABASH AVE 1ST</td>\n",
              "      <td>CHICAGO</td>\n",
              "      <td>IL</td>\n",
              "      <td>60605.0</td>\n",
              "      <td>...</td>\n",
              "      <td>N</td>\n",
              "      <td>2004-11-16T00:00:00</td>\n",
              "      <td>2005-11-15T00:00:00</td>\n",
              "      <td>2004-12-06T00:00:00</td>\n",
              "      <td>2004-12-07T00:00:00</td>\n",
              "      <td>NaN</td>\n",
              "      <td>NaN</td>\n",
              "      <td>41.868269</td>\n",
              "      <td>-87.625695</td>\n",
              "      <td>{'latitude': '41.86826924843568', 'longitude':...</td>\n",
              "    </tr>\n",
              "    <tr>\n",
              "      <th>3</th>\n",
              "      <td>1922025-20100816</td>\n",
              "      <td>2041053</td>\n",
              "      <td>335243</td>\n",
              "      <td>1</td>\n",
              "      <td>ANNA F. JAMISON</td>\n",
              "      <td>ANNA F. JAMISON</td>\n",
              "      <td>13156 S FORRESTVILLE AVE</td>\n",
              "      <td>CHICAGO</td>\n",
              "      <td>IL</td>\n",
              "      <td>60827.0</td>\n",
              "      <td>...</td>\n",
              "      <td>N</td>\n",
              "      <td>2010-08-16T00:00:00</td>\n",
              "      <td>2012-08-15T00:00:00</td>\n",
              "      <td>NaN</td>\n",
              "      <td>2010-11-04T00:00:00</td>\n",
              "      <td>2012-12-31T00:00:00</td>\n",
              "      <td>NaN</td>\n",
              "      <td>41.655762</td>\n",
              "      <td>-87.608686</td>\n",
              "      <td>{'latitude': '41.65576175146191', 'longitude':...</td>\n",
              "    </tr>\n",
              "    <tr>\n",
              "      <th>4</th>\n",
              "      <td>1675683-20070816</td>\n",
              "      <td>1837158</td>\n",
              "      <td>283018</td>\n",
              "      <td>3</td>\n",
              "      <td>MARINCA A. COVARRUBIAS</td>\n",
              "      <td>DETAILS</td>\n",
              "      <td>4208 S ARCHER AVE</td>\n",
              "      <td>CHICAGO</td>\n",
              "      <td>IL</td>\n",
              "      <td>60632.0</td>\n",
              "      <td>...</td>\n",
              "      <td>N</td>\n",
              "      <td>2007-08-16T00:00:00</td>\n",
              "      <td>2009-06-15T00:00:00</td>\n",
              "      <td>2007-08-15T00:00:00</td>\n",
              "      <td>2007-08-16T00:00:00</td>\n",
              "      <td>2008-03-26T00:00:00</td>\n",
              "      <td>39.0</td>\n",
              "      <td>41.816969</td>\n",
              "      <td>-87.699785</td>\n",
              "      <td>{'latitude': '41.81696910012824', 'longitude':...</td>\n",
              "    </tr>\n",
              "  </tbody>\n",
              "</table>\n",
              "<p>5 rows × 31 columns</p>\n",
              "</div>\n",
              "      <button class=\"colab-df-convert\" onclick=\"convertToInteractive('df-6ad7cb66-d727-4c92-818b-9fe1568f5e5e')\"\n",
              "              title=\"Convert this dataframe to an interactive table.\"\n",
              "              style=\"display:none;\">\n",
              "        \n",
              "  <svg xmlns=\"http://www.w3.org/2000/svg\" height=\"24px\"viewBox=\"0 0 24 24\"\n",
              "       width=\"24px\">\n",
              "    <path d=\"M0 0h24v24H0V0z\" fill=\"none\"/>\n",
              "    <path d=\"M18.56 5.44l.94 2.06.94-2.06 2.06-.94-2.06-.94-.94-2.06-.94 2.06-2.06.94zm-11 1L8.5 8.5l.94-2.06 2.06-.94-2.06-.94L8.5 2.5l-.94 2.06-2.06.94zm10 10l.94 2.06.94-2.06 2.06-.94-2.06-.94-.94-2.06-.94 2.06-2.06.94z\"/><path d=\"M17.41 7.96l-1.37-1.37c-.4-.4-.92-.59-1.43-.59-.52 0-1.04.2-1.43.59L10.3 9.45l-7.72 7.72c-.78.78-.78 2.05 0 2.83L4 21.41c.39.39.9.59 1.41.59.51 0 1.02-.2 1.41-.59l7.78-7.78 2.81-2.81c.8-.78.8-2.07 0-2.86zM5.41 20L4 18.59l7.72-7.72 1.47 1.35L5.41 20z\"/>\n",
              "  </svg>\n",
              "      </button>\n",
              "      \n",
              "  <style>\n",
              "    .colab-df-container {\n",
              "      display:flex;\n",
              "      flex-wrap:wrap;\n",
              "      gap: 12px;\n",
              "    }\n",
              "\n",
              "    .colab-df-convert {\n",
              "      background-color: #E8F0FE;\n",
              "      border: none;\n",
              "      border-radius: 50%;\n",
              "      cursor: pointer;\n",
              "      display: none;\n",
              "      fill: #1967D2;\n",
              "      height: 32px;\n",
              "      padding: 0 0 0 0;\n",
              "      width: 32px;\n",
              "    }\n",
              "\n",
              "    .colab-df-convert:hover {\n",
              "      background-color: #E2EBFA;\n",
              "      box-shadow: 0px 1px 2px rgba(60, 64, 67, 0.3), 0px 1px 3px 1px rgba(60, 64, 67, 0.15);\n",
              "      fill: #174EA6;\n",
              "    }\n",
              "\n",
              "    [theme=dark] .colab-df-convert {\n",
              "      background-color: #3B4455;\n",
              "      fill: #D2E3FC;\n",
              "    }\n",
              "\n",
              "    [theme=dark] .colab-df-convert:hover {\n",
              "      background-color: #434B5C;\n",
              "      box-shadow: 0px 1px 3px 1px rgba(0, 0, 0, 0.15);\n",
              "      filter: drop-shadow(0px 1px 2px rgba(0, 0, 0, 0.3));\n",
              "      fill: #FFFFFF;\n",
              "    }\n",
              "  </style>\n",
              "\n",
              "      <script>\n",
              "        const buttonEl =\n",
              "          document.querySelector('#df-6ad7cb66-d727-4c92-818b-9fe1568f5e5e button.colab-df-convert');\n",
              "        buttonEl.style.display =\n",
              "          google.colab.kernel.accessAllowed ? 'block' : 'none';\n",
              "\n",
              "        async function convertToInteractive(key) {\n",
              "          const element = document.querySelector('#df-6ad7cb66-d727-4c92-818b-9fe1568f5e5e');\n",
              "          const dataTable =\n",
              "            await google.colab.kernel.invokeFunction('convertToInteractive',\n",
              "                                                     [key], {});\n",
              "          if (!dataTable) return;\n",
              "\n",
              "          const docLinkHtml = 'Like what you see? Visit the ' +\n",
              "            '<a target=\"_blank\" href=https://colab.research.google.com/notebooks/data_table.ipynb>data table notebook</a>'\n",
              "            + ' to learn more about interactive tables.';\n",
              "          element.innerHTML = '';\n",
              "          dataTable['output_type'] = 'display_data';\n",
              "          await google.colab.output.renderOutput(dataTable, element);\n",
              "          const docLink = document.createElement('div');\n",
              "          docLink.innerHTML = docLinkHtml;\n",
              "          element.appendChild(docLink);\n",
              "        }\n",
              "      </script>\n",
              "    </div>\n",
              "  </div>\n",
              "  "
            ]
          },
          "metadata": {},
          "execution_count": 3
        }
      ]
    },
    {
      "cell_type": "code",
      "source": [
        "submission=pd.read_csv('/content/sample_submission.csv')\n",
        "submission.head()"
      ],
      "metadata": {
        "colab": {
          "base_uri": "https://localhost:8080/",
          "height": 206
        },
        "id": "V2lu4r9ui_fY",
        "outputId": "e8547357-e778-4906-b67f-e3e4ad831caa"
      },
      "execution_count": 4,
      "outputs": [
        {
          "output_type": "execute_result",
          "data": {
            "text/plain": [
              "                 ID LICENSE STATUS\n",
              "0  1985799-20091116            AAC\n",
              "1  1932144-20090416            AAI\n",
              "2    71173-20100816            REV\n",
              "3  1802721-20110616            REV\n",
              "4  2048542-20120816             IN"
            ],
            "text/html": [
              "\n",
              "  <div id=\"df-9b73c81a-df9e-470c-966a-8671a0a7ebad\">\n",
              "    <div class=\"colab-df-container\">\n",
              "      <div>\n",
              "<style scoped>\n",
              "    .dataframe tbody tr th:only-of-type {\n",
              "        vertical-align: middle;\n",
              "    }\n",
              "\n",
              "    .dataframe tbody tr th {\n",
              "        vertical-align: top;\n",
              "    }\n",
              "\n",
              "    .dataframe thead th {\n",
              "        text-align: right;\n",
              "    }\n",
              "</style>\n",
              "<table border=\"1\" class=\"dataframe\">\n",
              "  <thead>\n",
              "    <tr style=\"text-align: right;\">\n",
              "      <th></th>\n",
              "      <th>ID</th>\n",
              "      <th>LICENSE STATUS</th>\n",
              "    </tr>\n",
              "  </thead>\n",
              "  <tbody>\n",
              "    <tr>\n",
              "      <th>0</th>\n",
              "      <td>1985799-20091116</td>\n",
              "      <td>AAC</td>\n",
              "    </tr>\n",
              "    <tr>\n",
              "      <th>1</th>\n",
              "      <td>1932144-20090416</td>\n",
              "      <td>AAI</td>\n",
              "    </tr>\n",
              "    <tr>\n",
              "      <th>2</th>\n",
              "      <td>71173-20100816</td>\n",
              "      <td>REV</td>\n",
              "    </tr>\n",
              "    <tr>\n",
              "      <th>3</th>\n",
              "      <td>1802721-20110616</td>\n",
              "      <td>REV</td>\n",
              "    </tr>\n",
              "    <tr>\n",
              "      <th>4</th>\n",
              "      <td>2048542-20120816</td>\n",
              "      <td>IN</td>\n",
              "    </tr>\n",
              "  </tbody>\n",
              "</table>\n",
              "</div>\n",
              "      <button class=\"colab-df-convert\" onclick=\"convertToInteractive('df-9b73c81a-df9e-470c-966a-8671a0a7ebad')\"\n",
              "              title=\"Convert this dataframe to an interactive table.\"\n",
              "              style=\"display:none;\">\n",
              "        \n",
              "  <svg xmlns=\"http://www.w3.org/2000/svg\" height=\"24px\"viewBox=\"0 0 24 24\"\n",
              "       width=\"24px\">\n",
              "    <path d=\"M0 0h24v24H0V0z\" fill=\"none\"/>\n",
              "    <path d=\"M18.56 5.44l.94 2.06.94-2.06 2.06-.94-2.06-.94-.94-2.06-.94 2.06-2.06.94zm-11 1L8.5 8.5l.94-2.06 2.06-.94-2.06-.94L8.5 2.5l-.94 2.06-2.06.94zm10 10l.94 2.06.94-2.06 2.06-.94-2.06-.94-.94-2.06-.94 2.06-2.06.94z\"/><path d=\"M17.41 7.96l-1.37-1.37c-.4-.4-.92-.59-1.43-.59-.52 0-1.04.2-1.43.59L10.3 9.45l-7.72 7.72c-.78.78-.78 2.05 0 2.83L4 21.41c.39.39.9.59 1.41.59.51 0 1.02-.2 1.41-.59l7.78-7.78 2.81-2.81c.8-.78.8-2.07 0-2.86zM5.41 20L4 18.59l7.72-7.72 1.47 1.35L5.41 20z\"/>\n",
              "  </svg>\n",
              "      </button>\n",
              "      \n",
              "  <style>\n",
              "    .colab-df-container {\n",
              "      display:flex;\n",
              "      flex-wrap:wrap;\n",
              "      gap: 12px;\n",
              "    }\n",
              "\n",
              "    .colab-df-convert {\n",
              "      background-color: #E8F0FE;\n",
              "      border: none;\n",
              "      border-radius: 50%;\n",
              "      cursor: pointer;\n",
              "      display: none;\n",
              "      fill: #1967D2;\n",
              "      height: 32px;\n",
              "      padding: 0 0 0 0;\n",
              "      width: 32px;\n",
              "    }\n",
              "\n",
              "    .colab-df-convert:hover {\n",
              "      background-color: #E2EBFA;\n",
              "      box-shadow: 0px 1px 2px rgba(60, 64, 67, 0.3), 0px 1px 3px 1px rgba(60, 64, 67, 0.15);\n",
              "      fill: #174EA6;\n",
              "    }\n",
              "\n",
              "    [theme=dark] .colab-df-convert {\n",
              "      background-color: #3B4455;\n",
              "      fill: #D2E3FC;\n",
              "    }\n",
              "\n",
              "    [theme=dark] .colab-df-convert:hover {\n",
              "      background-color: #434B5C;\n",
              "      box-shadow: 0px 1px 3px 1px rgba(0, 0, 0, 0.15);\n",
              "      filter: drop-shadow(0px 1px 2px rgba(0, 0, 0, 0.3));\n",
              "      fill: #FFFFFF;\n",
              "    }\n",
              "  </style>\n",
              "\n",
              "      <script>\n",
              "        const buttonEl =\n",
              "          document.querySelector('#df-9b73c81a-df9e-470c-966a-8671a0a7ebad button.colab-df-convert');\n",
              "        buttonEl.style.display =\n",
              "          google.colab.kernel.accessAllowed ? 'block' : 'none';\n",
              "\n",
              "        async function convertToInteractive(key) {\n",
              "          const element = document.querySelector('#df-9b73c81a-df9e-470c-966a-8671a0a7ebad');\n",
              "          const dataTable =\n",
              "            await google.colab.kernel.invokeFunction('convertToInteractive',\n",
              "                                                     [key], {});\n",
              "          if (!dataTable) return;\n",
              "\n",
              "          const docLinkHtml = 'Like what you see? Visit the ' +\n",
              "            '<a target=\"_blank\" href=https://colab.research.google.com/notebooks/data_table.ipynb>data table notebook</a>'\n",
              "            + ' to learn more about interactive tables.';\n",
              "          element.innerHTML = '';\n",
              "          dataTable['output_type'] = 'display_data';\n",
              "          await google.colab.output.renderOutput(dataTable, element);\n",
              "          const docLink = document.createElement('div');\n",
              "          docLink.innerHTML = docLinkHtml;\n",
              "          element.appendChild(docLink);\n",
              "        }\n",
              "      </script>\n",
              "    </div>\n",
              "  </div>\n",
              "  "
            ]
          },
          "metadata": {},
          "execution_count": 4
        }
      ]
    },
    {
      "cell_type": "markdown",
      "source": [
        "## Extrapolatory Data Analysis"
      ],
      "metadata": {
        "id": "B13aunyQjOlX"
      }
    },
    {
      "cell_type": "code",
      "source": [
        "train.shape"
      ],
      "metadata": {
        "colab": {
          "base_uri": "https://localhost:8080/"
        },
        "id": "Gl5ng_b-jWEr",
        "outputId": "badc925d-e72c-418e-8027-27da76f51107"
      },
      "execution_count": 5,
      "outputs": [
        {
          "output_type": "execute_result",
          "data": {
            "text/plain": [
              "(85895, 32)"
            ]
          },
          "metadata": {},
          "execution_count": 5
        }
      ]
    },
    {
      "cell_type": "code",
      "source": [
        "train.columns"
      ],
      "metadata": {
        "colab": {
          "base_uri": "https://localhost:8080/"
        },
        "id": "qhjhaVfF-Vmg",
        "outputId": "fcec67fd-c9d1-46a3-815f-f1810ca4a6c0"
      },
      "execution_count": 6,
      "outputs": [
        {
          "output_type": "execute_result",
          "data": {
            "text/plain": [
              "Index(['ID', 'LICENSE ID', 'ACCOUNT NUMBER', 'SITE NUMBER', 'LEGAL NAME',\n",
              "       'DOING BUSINESS AS NAME', 'ADDRESS', 'CITY', 'STATE', 'ZIP CODE',\n",
              "       'WARD', 'PRECINCT', 'WARD PRECINCT', 'POLICE DISTRICT', 'LICENSE CODE',\n",
              "       'LICENSE DESCRIPTION', 'LICENSE NUMBER', 'APPLICATION TYPE',\n",
              "       'APPLICATION CREATED DATE', 'APPLICATION REQUIREMENTS COMPLETE',\n",
              "       'PAYMENT DATE', 'CONDITIONAL APPROVAL', 'LICENSE TERM START DATE',\n",
              "       'LICENSE TERM EXPIRATION DATE', 'LICENSE APPROVED FOR ISSUANCE',\n",
              "       'DATE ISSUED', 'LICENSE STATUS CHANGE DATE', 'SSA', 'LATITUDE',\n",
              "       'LONGITUDE', 'LOCATION', 'LICENSE STATUS'],\n",
              "      dtype='object')"
            ]
          },
          "metadata": {},
          "execution_count": 6
        }
      ]
    },
    {
      "cell_type": "code",
      "source": [
        "train.dtypes.value_counts()"
      ],
      "metadata": {
        "colab": {
          "base_uri": "https://localhost:8080/"
        },
        "id": "75wAYETGj2FO",
        "outputId": "2fa2b78a-7c0d-4045-d866-e04da58dfa33"
      },
      "execution_count": 7,
      "outputs": [
        {
          "output_type": "execute_result",
          "data": {
            "text/plain": [
              "object     21\n",
              "float64     7\n",
              "int64       4\n",
              "dtype: int64"
            ]
          },
          "metadata": {},
          "execution_count": 7
        }
      ]
    },
    {
      "cell_type": "markdown",
      "source": [
        "### Percentage of missing null values training data"
      ],
      "metadata": {
        "id": "-Qeylhrw6Q6U"
      }
    },
    {
      "cell_type": "code",
      "source": [
        "train.isnull().sum().sort_values(ascending=False) * 100 / len(train)"
      ],
      "metadata": {
        "colab": {
          "base_uri": "https://localhost:8080/"
        },
        "id": "h9GTAWVikyHL",
        "outputId": "d9674aa2-2357-4312-f689-0d283410ba84"
      },
      "execution_count": 8,
      "outputs": [
        {
          "output_type": "execute_result",
          "data": {
            "text/plain": [
              "SSA                                  88.999360\n",
              "APPLICATION CREATED DATE             75.277956\n",
              "PRECINCT                             66.011991\n",
              "LICENSE STATUS CHANGE DATE           64.497351\n",
              "POLICE DISTRICT                      62.881425\n",
              "WARD                                 57.862507\n",
              "WARD PRECINCT                        57.861342\n",
              "LOCATION                             55.004366\n",
              "LONGITUDE                            55.004366\n",
              "LATITUDE                             55.004366\n",
              "LICENSE APPROVED FOR ISSUANCE         7.903836\n",
              "PAYMENT DATE                          1.500669\n",
              "LICENSE TERM START DATE               0.265440\n",
              "APPLICATION REQUIREMENTS COMPLETE     0.249141\n",
              "ZIP CODE                              0.036091\n",
              "LICENSE TERM EXPIRATION DATE          0.020956\n",
              "DOING BUSINESS AS NAME                0.001164\n",
              "LICENSE NUMBER                        0.001164\n",
              "DATE ISSUED                           0.000000\n",
              "CONDITIONAL APPROVAL                  0.000000\n",
              "ID                                    0.000000\n",
              "APPLICATION TYPE                      0.000000\n",
              "LICENSE ID                            0.000000\n",
              "LICENSE DESCRIPTION                   0.000000\n",
              "LICENSE CODE                          0.000000\n",
              "STATE                                 0.000000\n",
              "CITY                                  0.000000\n",
              "ADDRESS                               0.000000\n",
              "LEGAL NAME                            0.000000\n",
              "SITE NUMBER                           0.000000\n",
              "ACCOUNT NUMBER                        0.000000\n",
              "LICENSE STATUS                        0.000000\n",
              "dtype: float64"
            ]
          },
          "metadata": {},
          "execution_count": 8
        }
      ]
    },
    {
      "cell_type": "code",
      "source": [
        "train.dtypes"
      ],
      "metadata": {
        "colab": {
          "base_uri": "https://localhost:8080/"
        },
        "id": "rO3hDr_UDQ1s",
        "outputId": "e86ee511-aec8-467f-d6d1-94a876591231"
      },
      "execution_count": 9,
      "outputs": [
        {
          "output_type": "execute_result",
          "data": {
            "text/plain": [
              "ID                                    object\n",
              "LICENSE ID                             int64\n",
              "ACCOUNT NUMBER                         int64\n",
              "SITE NUMBER                            int64\n",
              "LEGAL NAME                            object\n",
              "DOING BUSINESS AS NAME                object\n",
              "ADDRESS                               object\n",
              "CITY                                  object\n",
              "STATE                                 object\n",
              "ZIP CODE                              object\n",
              "WARD                                 float64\n",
              "PRECINCT                             float64\n",
              "WARD PRECINCT                         object\n",
              "POLICE DISTRICT                      float64\n",
              "LICENSE CODE                           int64\n",
              "LICENSE DESCRIPTION                   object\n",
              "LICENSE NUMBER                       float64\n",
              "APPLICATION TYPE                      object\n",
              "APPLICATION CREATED DATE              object\n",
              "APPLICATION REQUIREMENTS COMPLETE     object\n",
              "PAYMENT DATE                          object\n",
              "CONDITIONAL APPROVAL                  object\n",
              "LICENSE TERM START DATE               object\n",
              "LICENSE TERM EXPIRATION DATE          object\n",
              "LICENSE APPROVED FOR ISSUANCE         object\n",
              "DATE ISSUED                           object\n",
              "LICENSE STATUS CHANGE DATE            object\n",
              "SSA                                  float64\n",
              "LATITUDE                             float64\n",
              "LONGITUDE                            float64\n",
              "LOCATION                              object\n",
              "LICENSE STATUS                        object\n",
              "dtype: object"
            ]
          },
          "metadata": {},
          "execution_count": 9
        }
      ]
    },
    {
      "cell_type": "code",
      "source": [
        "train.nunique()"
      ],
      "metadata": {
        "colab": {
          "base_uri": "https://localhost:8080/"
        },
        "id": "SfzWwNQm6aOa",
        "outputId": "7b23ef20-c8a1-402e-9f7a-0f32340f55c0"
      },
      "execution_count": 10,
      "outputs": [
        {
          "output_type": "execute_result",
          "data": {
            "text/plain": [
              "ID                                   85895\n",
              "LICENSE ID                           85895\n",
              "ACCOUNT NUMBER                       38897\n",
              "SITE NUMBER                            177\n",
              "LEGAL NAME                           38744\n",
              "DOING BUSINESS AS NAME               41686\n",
              "ADDRESS                              42146\n",
              "CITY                                  1223\n",
              "STATE                                   54\n",
              "ZIP CODE                              2456\n",
              "WARD                                    50\n",
              "PRECINCT                                76\n",
              "WARD PRECINCT                         2383\n",
              "POLICE DISTRICT                         28\n",
              "LICENSE CODE                           106\n",
              "LICENSE DESCRIPTION                    106\n",
              "LICENSE NUMBER                       49768\n",
              "APPLICATION TYPE                         5\n",
              "APPLICATION CREATED DATE              2899\n",
              "APPLICATION REQUIREMENTS COMPLETE     3078\n",
              "PAYMENT DATE                          4356\n",
              "CONDITIONAL APPROVAL                     2\n",
              "LICENSE TERM START DATE               2825\n",
              "LICENSE TERM EXPIRATION DATE           297\n",
              "LICENSE APPROVED FOR ISSUANCE         4223\n",
              "DATE ISSUED                           3498\n",
              "LICENSE STATUS CHANGE DATE            3152\n",
              "SSA                                     53\n",
              "LATITUDE                             21386\n",
              "LONGITUDE                            21388\n",
              "LOCATION                             21388\n",
              "LICENSE STATUS                           5\n",
              "dtype: int64"
            ]
          },
          "metadata": {},
          "execution_count": 10
        }
      ]
    },
    {
      "cell_type": "markdown",
      "source": [
        "### Highly Imbalanced datset"
      ],
      "metadata": {
        "id": "FokXRw2tXlIP"
      }
    },
    {
      "cell_type": "code",
      "source": [
        "train['LICENSE STATUS'].value_counts()"
      ],
      "metadata": {
        "colab": {
          "base_uri": "https://localhost:8080/"
        },
        "id": "GZpkWfU_7BMc",
        "outputId": "2fd3bf7e-facb-4340-bcbc-75cac582ab75"
      },
      "execution_count": 11,
      "outputs": [
        {
          "output_type": "execute_result",
          "data": {
            "text/plain": [
              "AAI    55400\n",
              "AAC    30200\n",
              "REV      290\n",
              "REA        3\n",
              "INQ        2\n",
              "Name: LICENSE STATUS, dtype: int64"
            ]
          },
          "metadata": {},
          "execution_count": 11
        }
      ]
    },
    {
      "cell_type": "code",
      "source": [
        "plt.title('Distribution of target variable')\n",
        "sns.countplot(x='LICENSE STATUS', data=train)\n",
        "plt.show()  "
      ],
      "metadata": {
        "colab": {
          "base_uri": "https://localhost:8080/",
          "height": 295
        },
        "id": "KD9b_EJ67BYX",
        "outputId": "c5fbfe15-494c-4e3b-f0ba-a1fc0f0b06fe"
      },
      "execution_count": 12,
      "outputs": [
        {
          "output_type": "display_data",
          "data": {
            "text/plain": [
              "<Figure size 432x288 with 1 Axes>"
            ],
            "image/png": "[encoded data removed]"
          },
          "metadata": {
            "needs_background": "light"
          }
        }
      ]
    },
    {
      "cell_type": "code",
      "source": [
        "test.shape"
      ],
      "metadata": {
        "colab": {
          "base_uri": "https://localhost:8080/"
        },
        "id": "mSUKOLuP803g",
        "outputId": "9318f977-426e-4a19-ca30-946eaa7923a8"
      },
      "execution_count": 13,
      "outputs": [
        {
          "output_type": "execute_result",
          "data": {
            "text/plain": [
              "(57239, 31)"
            ]
          },
          "metadata": {},
          "execution_count": 13
        }
      ]
    },
    {
      "cell_type": "markdown",
      "source": [
        "### Percentage of missing null values test data"
      ],
      "metadata": {
        "id": "FGJ5ZhMQXuMp"
      }
    },
    {
      "cell_type": "code",
      "source": [
        "test.isnull().sum().sort_values(ascending=False) * 100 / len(train)"
      ],
      "metadata": {
        "colab": {
          "base_uri": "https://localhost:8080/"
        },
        "id": "AQPgXfDUA-mE",
        "outputId": "01aeb6f2-d497-4ccb-f119-ca83fba2180a"
      },
      "execution_count": 14,
      "outputs": [
        {
          "output_type": "execute_result",
          "data": {
            "text/plain": [
              "APPLICATION CREATED DATE             51.908726\n",
              "SSA                                  48.118051\n",
              "LICENSE STATUS CHANGE DATE           27.063275\n",
              "LICENSE APPROVED FOR ISSUANCE         2.769661\n",
              "PRECINCT                              1.837127\n",
              "POLICE DISTRICT                       1.717213\n",
              "PAYMENT DATE                          1.223587\n",
              "LOCATION                              1.059433\n",
              "LATITUDE                              1.059433\n",
              "LONGITUDE                             1.059433\n",
              "WARD                                  0.728797\n",
              "WARD PRECINCT                         0.717155\n",
              "APPLICATION REQUIREMENTS COMPLETE     0.498283\n",
              "LICENSE TERM START DATE               0.137377\n",
              "ZIP CODE                              0.013971\n",
              "LICENSE TERM EXPIRATION DATE          0.006985\n",
              "DOING BUSINESS AS NAME                0.002328\n",
              "DATE ISSUED                           0.000000\n",
              "CONDITIONAL APPROVAL                  0.000000\n",
              "ID                                    0.000000\n",
              "APPLICATION TYPE                      0.000000\n",
              "LICENSE NUMBER                        0.000000\n",
              "LICENSE ID                            0.000000\n",
              "LICENSE CODE                          0.000000\n",
              "STATE                                 0.000000\n",
              "CITY                                  0.000000\n",
              "ADDRESS                               0.000000\n",
              "LEGAL NAME                            0.000000\n",
              "SITE NUMBER                           0.000000\n",
              "ACCOUNT NUMBER                        0.000000\n",
              "LICENSE DESCRIPTION                   0.000000\n",
              "dtype: float64"
            ]
          },
          "metadata": {},
          "execution_count": 14
        }
      ]
    },
    {
      "cell_type": "markdown",
      "source": [
        "## Handling null values\n",
        "\n",
        "### In order to handle date-time null values first we have to convert it into date-time data type"
      ],
      "metadata": {
        "id": "zAPOpMkQX0KQ"
      }
    },
    {
      "cell_type": "code",
      "source": [
        "def date_(date_list):\n",
        "    for i in date_list:\n",
        "        train[i] = pd.to_datetime(train[i])\n",
        "        test[i] = pd.to_datetime(test[i])"
      ],
      "metadata": {
        "id": "X6hNNOFeA-6r"
      },
      "execution_count": 15,
      "outputs": []
    },
    {
      "cell_type": "code",
      "source": [
        "date_list = ['APPLICATION REQUIREMENTS COMPLETE', 'PAYMENT DATE', 'LICENSE TERM EXPIRATION DATE', 'LICENSE TERM START DATE',\n",
        "             'DATE ISSUED', 'LICENSE APPROVED FOR ISSUANCE', 'LICENSE STATUS CHANGE DATE']\n",
        "date_(date_list)"
      ],
      "metadata": {
        "id": "08sjwUetH0dR"
      },
      "execution_count": 16,
      "outputs": []
    },
    {
      "cell_type": "markdown",
      "source": [
        "### Date-Time conversion to subsequent year values"
      ],
      "metadata": {
        "id": "VEmu3hBBYEiK"
      }
    },
    {
      "cell_type": "code",
      "source": [
        "train['APPLICATION REQUIREMENTS COMPLETE YEAR']=train['APPLICATION REQUIREMENTS COMPLETE'].dt.year\n",
        "train['PAYMENT YEAR']=train['PAYMENT DATE'].dt.year\n",
        "train['LICENSE TERM EXPIRATION YEAR']=train['LICENSE TERM EXPIRATION DATE'].dt.year\n",
        "train['LICENSE TERM START YEAR']=train['LICENSE TERM START DATE'].dt.year\n",
        "train['DATE ISSUED YEAR']=train['DATE ISSUED'].dt.year\n",
        "train['LICENSE APPROVED FOR ISSUANCE YEAR']=train['LICENSE APPROVED FOR ISSUANCE'].dt.year\n",
        "train['LICENSE STATUS CHANGE YEAR']=train['LICENSE STATUS CHANGE DATE'].dt.year\n",
        "\n"
      ],
      "metadata": {
        "id": "pvw_yiWmICud"
      },
      "execution_count": 17,
      "outputs": []
    },
    {
      "cell_type": "code",
      "source": [
        "test['APPLICATION REQUIREMENTS COMPLETE YEAR']=test['APPLICATION REQUIREMENTS COMPLETE'].dt.year\n",
        "test['PAYMENT YEAR']=test['PAYMENT DATE'].dt.year\n",
        "test['LICENSE TERM EXPIRATION YEAR']=test['LICENSE TERM EXPIRATION DATE'].dt.year\n",
        "test['LICENSE TERM START YEAR']=test['LICENSE TERM START DATE'].dt.year\n",
        "test['DATE ISSUED YEAR']=test['DATE ISSUED'].dt.year\n",
        "test['LICENSE APPROVED FOR ISSUANCE YEAR']=test['LICENSE APPROVED FOR ISSUANCE'].dt.year\n",
        "test['LICENSE STATUS CHANGE YEAR']=test['LICENSE STATUS CHANGE DATE'].dt.year"
      ],
      "metadata": {
        "id": "OTuZoO7eZS6a"
      },
      "execution_count": 18,
      "outputs": []
    },
    {
      "cell_type": "markdown",
      "source": [
        "### Year Null values replaced by mode of that coloum"
      ],
      "metadata": {
        "id": "cAaf5FRGYSjs"
      }
    },
    {
      "cell_type": "code",
      "source": [
        "# fill Year missing values\n",
        "def fillnull(date_mode):\n",
        "  for i in date_mode:\n",
        "    train[i]=train[i].fillna(value=train[i].mode())\n",
        "    test[i]=test[i].fillna(value=test[i].mode())\n"
      ],
      "metadata": {
        "id": "vzdkKmCQfMry"
      },
      "execution_count": 19,
      "outputs": []
    },
    {
      "cell_type": "markdown",
      "source": [
        "### Dropping original Date-time object columns"
      ],
      "metadata": {
        "id": "EBKDt2LMYZuI"
      }
    },
    {
      "cell_type": "code",
      "source": [
        "train = train.drop(date_list, axis=1)\n",
        "test = test.drop(date_list, axis=1)\n",
        "train.head()"
      ],
      "metadata": {
        "colab": {
          "base_uri": "https://localhost:8080/",
          "height": 542
        },
        "id": "a-qyMSrAZTTf",
        "outputId": "8bf75c16-aa51-436b-8a4b-246ee49ddfa2"
      },
      "execution_count": 20,
      "outputs": [
        {
          "output_type": "execute_result",
          "data": {
            "text/plain": [
              "                 ID  LICENSE ID  ACCOUNT NUMBER  SITE NUMBER  \\\n",
              "0    35342-20020816     1256593           32811            1   \n",
              "1  1358463-20051116     1639294          262311           29   \n",
              "2  1980233-20090722     1980233          345008            1   \n",
              "3  1476582-20040211     1476582          273121            1   \n",
              "4  1141408-20080516     1896750          213785            1   \n",
              "\n",
              "                     LEGAL NAME        DOING BUSINESS AS NAME  \\\n",
              "0                  CARMEN CAHUE         CLAUDIA'S BRIDAL SHOP   \n",
              "1           ISLA TROPICAL, INC.                 ISLA TROPICAL   \n",
              "2                DJS REMODELING          DJS REMODELING, INC.   \n",
              "3      ALL-BRY CONSTRUCTION CO.      ALL-BRY CONSTRUCTION CO.   \n",
              "4  MCDONOUGH MECHANICAL SERVICE  MCDONOUGH MECHANICAL SERVICE   \n",
              "\n",
              "                      ADDRESS      CITY STATE ZIP CODE  ...  LONGITUDE  \\\n",
              "0  2625 S CENTRAL PARK AVE  1   CHICAGO    IL  60623.0  ... -87.714618   \n",
              "1         2825 W MONTROSE AVE   CHICAGO    IL    60618  ... -87.699626   \n",
              "2           1605  CLAVEY RD 1  HIGHLAND    IL    60035  ...        NaN   \n",
              "3              8  NORTH TRAIL    LEMONT    IL    60439  ...        NaN   \n",
              "4             4081  JOSEPH DR  WAUKEGAN    IL    60087  ...        NaN   \n",
              "\n",
              "                                            LOCATION LICENSE STATUS  \\\n",
              "0  {'latitude': '41.843612879431845', 'longitude'...            AAI   \n",
              "1  {'latitude': '41.96113244107215', 'longitude':...            AAC   \n",
              "2                                                NaN            AAI   \n",
              "3                                                NaN            AAI   \n",
              "4                                                NaN            AAI   \n",
              "\n",
              "   APPLICATION REQUIREMENTS COMPLETE YEAR  PAYMENT YEAR  \\\n",
              "0                                  2002.0        2002.0   \n",
              "1                                  2005.0        2005.0   \n",
              "2                                  2009.0        2009.0   \n",
              "3                                  2004.0        2004.0   \n",
              "4                                  2008.0        2008.0   \n",
              "\n",
              "  LICENSE TERM EXPIRATION YEAR  LICENSE TERM START YEAR DATE ISSUED YEAR  \\\n",
              "0                       2003.0                   2002.0             2006   \n",
              "1                       2006.0                   2005.0             2006   \n",
              "2                       2011.0                   2009.0             2009   \n",
              "3                       2005.0                   2004.0             2004   \n",
              "4                       2010.0                   2008.0             2008   \n",
              "\n",
              "  LICENSE APPROVED FOR ISSUANCE YEAR LICENSE STATUS CHANGE YEAR  \n",
              "0                             2002.0                        NaN  \n",
              "1                             2006.0                     2006.0  \n",
              "2                             2009.0                        NaN  \n",
              "3                             2004.0                        NaN  \n",
              "4                             2008.0                        NaN  \n",
              "\n",
              "[5 rows x 32 columns]"
            ],
            "text/html": [
              "\n",
              "  <div id=\"df-63675995-dfd3-431c-af79-deb766f9da5c\">\n",
              "    <div class=\"colab-df-container\">\n",
              "      <div>\n",
              "<style scoped>\n",
              "    .dataframe tbody tr th:only-of-type {\n",
              "        vertical-align: middle;\n",
              "    }\n",
              "\n",
              "    .dataframe tbody tr th {\n",
              "        vertical-align: top;\n",
              "    }\n",
              "\n",
              "    .dataframe thead th {\n",
              "        text-align: right;\n",
              "    }\n",
              "</style>\n",
              "<table border=\"1\" class=\"dataframe\">\n",
              "  <thead>\n",
              "    <tr style=\"text-align: right;\">\n",
              "      <th></th>\n",
              "      <th>ID</th>\n",
              "      <th>LICENSE ID</th>\n",
              "      <th>ACCOUNT NUMBER</th>\n",
              "      <th>SITE NUMBER</th>\n",
              "      <th>LEGAL NAME</th>\n",
              "      <th>DOING BUSINESS AS NAME</th>\n",
              "      <th>ADDRESS</th>\n",
              "      <th>CITY</th>\n",
              "      <th>STATE</th>\n",
              "      <th>ZIP CODE</th>\n",
              "      <th>...</th>\n",
              "      <th>LONGITUDE</th>\n",
              "      <th>LOCATION</th>\n",
              "      <th>LICENSE STATUS</th>\n",
              "      <th>APPLICATION REQUIREMENTS COMPLETE YEAR</th>\n",
              "      <th>PAYMENT YEAR</th>\n",
              "      <th>LICENSE TERM EXPIRATION YEAR</th>\n",
              "      <th>LICENSE TERM START YEAR</th>\n",
              "      <th>DATE ISSUED YEAR</th>\n",
              "      <th>LICENSE APPROVED FOR ISSUANCE YEAR</th>\n",
              "      <th>LICENSE STATUS CHANGE YEAR</th>\n",
              "    </tr>\n",
              "  </thead>\n",
              "  <tbody>\n",
              "    <tr>\n",
              "      <th>0</th>\n",
              "      <td>35342-20020816</td>\n",
              "      <td>1256593</td>\n",
              "      <td>32811</td>\n",
              "      <td>1</td>\n",
              "      <td>CARMEN CAHUE</td>\n",
              "      <td>CLAUDIA'S BRIDAL SHOP</td>\n",
              "      <td>2625 S CENTRAL PARK AVE  1</td>\n",
              "      <td>CHICAGO</td>\n",
              "      <td>IL</td>\n",
              "      <td>60623.0</td>\n",
              "      <td>...</td>\n",
              "      <td>-87.714618</td>\n",
              "      <td>{'latitude': '41.843612879431845', 'longitude'...</td>\n",
              "      <td>AAI</td>\n",
              "      <td>2002.0</td>\n",
              "      <td>2002.0</td>\n",
              "      <td>2003.0</td>\n",
              "      <td>2002.0</td>\n",
              "      <td>2006</td>\n",
              "      <td>2002.0</td>\n",
              "      <td>NaN</td>\n",
              "    </tr>\n",
              "    <tr>\n",
              "      <th>1</th>\n",
              "      <td>1358463-20051116</td>\n",
              "      <td>1639294</td>\n",
              "      <td>262311</td>\n",
              "      <td>29</td>\n",
              "      <td>ISLA TROPICAL, INC.</td>\n",
              "      <td>ISLA TROPICAL</td>\n",
              "      <td>2825 W MONTROSE AVE</td>\n",
              "      <td>CHICAGO</td>\n",
              "      <td>IL</td>\n",
              "      <td>60618</td>\n",
              "      <td>...</td>\n",
              "      <td>-87.699626</td>\n",
              "      <td>{'latitude': '41.96113244107215', 'longitude':...</td>\n",
              "      <td>AAC</td>\n",
              "      <td>2005.0</td>\n",
              "      <td>2005.0</td>\n",
              "      <td>2006.0</td>\n",
              "      <td>2005.0</td>\n",
              "      <td>2006</td>\n",
              "      <td>2006.0</td>\n",
              "      <td>2006.0</td>\n",
              "    </tr>\n",
              "    <tr>\n",
              "      <th>2</th>\n",
              "      <td>1980233-20090722</td>\n",
              "      <td>1980233</td>\n",
              "      <td>345008</td>\n",
              "      <td>1</td>\n",
              "      <td>DJS REMODELING</td>\n",
              "      <td>DJS REMODELING, INC.</td>\n",
              "      <td>1605  CLAVEY RD 1</td>\n",
              "      <td>HIGHLAND</td>\n",
              "      <td>IL</td>\n",
              "      <td>60035</td>\n",
              "      <td>...</td>\n",
              "      <td>NaN</td>\n",
              "      <td>NaN</td>\n",
              "      <td>AAI</td>\n",
              "      <td>2009.0</td>\n",
              "      <td>2009.0</td>\n",
              "      <td>2011.0</td>\n",
              "      <td>2009.0</td>\n",
              "      <td>2009</td>\n",
              "      <td>2009.0</td>\n",
              "      <td>NaN</td>\n",
              "    </tr>\n",
              "    <tr>\n",
              "      <th>3</th>\n",
              "      <td>1476582-20040211</td>\n",
              "      <td>1476582</td>\n",
              "      <td>273121</td>\n",
              "      <td>1</td>\n",
              "      <td>ALL-BRY CONSTRUCTION CO.</td>\n",
              "      <td>ALL-BRY CONSTRUCTION CO.</td>\n",
              "      <td>8  NORTH TRAIL</td>\n",
              "      <td>LEMONT</td>\n",
              "      <td>IL</td>\n",
              "      <td>60439</td>\n",
              "      <td>...</td>\n",
              "      <td>NaN</td>\n",
              "      <td>NaN</td>\n",
              "      <td>AAI</td>\n",
              "      <td>2004.0</td>\n",
              "      <td>2004.0</td>\n",
              "      <td>2005.0</td>\n",
              "      <td>2004.0</td>\n",
              "      <td>2004</td>\n",
              "      <td>2004.0</td>\n",
              "      <td>NaN</td>\n",
              "    </tr>\n",
              "    <tr>\n",
              "      <th>4</th>\n",
              "      <td>1141408-20080516</td>\n",
              "      <td>1896750</td>\n",
              "      <td>213785</td>\n",
              "      <td>1</td>\n",
              "      <td>MCDONOUGH MECHANICAL SERVICE</td>\n",
              "      <td>MCDONOUGH MECHANICAL SERVICE</td>\n",
              "      <td>4081  JOSEPH DR</td>\n",
              "      <td>WAUKEGAN</td>\n",
              "      <td>IL</td>\n",
              "      <td>60087</td>\n",
              "      <td>...</td>\n",
              "      <td>NaN</td>\n",
              "      <td>NaN</td>\n",
              "      <td>AAI</td>\n",
              "      <td>2008.0</td>\n",
              "      <td>2008.0</td>\n",
              "      <td>2010.0</td>\n",
              "      <td>2008.0</td>\n",
              "      <td>2008</td>\n",
              "      <td>2008.0</td>\n",
              "      <td>NaN</td>\n",
              "    </tr>\n",
              "  </tbody>\n",
              "</table>\n",
              "<p>5 rows × 32 columns</p>\n",
              "</div>\n",
              "      <button class=\"colab-df-convert\" onclick=\"convertToInteractive('df-63675995-dfd3-431c-af79-deb766f9da5c')\"\n",
              "              title=\"Convert this dataframe to an interactive table.\"\n",
              "              style=\"display:none;\">\n",
              "        \n",
              "  <svg xmlns=\"http://www.w3.org/2000/svg\" height=\"24px\"viewBox=\"0 0 24 24\"\n",
              "       width=\"24px\">\n",
              "    <path d=\"M0 0h24v24H0V0z\" fill=\"none\"/>\n",
              "    <path d=\"M18.56 5.44l.94 2.06.94-2.06 2.06-.94-2.06-.94-.94-2.06-.94 2.06-2.06.94zm-11 1L8.5 8.5l.94-2.06 2.06-.94-2.06-.94L8.5 2.5l-.94 2.06-2.06.94zm10 10l.94 2.06.94-2.06 2.06-.94-2.06-.94-.94-2.06-.94 2.06-2.06.94z\"/><path d=\"M17.41 7.96l-1.37-1.37c-.4-.4-.92-.59-1.43-.59-.52 0-1.04.2-1.43.59L10.3 9.45l-7.72 7.72c-.78.78-.78 2.05 0 2.83L4 21.41c.39.39.9.59 1.41.59.51 0 1.02-.2 1.41-.59l7.78-7.78 2.81-2.81c.8-.78.8-2.07 0-2.86zM5.41 20L4 18.59l7.72-7.72 1.47 1.35L5.41 20z\"/>\n",
              "  </svg>\n",
              "      </button>\n",
              "      \n",
              "  <style>\n",
              "    .colab-df-container {\n",
              "      display:flex;\n",
              "      flex-wrap:wrap;\n",
              "      gap: 12px;\n",
              "    }\n",
              "\n",
              "    .colab-df-convert {\n",
              "      background-color: #E8F0FE;\n",
              "      border: none;\n",
              "      border-radius: 50%;\n",
              "      cursor: pointer;\n",
              "      display: none;\n",
              "      fill: #1967D2;\n",
              "      height: 32px;\n",
              "      padding: 0 0 0 0;\n",
              "      width: 32px;\n",
              "    }\n",
              "\n",
              "    .colab-df-convert:hover {\n",
              "      background-color: #E2EBFA;\n",
              "      box-shadow: 0px 1px 2px rgba(60, 64, 67, 0.3), 0px 1px 3px 1px rgba(60, 64, 67, 0.15);\n",
              "      fill: #174EA6;\n",
              "    }\n",
              "\n",
              "    [theme=dark] .colab-df-convert {\n",
              "      background-color: #3B4455;\n",
              "      fill: #D2E3FC;\n",
              "    }\n",
              "\n",
              "    [theme=dark] .colab-df-convert:hover {\n",
              "      background-color: #434B5C;\n",
              "      box-shadow: 0px 1px 3px 1px rgba(0, 0, 0, 0.15);\n",
              "      filter: drop-shadow(0px 1px 2px rgba(0, 0, 0, 0.3));\n",
              "      fill: #FFFFFF;\n",
              "    }\n",
              "  </style>\n",
              "\n",
              "      <script>\n",
              "        const buttonEl =\n",
              "          document.querySelector('#df-63675995-dfd3-431c-af79-deb766f9da5c button.colab-df-convert');\n",
              "        buttonEl.style.display =\n",
              "          google.colab.kernel.accessAllowed ? 'block' : 'none';\n",
              "\n",
              "        async function convertToInteractive(key) {\n",
              "          const element = document.querySelector('#df-63675995-dfd3-431c-af79-deb766f9da5c');\n",
              "          const dataTable =\n",
              "            await google.colab.kernel.invokeFunction('convertToInteractive',\n",
              "                                                     [key], {});\n",
              "          if (!dataTable) return;\n",
              "\n",
              "          const docLinkHtml = 'Like what you see? Visit the ' +\n",
              "            '<a target=\"_blank\" href=https://colab.research.google.com/notebooks/data_table.ipynb>data table notebook</a>'\n",
              "            + ' to learn more about interactive tables.';\n",
              "          element.innerHTML = '';\n",
              "          dataTable['output_type'] = 'display_data';\n",
              "          await google.colab.output.renderOutput(dataTable, element);\n",
              "          const docLink = document.createElement('div');\n",
              "          docLink.innerHTML = docLinkHtml;\n",
              "          element.appendChild(docLink);\n",
              "        }\n",
              "      </script>\n",
              "    </div>\n",
              "  </div>\n",
              "  "
            ]
          },
          "metadata": {},
          "execution_count": 20
        }
      ]
    },
    {
      "cell_type": "code",
      "source": [
        "date_mode = ['LICENSE TERM EXPIRATION YEAR', 'LICENSE TERM START YEAR', 'PAYMENT YEAR', 'LICENSE APPROVED FOR ISSUANCE YEAR',\n",
        "                 'APPLICATION REQUIREMENTS COMPLETE YEAR', 'LICENSE STATUS CHANGE YEAR']\n",
        "fillnull(date_mode) \n",
        "test.head()            "
      ],
      "metadata": {
        "colab": {
          "base_uri": "https://localhost:8080/",
          "height": 542
        },
        "id": "ykoqvlBcf6V3",
        "outputId": "7b5998d9-0492-41a8-db35-cde9b0530a9f"
      },
      "execution_count": 21,
      "outputs": [
        {
          "output_type": "execute_result",
          "data": {
            "text/plain": [
              "                 ID  LICENSE ID  ACCOUNT NUMBER  SITE NUMBER  \\\n",
              "0  1516615-20120216     2132209          280120            1   \n",
              "1    69813-20110616     2090759           65043            1   \n",
              "2  1519227-20041116     1541990          281270            1   \n",
              "3  1922025-20100816     2041053          335243            1   \n",
              "4  1675683-20070816     1837158          283018            3   \n",
              "\n",
              "               LEGAL NAME DOING BUSINESS AS NAME                   ADDRESS  \\\n",
              "0          RS HOMES I LLC         RS HOMES I LLC    350 W HUBBARD ST 3 300   \n",
              "1      CSX INTERMODAL INC         CSX INTERMODAL        2101 W 59TH ST 1ST   \n",
              "2   LOCOMIBILE  LOFTS LLC   LOCOMOBILE LOFTS LLC     1133 S WABASH AVE 1ST   \n",
              "3         ANNA F. JAMISON        ANNA F. JAMISON  13156 S FORRESTVILLE AVE   \n",
              "4  MARINCA A. COVARRUBIAS                DETAILS         4208 S ARCHER AVE   \n",
              "\n",
              "      CITY STATE  ZIP CODE  ...   LATITUDE  LONGITUDE  \\\n",
              "0  CHICAGO    IL   60610.0  ...  41.890047 -87.637467   \n",
              "1  CHICAGO    IL   60636.0  ...  41.786485 -87.676665   \n",
              "2  CHICAGO    IL   60605.0  ...  41.868269 -87.625695   \n",
              "3  CHICAGO    IL   60827.0  ...  41.655762 -87.608686   \n",
              "4  CHICAGO    IL   60632.0  ...  41.816969 -87.699785   \n",
              "\n",
              "                                            LOCATION  \\\n",
              "0  {'latitude': '41.89004724888915', 'longitude':...   \n",
              "1  {'latitude': '41.786485235679486', 'longitude'...   \n",
              "2  {'latitude': '41.86826924843568', 'longitude':...   \n",
              "3  {'latitude': '41.65576175146191', 'longitude':...   \n",
              "4  {'latitude': '41.81696910012824', 'longitude':...   \n",
              "\n",
              "   APPLICATION REQUIREMENTS COMPLETE YEAR  PAYMENT YEAR  \\\n",
              "0                                  2011.0        2012.0   \n",
              "1                                  2011.0        2012.0   \n",
              "2                                  2004.0        2004.0   \n",
              "3                                  2010.0        2010.0   \n",
              "4                                  2007.0        2007.0   \n",
              "\n",
              "  LICENSE TERM EXPIRATION YEAR  LICENSE TERM START YEAR DATE ISSUED YEAR  \\\n",
              "0                       2014.0                   2012.0             2012   \n",
              "1                       2013.0                   2011.0             2012   \n",
              "2                       2005.0                   2004.0             2004   \n",
              "3                       2012.0                   2010.0             2010   \n",
              "4                       2009.0                   2007.0             2007   \n",
              "\n",
              "  LICENSE APPROVED FOR ISSUANCE YEAR LICENSE STATUS CHANGE YEAR  \n",
              "0                             2012.0                     2012.0  \n",
              "1                             2012.0                     2012.0  \n",
              "2                             2004.0                     2012.0  \n",
              "3                             2008.0                     2012.0  \n",
              "4                             2007.0                     2008.0  \n",
              "\n",
              "[5 rows x 31 columns]"
            ],
            "text/html": [
              "\n",
              "  <div id=\"df-f1d05e21-9d7a-453a-907b-82c80c45e1ed\">\n",
              "    <div class=\"colab-df-container\">\n",
              "      <div>\n",
              "<style scoped>\n",
              "    .dataframe tbody tr th:only-of-type {\n",
              "        vertical-align: middle;\n",
              "    }\n",
              "\n",
              "    .dataframe tbody tr th {\n",
              "        vertical-align: top;\n",
              "    }\n",
              "\n",
              "    .dataframe thead th {\n",
              "        text-align: right;\n",
              "    }\n",
              "</style>\n",
              "<table border=\"1\" class=\"dataframe\">\n",
              "  <thead>\n",
              "    <tr style=\"text-align: right;\">\n",
              "      <th></th>\n",
              "      <th>ID</th>\n",
              "      <th>LICENSE ID</th>\n",
              "      <th>ACCOUNT NUMBER</th>\n",
              "      <th>SITE NUMBER</th>\n",
              "      <th>LEGAL NAME</th>\n",
              "      <th>DOING BUSINESS AS NAME</th>\n",
              "      <th>ADDRESS</th>\n",
              "      <th>CITY</th>\n",
              "      <th>STATE</th>\n",
              "      <th>ZIP CODE</th>\n",
              "      <th>...</th>\n",
              "      <th>LATITUDE</th>\n",
              "      <th>LONGITUDE</th>\n",
              "      <th>LOCATION</th>\n",
              "      <th>APPLICATION REQUIREMENTS COMPLETE YEAR</th>\n",
              "      <th>PAYMENT YEAR</th>\n",
              "      <th>LICENSE TERM EXPIRATION YEAR</th>\n",
              "      <th>LICENSE TERM START YEAR</th>\n",
              "      <th>DATE ISSUED YEAR</th>\n",
              "      <th>LICENSE APPROVED FOR ISSUANCE YEAR</th>\n",
              "      <th>LICENSE STATUS CHANGE YEAR</th>\n",
              "    </tr>\n",
              "  </thead>\n",
              "  <tbody>\n",
              "    <tr>\n",
              "      <th>0</th>\n",
              "      <td>1516615-20120216</td>\n",
              "      <td>2132209</td>\n",
              "      <td>280120</td>\n",
              "      <td>1</td>\n",
              "      <td>RS HOMES I LLC</td>\n",
              "      <td>RS HOMES I LLC</td>\n",
              "      <td>350 W HUBBARD ST 3 300</td>\n",
              "      <td>CHICAGO</td>\n",
              "      <td>IL</td>\n",
              "      <td>60610.0</td>\n",
              "      <td>...</td>\n",
              "      <td>41.890047</td>\n",
              "      <td>-87.637467</td>\n",
              "      <td>{'latitude': '41.89004724888915', 'longitude':...</td>\n",
              "      <td>2011.0</td>\n",
              "      <td>2012.0</td>\n",
              "      <td>2014.0</td>\n",
              "      <td>2012.0</td>\n",
              "      <td>2012</td>\n",
              "      <td>2012.0</td>\n",
              "      <td>2012.0</td>\n",
              "    </tr>\n",
              "    <tr>\n",
              "      <th>1</th>\n",
              "      <td>69813-20110616</td>\n",
              "      <td>2090759</td>\n",
              "      <td>65043</td>\n",
              "      <td>1</td>\n",
              "      <td>CSX INTERMODAL INC</td>\n",
              "      <td>CSX INTERMODAL</td>\n",
              "      <td>2101 W 59TH ST 1ST</td>\n",
              "      <td>CHICAGO</td>\n",
              "      <td>IL</td>\n",
              "      <td>60636.0</td>\n",
              "      <td>...</td>\n",
              "      <td>41.786485</td>\n",
              "      <td>-87.676665</td>\n",
              "      <td>{'latitude': '41.786485235679486', 'longitude'...</td>\n",
              "      <td>2011.0</td>\n",
              "      <td>2012.0</td>\n",
              "      <td>2013.0</td>\n",
              "      <td>2011.0</td>\n",
              "      <td>2012</td>\n",
              "      <td>2012.0</td>\n",
              "      <td>2012.0</td>\n",
              "    </tr>\n",
              "    <tr>\n",
              "      <th>2</th>\n",
              "      <td>1519227-20041116</td>\n",
              "      <td>1541990</td>\n",
              "      <td>281270</td>\n",
              "      <td>1</td>\n",
              "      <td>LOCOMIBILE  LOFTS LLC</td>\n",
              "      <td>LOCOMOBILE LOFTS LLC</td>\n",
              "      <td>1133 S WABASH AVE 1ST</td>\n",
              "      <td>CHICAGO</td>\n",
              "      <td>IL</td>\n",
              "      <td>60605.0</td>\n",
              "      <td>...</td>\n",
              "      <td>41.868269</td>\n",
              "      <td>-87.625695</td>\n",
              "      <td>{'latitude': '41.86826924843568', 'longitude':...</td>\n",
              "      <td>2004.0</td>\n",
              "      <td>2004.0</td>\n",
              "      <td>2005.0</td>\n",
              "      <td>2004.0</td>\n",
              "      <td>2004</td>\n",
              "      <td>2004.0</td>\n",
              "      <td>2012.0</td>\n",
              "    </tr>\n",
              "    <tr>\n",
              "      <th>3</th>\n",
              "      <td>1922025-20100816</td>\n",
              "      <td>2041053</td>\n",
              "      <td>335243</td>\n",
              "      <td>1</td>\n",
              "      <td>ANNA F. JAMISON</td>\n",
              "      <td>ANNA F. JAMISON</td>\n",
              "      <td>13156 S FORRESTVILLE AVE</td>\n",
              "      <td>CHICAGO</td>\n",
              "      <td>IL</td>\n",
              "      <td>60827.0</td>\n",
              "      <td>...</td>\n",
              "      <td>41.655762</td>\n",
              "      <td>-87.608686</td>\n",
              "      <td>{'latitude': '41.65576175146191', 'longitude':...</td>\n",
              "      <td>2010.0</td>\n",
              "      <td>2010.0</td>\n",
              "      <td>2012.0</td>\n",
              "      <td>2010.0</td>\n",
              "      <td>2010</td>\n",
              "      <td>2008.0</td>\n",
              "      <td>2012.0</td>\n",
              "    </tr>\n",
              "    <tr>\n",
              "      <th>4</th>\n",
              "      <td>1675683-20070816</td>\n",
              "      <td>1837158</td>\n",
              "      <td>283018</td>\n",
              "      <td>3</td>\n",
              "      <td>MARINCA A. COVARRUBIAS</td>\n",
              "      <td>DETAILS</td>\n",
              "      <td>4208 S ARCHER AVE</td>\n",
              "      <td>CHICAGO</td>\n",
              "      <td>IL</td>\n",
              "      <td>60632.0</td>\n",
              "      <td>...</td>\n",
              "      <td>41.816969</td>\n",
              "      <td>-87.699785</td>\n",
              "      <td>{'latitude': '41.81696910012824', 'longitude':...</td>\n",
              "      <td>2007.0</td>\n",
              "      <td>2007.0</td>\n",
              "      <td>2009.0</td>\n",
              "      <td>2007.0</td>\n",
              "      <td>2007</td>\n",
              "      <td>2007.0</td>\n",
              "      <td>2008.0</td>\n",
              "    </tr>\n",
              "  </tbody>\n",
              "</table>\n",
              "<p>5 rows × 31 columns</p>\n",
              "</div>\n",
              "      <button class=\"colab-df-convert\" onclick=\"convertToInteractive('df-f1d05e21-9d7a-453a-907b-82c80c45e1ed')\"\n",
              "              title=\"Convert this dataframe to an interactive table.\"\n",
              "              style=\"display:none;\">\n",
              "        \n",
              "  <svg xmlns=\"http://www.w3.org/2000/svg\" height=\"24px\"viewBox=\"0 0 24 24\"\n",
              "       width=\"24px\">\n",
              "    <path d=\"M0 0h24v24H0V0z\" fill=\"none\"/>\n",
              "    <path d=\"M18.56 5.44l.94 2.06.94-2.06 2.06-.94-2.06-.94-.94-2.06-.94 2.06-2.06.94zm-11 1L8.5 8.5l.94-2.06 2.06-.94-2.06-.94L8.5 2.5l-.94 2.06-2.06.94zm10 10l.94 2.06.94-2.06 2.06-.94-2.06-.94-.94-2.06-.94 2.06-2.06.94z\"/><path d=\"M17.41 7.96l-1.37-1.37c-.4-.4-.92-.59-1.43-.59-.52 0-1.04.2-1.43.59L10.3 9.45l-7.72 7.72c-.78.78-.78 2.05 0 2.83L4 21.41c.39.39.9.59 1.41.59.51 0 1.02-.2 1.41-.59l7.78-7.78 2.81-2.81c.8-.78.8-2.07 0-2.86zM5.41 20L4 18.59l7.72-7.72 1.47 1.35L5.41 20z\"/>\n",
              "  </svg>\n",
              "      </button>\n",
              "      \n",
              "  <style>\n",
              "    .colab-df-container {\n",
              "      display:flex;\n",
              "      flex-wrap:wrap;\n",
              "      gap: 12px;\n",
              "    }\n",
              "\n",
              "    .colab-df-convert {\n",
              "      background-color: #E8F0FE;\n",
              "      border: none;\n",
              "      border-radius: 50%;\n",
              "      cursor: pointer;\n",
              "      display: none;\n",
              "      fill: #1967D2;\n",
              "      height: 32px;\n",
              "      padding: 0 0 0 0;\n",
              "      width: 32px;\n",
              "    }\n",
              "\n",
              "    .colab-df-convert:hover {\n",
              "      background-color: #E2EBFA;\n",
              "      box-shadow: 0px 1px 2px rgba(60, 64, 67, 0.3), 0px 1px 3px 1px rgba(60, 64, 67, 0.15);\n",
              "      fill: #174EA6;\n",
              "    }\n",
              "\n",
              "    [theme=dark] .colab-df-convert {\n",
              "      background-color: #3B4455;\n",
              "      fill: #D2E3FC;\n",
              "    }\n",
              "\n",
              "    [theme=dark] .colab-df-convert:hover {\n",
              "      background-color: #434B5C;\n",
              "      box-shadow: 0px 1px 3px 1px rgba(0, 0, 0, 0.15);\n",
              "      filter: drop-shadow(0px 1px 2px rgba(0, 0, 0, 0.3));\n",
              "      fill: #FFFFFF;\n",
              "    }\n",
              "  </style>\n",
              "\n",
              "      <script>\n",
              "        const buttonEl =\n",
              "          document.querySelector('#df-f1d05e21-9d7a-453a-907b-82c80c45e1ed button.colab-df-convert');\n",
              "        buttonEl.style.display =\n",
              "          google.colab.kernel.accessAllowed ? 'block' : 'none';\n",
              "\n",
              "        async function convertToInteractive(key) {\n",
              "          const element = document.querySelector('#df-f1d05e21-9d7a-453a-907b-82c80c45e1ed');\n",
              "          const dataTable =\n",
              "            await google.colab.kernel.invokeFunction('convertToInteractive',\n",
              "                                                     [key], {});\n",
              "          if (!dataTable) return;\n",
              "\n",
              "          const docLinkHtml = 'Like what you see? Visit the ' +\n",
              "            '<a target=\"_blank\" href=https://colab.research.google.com/notebooks/data_table.ipynb>data table notebook</a>'\n",
              "            + ' to learn more about interactive tables.';\n",
              "          element.innerHTML = '';\n",
              "          dataTable['output_type'] = 'display_data';\n",
              "          await google.colab.output.renderOutput(dataTable, element);\n",
              "          const docLink = document.createElement('div');\n",
              "          docLink.innerHTML = docLinkHtml;\n",
              "          element.appendChild(docLink);\n",
              "        }\n",
              "      </script>\n",
              "    </div>\n",
              "  </div>\n",
              "  "
            ]
          },
          "metadata": {},
          "execution_count": 21
        }
      ]
    },
    {
      "cell_type": "code",
      "source": [
        "def fillnull_(fillnull_col):\n",
        "  for i in fillnull_col:\n",
        "    train[i]=train[i].fillna(value=train[i].mean())\n",
        "    test[i]=test[i].fillna(value=test[i].mean())"
      ],
      "metadata": {
        "id": "YBPpLaaY_sMT"
      },
      "execution_count": 23,
      "outputs": []
    },
    {
      "cell_type": "markdown",
      "source": [
        "### Lat and Long values replaced by mean"
      ],
      "metadata": {
        "id": "HxB85JxzZhIo"
      }
    },
    {
      "cell_type": "code",
      "source": [
        "fill_list=['LATITUDE', 'LONGITUDE']\n",
        "fillnull_(fill_list)"
      ],
      "metadata": {
        "id": "AaJRL1UJDGVU"
      },
      "execution_count": 24,
      "outputs": []
    },
    {
      "cell_type": "code",
      "source": [
        "train.isnull().sum().sort_values(ascending=False) * 100 / len(train)"
      ],
      "metadata": {
        "colab": {
          "base_uri": "https://localhost:8080/"
        },
        "id": "I2D-vXIHhwWh",
        "outputId": "b0b3a1aa-f490-4647-862e-ad2b48087f9a"
      },
      "execution_count": 25,
      "outputs": [
        {
          "output_type": "execute_result",
          "data": {
            "text/plain": [
              "SSA                                       88.999360\n",
              "APPLICATION CREATED DATE                  75.277956\n",
              "PRECINCT                                  66.011991\n",
              "POLICE DISTRICT                           62.881425\n",
              "WARD                                      57.862507\n",
              "WARD PRECINCT                             57.861342\n",
              "LOCATION                                  55.004366\n",
              "ZIP CODE                                   0.036091\n",
              "DOING BUSINESS AS NAME                     0.001164\n",
              "LICENSE NUMBER                             0.001164\n",
              "APPLICATION REQUIREMENTS COMPLETE YEAR     0.000000\n",
              "PAYMENT YEAR                               0.000000\n",
              "LICENSE TERM EXPIRATION YEAR               0.000000\n",
              "LICENSE TERM START YEAR                    0.000000\n",
              "DATE ISSUED YEAR                           0.000000\n",
              "LICENSE STATUS                             0.000000\n",
              "LICENSE APPROVED FOR ISSUANCE YEAR         0.000000\n",
              "LONGITUDE                                  0.000000\n",
              "LATITUDE                                   0.000000\n",
              "ID                                         0.000000\n",
              "CONDITIONAL APPROVAL                       0.000000\n",
              "APPLICATION TYPE                           0.000000\n",
              "LICENSE ID                                 0.000000\n",
              "LICENSE DESCRIPTION                        0.000000\n",
              "LICENSE CODE                               0.000000\n",
              "STATE                                      0.000000\n",
              "CITY                                       0.000000\n",
              "ADDRESS                                    0.000000\n",
              "LEGAL NAME                                 0.000000\n",
              "SITE NUMBER                                0.000000\n",
              "ACCOUNT NUMBER                             0.000000\n",
              "LICENSE STATUS CHANGE YEAR                 0.000000\n",
              "dtype: float64"
            ]
          },
          "metadata": {},
          "execution_count": 25
        }
      ]
    },
    {
      "cell_type": "markdown",
      "source": [
        "### Null values are more than 50% ,so I dropped"
      ],
      "metadata": {
        "id": "8ECATzHJaDj6"
      }
    },
    {
      "cell_type": "code",
      "source": [
        "drop = ['APPLICATION CREATED DATE', 'SSA', 'LICENSE ID']"
      ],
      "metadata": {
        "id": "-Mb7oDNMmPIn"
      },
      "execution_count": 26,
      "outputs": []
    },
    {
      "cell_type": "code",
      "source": [
        "train = train.drop(drop, axis=1)\n",
        "test = test.drop(drop, axis=1)"
      ],
      "metadata": {
        "id": "f2Ptjg48J9UM"
      },
      "execution_count": 27,
      "outputs": []
    },
    {
      "cell_type": "code",
      "source": [
        "train.head()"
      ],
      "metadata": {
        "colab": {
          "base_uri": "https://localhost:8080/",
          "height": 542
        },
        "id": "PWzgLpUO9RRC",
        "outputId": "3b7e0852-3407-4298-edde-4620b6e35b1a"
      },
      "execution_count": 28,
      "outputs": [
        {
          "output_type": "execute_result",
          "data": {
            "text/plain": [
              "                 ID  ACCOUNT NUMBER  SITE NUMBER  \\\n",
              "0    35342-20020816           32811            1   \n",
              "1  1358463-20051116          262311           29   \n",
              "2  1980233-20090722          345008            1   \n",
              "3  1476582-20040211          273121            1   \n",
              "4  1141408-20080516          213785            1   \n",
              "\n",
              "                     LEGAL NAME        DOING BUSINESS AS NAME  \\\n",
              "0                  CARMEN CAHUE         CLAUDIA'S BRIDAL SHOP   \n",
              "1           ISLA TROPICAL, INC.                 ISLA TROPICAL   \n",
              "2                DJS REMODELING          DJS REMODELING, INC.   \n",
              "3      ALL-BRY CONSTRUCTION CO.      ALL-BRY CONSTRUCTION CO.   \n",
              "4  MCDONOUGH MECHANICAL SERVICE  MCDONOUGH MECHANICAL SERVICE   \n",
              "\n",
              "                      ADDRESS      CITY STATE ZIP CODE  WARD  ...  LONGITUDE  \\\n",
              "0  2625 S CENTRAL PARK AVE  1   CHICAGO    IL  60623.0  22.0  ... -87.714618   \n",
              "1         2825 W MONTROSE AVE   CHICAGO    IL    60618  33.0  ... -87.699626   \n",
              "2           1605  CLAVEY RD 1  HIGHLAND    IL    60035   NaN  ... -87.681165   \n",
              "3              8  NORTH TRAIL    LEMONT    IL    60439   NaN  ... -87.681165   \n",
              "4             4081  JOSEPH DR  WAUKEGAN    IL    60087   NaN  ... -87.681165   \n",
              "\n",
              "                                            LOCATION  LICENSE STATUS  \\\n",
              "0  {'latitude': '41.843612879431845', 'longitude'...             AAI   \n",
              "1  {'latitude': '41.96113244107215', 'longitude':...             AAC   \n",
              "2                                                NaN             AAI   \n",
              "3                                                NaN             AAI   \n",
              "4                                                NaN             AAI   \n",
              "\n",
              "   APPLICATION REQUIREMENTS COMPLETE YEAR PAYMENT YEAR  \\\n",
              "0                                  2002.0       2002.0   \n",
              "1                                  2005.0       2005.0   \n",
              "2                                  2009.0       2009.0   \n",
              "3                                  2004.0       2004.0   \n",
              "4                                  2008.0       2008.0   \n",
              "\n",
              "   LICENSE TERM EXPIRATION YEAR LICENSE TERM START YEAR DATE ISSUED YEAR  \\\n",
              "0                        2003.0                  2002.0             2006   \n",
              "1                        2006.0                  2005.0             2006   \n",
              "2                        2011.0                  2009.0             2009   \n",
              "3                        2005.0                  2004.0             2004   \n",
              "4                        2010.0                  2008.0             2008   \n",
              "\n",
              "   LICENSE APPROVED FOR ISSUANCE YEAR  LICENSE STATUS CHANGE YEAR  \n",
              "0                              2002.0                      2012.0  \n",
              "1                              2006.0                      2006.0  \n",
              "2                              2009.0                      2012.0  \n",
              "3                              2004.0                      2012.0  \n",
              "4                              2008.0                      2012.0  \n",
              "\n",
              "[5 rows x 29 columns]"
            ],
            "text/html": [
              "\n",
              "  <div id=\"df-3ac8a896-86e8-4869-9de0-86e87f3ca785\">\n",
              "    <div class=\"colab-df-container\">\n",
              "      <div>\n",
              "<style scoped>\n",
              "    .dataframe tbody tr th:only-of-type {\n",
              "        vertical-align: middle;\n",
              "    }\n",
              "\n",
              "    .dataframe tbody tr th {\n",
              "        vertical-align: top;\n",
              "    }\n",
              "\n",
              "    .dataframe thead th {\n",
              "        text-align: right;\n",
              "    }\n",
              "</style>\n",
              "<table border=\"1\" class=\"dataframe\">\n",
              "  <thead>\n",
              "    <tr style=\"text-align: right;\">\n",
              "      <th></th>\n",
              "      <th>ID</th>\n",
              "      <th>ACCOUNT NUMBER</th>\n",
              "      <th>SITE NUMBER</th>\n",
              "      <th>LEGAL NAME</th>\n",
              "      <th>DOING BUSINESS AS NAME</th>\n",
              "      <th>ADDRESS</th>\n",
              "      <th>CITY</th>\n",
              "      <th>STATE</th>\n",
              "      <th>ZIP CODE</th>\n",
              "      <th>WARD</th>\n",
              "      <th>...</th>\n",
              "      <th>LONGITUDE</th>\n",
              "      <th>LOCATION</th>\n",
              "      <th>LICENSE STATUS</th>\n",
              "      <th>APPLICATION REQUIREMENTS COMPLETE YEAR</th>\n",
              "      <th>PAYMENT YEAR</th>\n",
              "      <th>LICENSE TERM EXPIRATION YEAR</th>\n",
              "      <th>LICENSE TERM START YEAR</th>\n",
              "      <th>DATE ISSUED YEAR</th>\n",
              "      <th>LICENSE APPROVED FOR ISSUANCE YEAR</th>\n",
              "      <th>LICENSE STATUS CHANGE YEAR</th>\n",
              "    </tr>\n",
              "  </thead>\n",
              "  <tbody>\n",
              "    <tr>\n",
              "      <th>0</th>\n",
              "      <td>35342-20020816</td>\n",
              "      <td>32811</td>\n",
              "      <td>1</td>\n",
              "      <td>CARMEN CAHUE</td>\n",
              "      <td>CLAUDIA'S BRIDAL SHOP</td>\n",
              "      <td>2625 S CENTRAL PARK AVE  1</td>\n",
              "      <td>CHICAGO</td>\n",
              "      <td>IL</td>\n",
              "      <td>60623.0</td>\n",
              "      <td>22.0</td>\n",
              "      <td>...</td>\n",
              "      <td>-87.714618</td>\n",
              "      <td>{'latitude': '41.843612879431845', 'longitude'...</td>\n",
              "      <td>AAI</td>\n",
              "      <td>2002.0</td>\n",
              "      <td>2002.0</td>\n",
              "      <td>2003.0</td>\n",
              "      <td>2002.0</td>\n",
              "      <td>2006</td>\n",
              "      <td>2002.0</td>\n",
              "      <td>2012.0</td>\n",
              "    </tr>\n",
              "    <tr>\n",
              "      <th>1</th>\n",
              "      <td>1358463-20051116</td>\n",
              "      <td>262311</td>\n",
              "      <td>29</td>\n",
              "      <td>ISLA TROPICAL, INC.</td>\n",
              "      <td>ISLA TROPICAL</td>\n",
              "      <td>2825 W MONTROSE AVE</td>\n",
              "      <td>CHICAGO</td>\n",
              "      <td>IL</td>\n",
              "      <td>60618</td>\n",
              "      <td>33.0</td>\n",
              "      <td>...</td>\n",
              "      <td>-87.699626</td>\n",
              "      <td>{'latitude': '41.96113244107215', 'longitude':...</td>\n",
              "      <td>AAC</td>\n",
              "      <td>2005.0</td>\n",
              "      <td>2005.0</td>\n",
              "      <td>2006.0</td>\n",
              "      <td>2005.0</td>\n",
              "      <td>2006</td>\n",
              "      <td>2006.0</td>\n",
              "      <td>2006.0</td>\n",
              "    </tr>\n",
              "    <tr>\n",
              "      <th>2</th>\n",
              "      <td>1980233-20090722</td>\n",
              "      <td>345008</td>\n",
              "      <td>1</td>\n",
              "      <td>DJS REMODELING</td>\n",
              "      <td>DJS REMODELING, INC.</td>\n",
              "      <td>1605  CLAVEY RD 1</td>\n",
              "      <td>HIGHLAND</td>\n",
              "      <td>IL</td>\n",
              "      <td>60035</td>\n",
              "      <td>NaN</td>\n",
              "      <td>...</td>\n",
              "      <td>-87.681165</td>\n",
              "      <td>NaN</td>\n",
              "      <td>AAI</td>\n",
              "      <td>2009.0</td>\n",
              "      <td>2009.0</td>\n",
              "      <td>2011.0</td>\n",
              "      <td>2009.0</td>\n",
              "      <td>2009</td>\n",
              "      <td>2009.0</td>\n",
              "      <td>2012.0</td>\n",
              "    </tr>\n",
              "    <tr>\n",
              "      <th>3</th>\n",
              "      <td>1476582-20040211</td>\n",
              "      <td>273121</td>\n",
              "      <td>1</td>\n",
              "      <td>ALL-BRY CONSTRUCTION CO.</td>\n",
              "      <td>ALL-BRY CONSTRUCTION CO.</td>\n",
              "      <td>8  NORTH TRAIL</td>\n",
              "      <td>LEMONT</td>\n",
              "      <td>IL</td>\n",
              "      <td>60439</td>\n",
              "      <td>NaN</td>\n",
              "      <td>...</td>\n",
              "      <td>-87.681165</td>\n",
              "      <td>NaN</td>\n",
              "      <td>AAI</td>\n",
              "      <td>2004.0</td>\n",
              "      <td>2004.0</td>\n",
              "      <td>2005.0</td>\n",
              "      <td>2004.0</td>\n",
              "      <td>2004</td>\n",
              "      <td>2004.0</td>\n",
              "      <td>2012.0</td>\n",
              "    </tr>\n",
              "    <tr>\n",
              "      <th>4</th>\n",
              "      <td>1141408-20080516</td>\n",
              "      <td>213785</td>\n",
              "      <td>1</td>\n",
              "      <td>MCDONOUGH MECHANICAL SERVICE</td>\n",
              "      <td>MCDONOUGH MECHANICAL SERVICE</td>\n",
              "      <td>4081  JOSEPH DR</td>\n",
              "      <td>WAUKEGAN</td>\n",
              "      <td>IL</td>\n",
              "      <td>60087</td>\n",
              "      <td>NaN</td>\n",
              "      <td>...</td>\n",
              "      <td>-87.681165</td>\n",
              "      <td>NaN</td>\n",
              "      <td>AAI</td>\n",
              "      <td>2008.0</td>\n",
              "      <td>2008.0</td>\n",
              "      <td>2010.0</td>\n",
              "      <td>2008.0</td>\n",
              "      <td>2008</td>\n",
              "      <td>2008.0</td>\n",
              "      <td>2012.0</td>\n",
              "    </tr>\n",
              "  </tbody>\n",
              "</table>\n",
              "<p>5 rows × 29 columns</p>\n",
              "</div>\n",
              "      <button class=\"colab-df-convert\" onclick=\"convertToInteractive('df-3ac8a896-86e8-4869-9de0-86e87f3ca785')\"\n",
              "              title=\"Convert this dataframe to an interactive table.\"\n",
              "              style=\"display:none;\">\n",
              "        \n",
              "  <svg xmlns=\"http://www.w3.org/2000/svg\" height=\"24px\"viewBox=\"0 0 24 24\"\n",
              "       width=\"24px\">\n",
              "    <path d=\"M0 0h24v24H0V0z\" fill=\"none\"/>\n",
              "    <path d=\"M18.56 5.44l.94 2.06.94-2.06 2.06-.94-2.06-.94-.94-2.06-.94 2.06-2.06.94zm-11 1L8.5 8.5l.94-2.06 2.06-.94-2.06-.94L8.5 2.5l-.94 2.06-2.06.94zm10 10l.94 2.06.94-2.06 2.06-.94-2.06-.94-.94-2.06-.94 2.06-2.06.94z\"/><path d=\"M17.41 7.96l-1.37-1.37c-.4-.4-.92-.59-1.43-.59-.52 0-1.04.2-1.43.59L10.3 9.45l-7.72 7.72c-.78.78-.78 2.05 0 2.83L4 21.41c.39.39.9.59 1.41.59.51 0 1.02-.2 1.41-.59l7.78-7.78 2.81-2.81c.8-.78.8-2.07 0-2.86zM5.41 20L4 18.59l7.72-7.72 1.47 1.35L5.41 20z\"/>\n",
              "  </svg>\n",
              "      </button>\n",
              "      \n",
              "  <style>\n",
              "    .colab-df-container {\n",
              "      display:flex;\n",
              "      flex-wrap:wrap;\n",
              "      gap: 12px;\n",
              "    }\n",
              "\n",
              "    .colab-df-convert {\n",
              "      background-color: #E8F0FE;\n",
              "      border: none;\n",
              "      border-radius: 50%;\n",
              "      cursor: pointer;\n",
              "      display: none;\n",
              "      fill: #1967D2;\n",
              "      height: 32px;\n",
              "      padding: 0 0 0 0;\n",
              "      width: 32px;\n",
              "    }\n",
              "\n",
              "    .colab-df-convert:hover {\n",
              "      background-color: #E2EBFA;\n",
              "      box-shadow: 0px 1px 2px rgba(60, 64, 67, 0.3), 0px 1px 3px 1px rgba(60, 64, 67, 0.15);\n",
              "      fill: #174EA6;\n",
              "    }\n",
              "\n",
              "    [theme=dark] .colab-df-convert {\n",
              "      background-color: #3B4455;\n",
              "      fill: #D2E3FC;\n",
              "    }\n",
              "\n",
              "    [theme=dark] .colab-df-convert:hover {\n",
              "      background-color: #434B5C;\n",
              "      box-shadow: 0px 1px 3px 1px rgba(0, 0, 0, 0.15);\n",
              "      filter: drop-shadow(0px 1px 2px rgba(0, 0, 0, 0.3));\n",
              "      fill: #FFFFFF;\n",
              "    }\n",
              "  </style>\n",
              "\n",
              "      <script>\n",
              "        const buttonEl =\n",
              "          document.querySelector('#df-3ac8a896-86e8-4869-9de0-86e87f3ca785 button.colab-df-convert');\n",
              "        buttonEl.style.display =\n",
              "          google.colab.kernel.accessAllowed ? 'block' : 'none';\n",
              "\n",
              "        async function convertToInteractive(key) {\n",
              "          const element = document.querySelector('#df-3ac8a896-86e8-4869-9de0-86e87f3ca785');\n",
              "          const dataTable =\n",
              "            await google.colab.kernel.invokeFunction('convertToInteractive',\n",
              "                                                     [key], {});\n",
              "          if (!dataTable) return;\n",
              "\n",
              "          const docLinkHtml = 'Like what you see? Visit the ' +\n",
              "            '<a target=\"_blank\" href=https://colab.research.google.com/notebooks/data_table.ipynb>data table notebook</a>'\n",
              "            + ' to learn more about interactive tables.';\n",
              "          element.innerHTML = '';\n",
              "          dataTable['output_type'] = 'display_data';\n",
              "          await google.colab.output.renderOutput(dataTable, element);\n",
              "          const docLink = document.createElement('div');\n",
              "          docLink.innerHTML = docLinkHtml;\n",
              "          element.appendChild(docLink);\n",
              "        }\n",
              "      </script>\n",
              "    </div>\n",
              "  </div>\n",
              "  "
            ]
          },
          "metadata": {},
          "execution_count": 28
        }
      ]
    },
    {
      "cell_type": "markdown",
      "source": [
        "### Doing Business as Name & Legal Name have very common values .I try to get useful information from these two coloumns"
      ],
      "metadata": {
        "id": "y9QetRsVaNsH"
      }
    },
    {
      "cell_type": "code",
      "source": [
        "pd.set_option('display.max_rows', 500)\n",
        "pd.set_option('display.max_columns', 500)\n",
        "train['DOING BUSINESS AS NAME'].str.split(' ').str[-1].value_counts().head(60)\n"
      ],
      "metadata": {
        "colab": {
          "base_uri": "https://localhost:8080/"
        },
        "id": "1ldi47vVQNsn",
        "outputId": "80303117-3b0f-4cdf-a76e-b9777a44cfdb"
      },
      "execution_count": 29,
      "outputs": [
        {
          "output_type": "execute_result",
          "data": {
            "text/plain": [
              "INC             11823\n",
              "INC.            10526\n",
              "LLC              3052\n",
              "CONSTRUCTION     2387\n",
              "CO               1618\n",
              "Inc.             1441\n",
              "SERVICES         1281\n",
              "COMPANY          1228\n",
              "SERVICE          1202\n",
              "CORPORATION      1039\n",
              "CORP             1031\n",
              "COOLING           862\n",
              "CO.               693\n",
              "METRO             630\n",
              "LTD               565\n",
              "CORP.             524\n",
              "SHOP              441\n",
              "REMODELING        392\n",
              "SALON             386\n",
              "REPAIR            346\n",
              "Inc               340\n",
              "CENTER            329\n",
              "CONTRACTORS       321\n",
              "GROUP             320\n",
              "HEATING           319\n",
              "LANDSCAPING       293\n",
              "CLEANERS          289\n",
              "CHICAGO           265\n",
              "ASSOCIATES        263\n",
              "MECHANICAL        260\n",
              "DESIGN            258\n",
              "INCORPORATED      255\n",
              "BUILDERS          245\n",
              "MART              225\n",
              "LTD.              225\n",
              "ENTERPRISES       206\n",
              "L.L.C.            198\n",
              "STORE             193\n",
              "CONDITIONING      193\n",
              "NAILS             184\n",
              "CONTRACTOR        183\n",
              "SYSTEMS           183\n",
              "HVAC              172\n",
              "AMUSEMENT         167\n",
              "RESTAURANT        164\n",
              "LLC.              157\n",
              "CLEANING          152\n",
              "DEVELOPMENT       151\n",
              "SOLUTIONS         145\n",
              "PLUMBING          137\n",
              "SPA               131\n",
              "CONTRACTING       128\n",
              "#2                128\n",
              "CONTROL           127\n",
              "JR.               125\n",
              "DECORATING        123\n",
              "STUDIO            120\n",
              "ILLINOIS          119\n",
              "PLUS              117\n",
              "ELECTRIC          117\n",
              "Name: DOING BUSINESS AS NAME, dtype: int64"
            ]
          },
          "metadata": {},
          "execution_count": 29
        }
      ]
    },
    {
      "cell_type": "code",
      "source": [
        "train['DOING BUSINESS AS NAME'].fillna('Empty')\n",
        "test['DOING BUSINESS AS NAME'].fillna('Empty')\n",
        "train['DOING BUSINESS AS NAME'] = train['DOING BUSINESS AS NAME'].str.replace('.', '', regex=False)\n",
        "test['DOING BUSINESS AS NAME'] = test['DOING BUSINESS AS NAME'].str.replace('.', '', regex=False)\n"
      ],
      "metadata": {
        "id": "FKEkpoR3BUH-"
      },
      "execution_count": 30,
      "outputs": []
    },
    {
      "cell_type": "code",
      "source": [
        "train['DOING BUSINESS AS NAME'].str.split(' ').str[-1].value_counts().head(60)"
      ],
      "metadata": {
        "colab": {
          "base_uri": "https://localhost:8080/"
        },
        "id": "ArCxRU1JB2vz",
        "outputId": "02ff2f4b-be6c-4127-f2fd-2e6444b0109e"
      },
      "execution_count": 31,
      "outputs": [
        {
          "output_type": "execute_result",
          "data": {
            "text/plain": [
              "INC             22357\n",
              "LLC              3416\n",
              "CONSTRUCTION     2388\n",
              "CO               2311\n",
              "Inc              1785\n",
              "CORP             1555\n",
              "SERVICES         1288\n",
              "COMPANY          1228\n",
              "SERVICE          1202\n",
              "CORPORATION      1039\n",
              "COOLING           862\n",
              "LTD               790\n",
              "METRO             630\n",
              "SHOP              443\n",
              "REMODELING        394\n",
              "SALON             386\n",
              "REPAIR            346\n",
              "CENTER            330\n",
              "CONTRACTORS       321\n",
              "GROUP             320\n",
              "HEATING           319\n",
              "LANDSCAPING       293\n",
              "CLEANERS          289\n",
              "CHICAGO           266\n",
              "ASSOCIATES        263\n",
              "MECHANICAL        260\n",
              "DESIGN            258\n",
              "INCORPORATED      255\n",
              "BUILDERS          245\n",
              "MART              226\n",
              "ENTERPRISES       206\n",
              "CONDITIONING      193\n",
              "STORE             193\n",
              "HVAC              189\n",
              "JR                187\n",
              "NAILS             184\n",
              "CONTRACTOR        183\n",
              "SYSTEMS           183\n",
              "AMUSEMENT         167\n",
              "RESTAURANT        164\n",
              "CLEANING          152\n",
              "DEVELOPMENT       151\n",
              "SOLUTIONS         148\n",
              "PLUMBING          137\n",
              "SPA               131\n",
              "CONTRACTING       128\n",
              "#2                128\n",
              "CONTROL           127\n",
              "DECORATING        123\n",
              "LP                122\n",
              "STUDIO            120\n",
              "ILLINOIS          119\n",
              "PLUS              118\n",
              "SR                117\n",
              "ELECTRIC          117\n",
              "CAFE              117\n",
              "ROOFING           114\n",
              "EXCAVATING        114\n",
              "IN                113\n",
              "MANAGEMENT        113\n",
              "Name: DOING BUSINESS AS NAME, dtype: int64"
            ]
          },
          "metadata": {},
          "execution_count": 31
        }
      ]
    },
    {
      "cell_type": "markdown",
      "source": [
        "### I observed Legal entity name such as Limited, Corporation,INC is repeating along with type of bussiness.So I tried to make a coloum of legal entities ( last word of DOING BUSINESS AS NAME column string)"
      ],
      "metadata": {
        "id": "hURhp_mbaws7"
      }
    },
    {
      "cell_type": "code",
      "source": [
        "train['DOING BUSINESS AS NAME']=train['DOING BUSINESS AS NAME'].str.split(' ').str[-1]"
      ],
      "metadata": {
        "id": "nOXRhiylIPpL"
      },
      "execution_count": 32,
      "outputs": []
    },
    {
      "cell_type": "code",
      "source": [
        "pd.set_option('display.max_rows', 500)\n",
        "pd.set_option('display.max_columns', 500)\n",
        "train['LEGAL NAME'].str.split(' ').str[-1].value_counts().head(50)"
      ],
      "metadata": {
        "colab": {
          "base_uri": "https://localhost:8080/"
        },
        "id": "p16qUoLk-oMR",
        "outputId": "08bc27de-7ee2-4bb0-a5c9-d9d107db9cae"
      },
      "execution_count": 33,
      "outputs": [
        {
          "output_type": "execute_result",
          "data": {
            "text/plain": [
              "INC.            20225\n",
              "INC             13562\n",
              "LLC              5518\n",
              "CORPORATION      1874\n",
              "Inc.             1470\n",
              "COMPANY          1282\n",
              "CO               1216\n",
              "CORP             1012\n",
              "CORP.             928\n",
              "CO.               777\n",
              "INCORPORATED      655\n",
              "LTD.              516\n",
              "CONSTRUCTION      461\n",
              "L.L.C.            453\n",
              "LIMITED           435\n",
              "Inc               354\n",
              "LTD               307\n",
              "SERVICES          259\n",
              "JR.               254\n",
              "LLC.              240\n",
              "SERVICE           222\n",
              "KIM               213\n",
              "SR.               189\n",
              "MARTINEZ          183\n",
              "JR                181\n",
              "COOLING           175\n",
              "LOPEZ             156\n",
              "GARCIA            156\n",
              "SMITH             140\n",
              "JOHNSON           139\n",
              "TORRES            127\n",
              "SR                124\n",
              "CONTRACTORS       122\n",
              "WILLIAMS          121\n",
              "JONES             120\n",
              "PEREZ             117\n",
              "BROWN             115\n",
              "HERNANDEZ         114\n",
              "IN                113\n",
              "GROUP             111\n",
              "CHICAGO           107\n",
              "Corporation       103\n",
              "THOMAS            103\n",
              "I                 101\n",
              "RODRIGUEZ         100\n",
              "LEE                98\n",
              "LP                 98\n",
              "HEATING            98\n",
              "ILLINOIS           88\n",
              "NGUYEN             84\n",
              "Name: LEGAL NAME, dtype: int64"
            ]
          },
          "metadata": {},
          "execution_count": 33
        }
      ]
    },
    {
      "cell_type": "code",
      "source": [
        "train['LEGAL NAME'].apply(lambda x: x.upper())\n",
        "test['LEGAL NAME'].apply(lambda x: x.upper())\n",
        "train['LEGAL NAME'] = train['LEGAL NAME'].str.replace('.', '', regex=False)\n",
        "test['LEGAL NAME'] = test['LEGAL NAME'].str.replace('.', '', regex=False)"
      ],
      "metadata": {
        "id": "m4-SGdCMCNgP"
      },
      "execution_count": 34,
      "outputs": []
    },
    {
      "cell_type": "markdown",
      "source": [
        "### Same logic applied to Legal Name Column as Doing Bussiness as Name"
      ],
      "metadata": {
        "id": "r0DyKsAXbdYk"
      }
    },
    {
      "cell_type": "code",
      "source": [
        "train['LEGAL NAME'].str.split(' ').str[-1].value_counts().head(50)"
      ],
      "metadata": {
        "colab": {
          "base_uri": "https://localhost:8080/"
        },
        "id": "7vUzl_RCCur4",
        "outputId": "0d4b1aef-348a-40f2-a724-c09778d9c331"
      },
      "execution_count": 35,
      "outputs": [
        {
          "output_type": "execute_result",
          "data": {
            "text/plain": [
              "INC             33792\n",
              "LLC              6218\n",
              "CO               1996\n",
              "CORP             1940\n",
              "CORPORATION      1876\n",
              "Inc              1824\n",
              "COMPANY          1283\n",
              "LTD               823\n",
              "INCORPORATED      656\n",
              "CONSTRUCTION      461\n",
              "LIMITED           456\n",
              "JR                435\n",
              "SR                313\n",
              "SERVICES          260\n",
              "SERVICE           222\n",
              "KIM               213\n",
              "MARTINEZ          183\n",
              "LP                179\n",
              "COOLING           175\n",
              "LOPEZ             156\n",
              "GARCIA            156\n",
              "SMITH             140\n",
              "JOHNSON           139\n",
              "TORRES            127\n",
              "CONTRACTORS       122\n",
              "WILLIAMS          121\n",
              "JONES             120\n",
              "PEREZ             117\n",
              "BROWN             115\n",
              "HERNANDEZ         114\n",
              "IN                113\n",
              "GROUP             111\n",
              "CHICAGO           107\n",
              "Corporation       103\n",
              "THOMAS            103\n",
              "I                 101\n",
              "RODRIGUEZ         100\n",
              "LEE                98\n",
              "HEATING            98\n",
              "Co                 89\n",
              "ILLINOIS           88\n",
              "SYSTEMS            84\n",
              "NGUYEN             84\n",
              "PC                 82\n",
              "FLORES             80\n",
              "Corp               80\n",
              "PARK               80\n",
              "REMODELING         78\n",
              "inc                75\n",
              "MECHANICAL         73\n",
              "Name: LEGAL NAME, dtype: int64"
            ]
          },
          "metadata": {},
          "execution_count": 35
        }
      ]
    },
    {
      "cell_type": "code",
      "source": [
        "train['LEGAL NAME']=train['LEGAL NAME'].str.split(' ').str[-1]"
      ],
      "metadata": {
        "id": "s2i6OjNHHyK5"
      },
      "execution_count": 36,
      "outputs": []
    },
    {
      "cell_type": "code",
      "source": [
        "train['LEGAL ENTITY'] = 'OTHER'\n",
        "test['LEGAL ENTITY'] = 'OTHER'"
      ],
      "metadata": {
        "id": "kwsRuD7AFSch"
      },
      "execution_count": 37,
      "outputs": []
    },
    {
      "cell_type": "code",
      "source": [
        "train['LEGAL ENTITY'] = np.where(train['LEGAL NAME'].str.contains('LTD' or 'LIMITED' or 'limited' or 'Limited'), 'LTD', train['LEGAL ENTITY'])\n",
        "train['LEGAL ENTITY'] = np.where(train['DOING BUSINESS AS NAME'].str.contains('LTD' or 'LIMITED'  ), 'LTD', train['LEGAL ENTITY'])\n",
        "test['LEGAL ENTITY'] = np.where(test['LEGAL NAME'].str.contains('LTD' or 'LIMITED' or 'limited' or 'Limited'), 'LTD', test['LEGAL ENTITY'])\n",
        "test['LEGAL ENTITY']=  np.where(test['DOING BUSINESS AS NAME'].str.contains('LTD' or 'LIMITED'  ), 'LTD', test['LEGAL ENTITY'])"
      ],
      "metadata": {
        "id": "8Q92kgcWPFY0"
      },
      "execution_count": 38,
      "outputs": []
    },
    {
      "cell_type": "code",
      "source": [
        "L1=['INC','INCORPORATED','Inc','inc']\n",
        "train['LEGAL ENTITY'] = np.where(train['LEGAL NAME'].str.contains('INC' or 'INCORPORATED' or 'Inc' or 'inc'),'INC', train['LEGAL ENTITY'])\n",
        "train['LEGAL ENTITY'] = np.where(train['DOING BUSINESS AS NAME'].str.contains('INC' or 'INCORPORATED' or 'Inc' or 'inc'),'INC', train['LEGAL ENTITY'])\n",
        "test['LEGAL ENTITY']= np.where(test['LEGAL NAME'].str.contains('INC' or 'INCORPORATED' or 'Inc' or 'inc'),'INC', test['LEGAL ENTITY'])\n",
        "test['LEGAL ENTITY']=  np.where(test['DOING BUSINESS AS NAME'].str.contains('INC' or 'INCORPORATED' or 'Inc' or 'inc'),'INC', test['LEGAL ENTITY'])"
      ],
      "metadata": {
        "id": "FfMEXNdrLHGQ"
      },
      "execution_count": 39,
      "outputs": []
    },
    {
      "cell_type": "code",
      "source": [
        "train['LEGAL ENTITY'] = np.where(train['LEGAL NAME'].str.contains('CO' or 'CORPORATION' or 'CORP' or 'Co'), 'CORP', train['LEGAL ENTITY'])\n",
        "train['LEGAL ENTITY'] = np.where(train['DOING BUSINESS AS NAME'].str.contains('CO' or 'Co' or 'CORPORATION' or 'CORP'), 'CORP', train['LEGAL ENTITY'])\n",
        "test['LEGAL ENTITY']= np.where(test['LEGAL NAME'].str.contains('CO' or 'CORPORATION' or 'CORP' or 'Co'), 'CORP', test['LEGAL ENTITY'])\n",
        "test['LEGAL ENTITY']= np.where(test['DOING BUSINESS AS NAME'].str.contains('CO' or 'Co' or 'CORPORATION' or 'CORP'), 'CORP', test['LEGAL ENTITY'])\n"
      ],
      "metadata": {
        "id": "7kfBHLjWN0GO"
      },
      "execution_count": 40,
      "outputs": []
    },
    {
      "cell_type": "code",
      "source": [
        "train['LEGAL ENTITY'] = np.where(train['LEGAL NAME'].str.contains('LLC' or 'Llc' or 'llc'), 'LLC', train['LEGAL ENTITY'])\n",
        "train['LEGAL ENTITY']  = np.where(train['DOING BUSINESS AS NAME'].str.contains('LLC'), 'LLC', train['LEGAL ENTITY'])\n",
        "\n",
        "test['LEGAL ENTITY']= np.where(test['LEGAL NAME'].str.contains('LLC' or 'Llc' or 'llc'), 'LLC', test['LEGAL ENTITY'])\n",
        "test['LEGAL ENTITY']= np.where(test['DOING BUSINESS AS NAME'].str.contains('LLC'), 'LLC', test['LEGAL ENTITY'])"
      ],
      "metadata": {
        "id": "W3O0W4qMOzBl"
      },
      "execution_count": 41,
      "outputs": []
    },
    {
      "cell_type": "markdown",
      "source": [
        "### I deleted 'DOING BUSINESS AS NAME','LEGAL NAME' and created a new coloumn 'LEGAL ENTITY' and populate it with useful information"
      ],
      "metadata": {
        "id": "D9F7ZDrab00_"
      }
    },
    {
      "cell_type": "code",
      "source": [
        "print(train['LEGAL ENTITY'] .value_counts())\n",
        "print(test['LEGAL ENTITY'] .value_counts())\n"
      ],
      "metadata": {
        "colab": {
          "base_uri": "https://localhost:8080/"
        },
        "id": "dOk2BBlaS0Rf",
        "outputId": "399b298a-2b57-45ce-9068-732880f3fc09"
      },
      "execution_count": 42,
      "outputs": [
        {
          "output_type": "stream",
          "name": "stdout",
          "text": [
            "INC      33100\n",
            "OTHER    29535\n",
            "CORP     15788\n",
            "LLC       6416\n",
            "LTD       1056\n",
            "Name: LEGAL ENTITY, dtype: int64\n",
            "INC      19674\n",
            "OTHER    17876\n",
            "CORP     12553\n",
            "LLC       6187\n",
            "LTD        949\n",
            "Name: LEGAL ENTITY, dtype: int64\n"
          ]
        }
      ]
    },
    {
      "cell_type": "code",
      "source": [
        "train.head()"
      ],
      "metadata": {
        "id": "CVSl-izSUDjZ"
      },
      "execution_count": null,
      "outputs": []
    },
    {
      "cell_type": "code",
      "source": [
        "drop1=['DOING BUSINESS AS NAME','LEGAL NAME']\n",
        "train = train.drop(drop1, axis=1)\n",
        "test = test.drop(drop1, axis=1)\n",
        "train.head()"
      ],
      "metadata": {
        "colab": {
          "base_uri": "https://localhost:8080/",
          "height": 513
        },
        "id": "W57vQ9vfURzP",
        "outputId": "a13827a0-a841-48b9-d390-e7cb18825a49"
      },
      "execution_count": 44,
      "outputs": [
        {
          "output_type": "execute_result",
          "data": {
            "text/plain": [
              "                 ID  ACCOUNT NUMBER  SITE NUMBER                     ADDRESS  \\\n",
              "0    35342-20020816           32811            1  2625 S CENTRAL PARK AVE  1   \n",
              "1  1358463-20051116          262311           29         2825 W MONTROSE AVE   \n",
              "2  1980233-20090722          345008            1           1605  CLAVEY RD 1   \n",
              "3  1476582-20040211          273121            1              8  NORTH TRAIL   \n",
              "4  1141408-20080516          213785            1             4081  JOSEPH DR   \n",
              "\n",
              "       CITY STATE ZIP CODE  WARD  PRECINCT WARD PRECINCT  POLICE DISTRICT  \\\n",
              "0   CHICAGO    IL  60623.0  22.0      28.0         22-28             10.0   \n",
              "1   CHICAGO    IL    60618  33.0      23.0         33-23             17.0   \n",
              "2  HIGHLAND    IL    60035   NaN       NaN           NaN              NaN   \n",
              "3    LEMONT    IL    60439   NaN       NaN           NaN              NaN   \n",
              "4  WAUKEGAN    IL    60087   NaN       NaN           NaN              NaN   \n",
              "\n",
              "   LICENSE CODE       LICENSE DESCRIPTION  LICENSE NUMBER APPLICATION TYPE  \\\n",
              "0          1010  Limited Business License         35342.0            RENEW   \n",
              "1          1315     Mobile Food Dispenser       1358463.0            RENEW   \n",
              "2          1011               Home Repair       1980233.0            ISSUE   \n",
              "3          1010  Limited Business License       1476582.0            ISSUE   \n",
              "4          1010  Limited Business License       1141408.0            RENEW   \n",
              "\n",
              "  CONDITIONAL APPROVAL   LATITUDE  LONGITUDE  \\\n",
              "0                    N  41.843613 -87.714618   \n",
              "1                    N  41.961132 -87.699626   \n",
              "2                    N  41.880952 -87.681165   \n",
              "3                    N  41.880952 -87.681165   \n",
              "4                    N  41.880952 -87.681165   \n",
              "\n",
              "                                            LOCATION LICENSE STATUS  \\\n",
              "0  {'latitude': '41.843612879431845', 'longitude'...            AAI   \n",
              "1  {'latitude': '41.96113244107215', 'longitude':...            AAC   \n",
              "2                                                NaN            AAI   \n",
              "3                                                NaN            AAI   \n",
              "4                                                NaN            AAI   \n",
              "\n",
              "   APPLICATION REQUIREMENTS COMPLETE YEAR  PAYMENT YEAR  \\\n",
              "0                                  2002.0        2002.0   \n",
              "1                                  2005.0        2005.0   \n",
              "2                                  2009.0        2009.0   \n",
              "3                                  2004.0        2004.0   \n",
              "4                                  2008.0        2008.0   \n",
              "\n",
              "   LICENSE TERM EXPIRATION YEAR  LICENSE TERM START YEAR  DATE ISSUED YEAR  \\\n",
              "0                        2003.0                   2002.0              2006   \n",
              "1                        2006.0                   2005.0              2006   \n",
              "2                        2011.0                   2009.0              2009   \n",
              "3                        2005.0                   2004.0              2004   \n",
              "4                        2010.0                   2008.0              2008   \n",
              "\n",
              "   LICENSE APPROVED FOR ISSUANCE YEAR  LICENSE STATUS CHANGE YEAR LEGAL ENTITY  \n",
              "0                              2002.0                      2012.0        OTHER  \n",
              "1                              2006.0                      2006.0          INC  \n",
              "2                              2009.0                      2012.0          INC  \n",
              "3                              2004.0                      2012.0         CORP  \n",
              "4                              2008.0                      2012.0        OTHER  "
            ],
            "text/html": [
              "\n",
              "  <div id=\"df-ebd3d878-995c-4dc9-a912-b5d9a370ab23\">\n",
              "    <div class=\"colab-df-container\">\n",
              "      <div>\n",
              "<style scoped>\n",
              "    .dataframe tbody tr th:only-of-type {\n",
              "        vertical-align: middle;\n",
              "    }\n",
              "\n",
              "    .dataframe tbody tr th {\n",
              "        vertical-align: top;\n",
              "    }\n",
              "\n",
              "    .dataframe thead th {\n",
              "        text-align: right;\n",
              "    }\n",
              "</style>\n",
              "<table border=\"1\" class=\"dataframe\">\n",
              "  <thead>\n",
              "    <tr style=\"text-align: right;\">\n",
              "      <th></th>\n",
              "      <th>ID</th>\n",
              "      <th>ACCOUNT NUMBER</th>\n",
              "      <th>SITE NUMBER</th>\n",
              "      <th>ADDRESS</th>\n",
              "      <th>CITY</th>\n",
              "      <th>STATE</th>\n",
              "      <th>ZIP CODE</th>\n",
              "      <th>WARD</th>\n",
              "      <th>PRECINCT</th>\n",
              "      <th>WARD PRECINCT</th>\n",
              "      <th>POLICE DISTRICT</th>\n",
              "      <th>LICENSE CODE</th>\n",
              "      <th>LICENSE DESCRIPTION</th>\n",
              "      <th>LICENSE NUMBER</th>\n",
              "      <th>APPLICATION TYPE</th>\n",
              "      <th>CONDITIONAL APPROVAL</th>\n",
              "      <th>LATITUDE</th>\n",
              "      <th>LONGITUDE</th>\n",
              "      <th>LOCATION</th>\n",
              "      <th>LICENSE STATUS</th>\n",
              "      <th>APPLICATION REQUIREMENTS COMPLETE YEAR</th>\n",
              "      <th>PAYMENT YEAR</th>\n",
              "      <th>LICENSE TERM EXPIRATION YEAR</th>\n",
              "      <th>LICENSE TERM START YEAR</th>\n",
              "      <th>DATE ISSUED YEAR</th>\n",
              "      <th>LICENSE APPROVED FOR ISSUANCE YEAR</th>\n",
              "      <th>LICENSE STATUS CHANGE YEAR</th>\n",
              "      <th>LEGAL ENTITY</th>\n",
              "    </tr>\n",
              "  </thead>\n",
              "  <tbody>\n",
              "    <tr>\n",
              "      <th>0</th>\n",
              "      <td>35342-20020816</td>\n",
              "      <td>32811</td>\n",
              "      <td>1</td>\n",
              "      <td>2625 S CENTRAL PARK AVE  1</td>\n",
              "      <td>CHICAGO</td>\n",
              "      <td>IL</td>\n",
              "      <td>60623.0</td>\n",
              "      <td>22.0</td>\n",
              "      <td>28.0</td>\n",
              "      <td>22-28</td>\n",
              "      <td>10.0</td>\n",
              "      <td>1010</td>\n",
              "      <td>Limited Business License</td>\n",
              "      <td>35342.0</td>\n",
              "      <td>RENEW</td>\n",
              "      <td>N</td>\n",
              "      <td>41.843613</td>\n",
              "      <td>-87.714618</td>\n",
              "      <td>{'latitude': '41.843612879431845', 'longitude'...</td>\n",
              "      <td>AAI</td>\n",
              "      <td>2002.0</td>\n",
              "      <td>2002.0</td>\n",
              "      <td>2003.0</td>\n",
              "      <td>2002.0</td>\n",
              "      <td>2006</td>\n",
              "      <td>2002.0</td>\n",
              "      <td>2012.0</td>\n",
              "      <td>OTHER</td>\n",
              "    </tr>\n",
              "    <tr>\n",
              "      <th>1</th>\n",
              "      <td>1358463-20051116</td>\n",
              "      <td>262311</td>\n",
              "      <td>29</td>\n",
              "      <td>2825 W MONTROSE AVE</td>\n",
              "      <td>CHICAGO</td>\n",
              "      <td>IL</td>\n",
              "      <td>60618</td>\n",
              "      <td>33.0</td>\n",
              "      <td>23.0</td>\n",
              "      <td>33-23</td>\n",
              "      <td>17.0</td>\n",
              "      <td>1315</td>\n",
              "      <td>Mobile Food Dispenser</td>\n",
              "      <td>1358463.0</td>\n",
              "      <td>RENEW</td>\n",
              "      <td>N</td>\n",
              "      <td>41.961132</td>\n",
              "      <td>-87.699626</td>\n",
              "      <td>{'latitude': '41.96113244107215', 'longitude':...</td>\n",
              "      <td>AAC</td>\n",
              "      <td>2005.0</td>\n",
              "      <td>2005.0</td>\n",
              "      <td>2006.0</td>\n",
              "      <td>2005.0</td>\n",
              "      <td>2006</td>\n",
              "      <td>2006.0</td>\n",
              "      <td>2006.0</td>\n",
              "      <td>INC</td>\n",
              "    </tr>\n",
              "    <tr>\n",
              "      <th>2</th>\n",
              "      <td>1980233-20090722</td>\n",
              "      <td>345008</td>\n",
              "      <td>1</td>\n",
              "      <td>1605  CLAVEY RD 1</td>\n",
              "      <td>HIGHLAND</td>\n",
              "      <td>IL</td>\n",
              "      <td>60035</td>\n",
              "      <td>NaN</td>\n",
              "      <td>NaN</td>\n",
              "      <td>NaN</td>\n",
              "      <td>NaN</td>\n",
              "      <td>1011</td>\n",
              "      <td>Home Repair</td>\n",
              "      <td>1980233.0</td>\n",
              "      <td>ISSUE</td>\n",
              "      <td>N</td>\n",
              "      <td>41.880952</td>\n",
              "      <td>-87.681165</td>\n",
              "      <td>NaN</td>\n",
              "      <td>AAI</td>\n",
              "      <td>2009.0</td>\n",
              "      <td>2009.0</td>\n",
              "      <td>2011.0</td>\n",
              "      <td>2009.0</td>\n",
              "      <td>2009</td>\n",
              "      <td>2009.0</td>\n",
              "      <td>2012.0</td>\n",
              "      <td>INC</td>\n",
              "    </tr>\n",
              "    <tr>\n",
              "      <th>3</th>\n",
              "      <td>1476582-20040211</td>\n",
              "      <td>273121</td>\n",
              "      <td>1</td>\n",
              "      <td>8  NORTH TRAIL</td>\n",
              "      <td>LEMONT</td>\n",
              "      <td>IL</td>\n",
              "      <td>60439</td>\n",
              "      <td>NaN</td>\n",
              "      <td>NaN</td>\n",
              "      <td>NaN</td>\n",
              "      <td>NaN</td>\n",
              "      <td>1010</td>\n",
              "      <td>Limited Business License</td>\n",
              "      <td>1476582.0</td>\n",
              "      <td>ISSUE</td>\n",
              "      <td>N</td>\n",
              "      <td>41.880952</td>\n",
              "      <td>-87.681165</td>\n",
              "      <td>NaN</td>\n",
              "      <td>AAI</td>\n",
              "      <td>2004.0</td>\n",
              "      <td>2004.0</td>\n",
              "      <td>2005.0</td>\n",
              "      <td>2004.0</td>\n",
              "      <td>2004</td>\n",
              "      <td>2004.0</td>\n",
              "      <td>2012.0</td>\n",
              "      <td>CORP</td>\n",
              "    </tr>\n",
              "    <tr>\n",
              "      <th>4</th>\n",
              "      <td>1141408-20080516</td>\n",
              "      <td>213785</td>\n",
              "      <td>1</td>\n",
              "      <td>4081  JOSEPH DR</td>\n",
              "      <td>WAUKEGAN</td>\n",
              "      <td>IL</td>\n",
              "      <td>60087</td>\n",
              "      <td>NaN</td>\n",
              "      <td>NaN</td>\n",
              "      <td>NaN</td>\n",
              "      <td>NaN</td>\n",
              "      <td>1010</td>\n",
              "      <td>Limited Business License</td>\n",
              "      <td>1141408.0</td>\n",
              "      <td>RENEW</td>\n",
              "      <td>N</td>\n",
              "      <td>41.880952</td>\n",
              "      <td>-87.681165</td>\n",
              "      <td>NaN</td>\n",
              "      <td>AAI</td>\n",
              "      <td>2008.0</td>\n",
              "      <td>2008.0</td>\n",
              "      <td>2010.0</td>\n",
              "      <td>2008.0</td>\n",
              "      <td>2008</td>\n",
              "      <td>2008.0</td>\n",
              "      <td>2012.0</td>\n",
              "      <td>OTHER</td>\n",
              "    </tr>\n",
              "  </tbody>\n",
              "</table>\n",
              "</div>\n",
              "      <button class=\"colab-df-convert\" onclick=\"convertToInteractive('df-ebd3d878-995c-4dc9-a912-b5d9a370ab23')\"\n",
              "              title=\"Convert this dataframe to an interactive table.\"\n",
              "              style=\"display:none;\">\n",
              "        \n",
              "  <svg xmlns=\"http://www.w3.org/2000/svg\" height=\"24px\"viewBox=\"0 0 24 24\"\n",
              "       width=\"24px\">\n",
              "    <path d=\"M0 0h24v24H0V0z\" fill=\"none\"/>\n",
              "    <path d=\"M18.56 5.44l.94 2.06.94-2.06 2.06-.94-2.06-.94-.94-2.06-.94 2.06-2.06.94zm-11 1L8.5 8.5l.94-2.06 2.06-.94-2.06-.94L8.5 2.5l-.94 2.06-2.06.94zm10 10l.94 2.06.94-2.06 2.06-.94-2.06-.94-.94-2.06-.94 2.06-2.06.94z\"/><path d=\"M17.41 7.96l-1.37-1.37c-.4-.4-.92-.59-1.43-.59-.52 0-1.04.2-1.43.59L10.3 9.45l-7.72 7.72c-.78.78-.78 2.05 0 2.83L4 21.41c.39.39.9.59 1.41.59.51 0 1.02-.2 1.41-.59l7.78-7.78 2.81-2.81c.8-.78.8-2.07 0-2.86zM5.41 20L4 18.59l7.72-7.72 1.47 1.35L5.41 20z\"/>\n",
              "  </svg>\n",
              "      </button>\n",
              "      \n",
              "  <style>\n",
              "    .colab-df-container {\n",
              "      display:flex;\n",
              "      flex-wrap:wrap;\n",
              "      gap: 12px;\n",
              "    }\n",
              "\n",
              "    .colab-df-convert {\n",
              "      background-color: #E8F0FE;\n",
              "      border: none;\n",
              "      border-radius: 50%;\n",
              "      cursor: pointer;\n",
              "      display: none;\n",
              "      fill: #1967D2;\n",
              "      height: 32px;\n",
              "      padding: 0 0 0 0;\n",
              "      width: 32px;\n",
              "    }\n",
              "\n",
              "    .colab-df-convert:hover {\n",
              "      background-color: #E2EBFA;\n",
              "      box-shadow: 0px 1px 2px rgba(60, 64, 67, 0.3), 0px 1px 3px 1px rgba(60, 64, 67, 0.15);\n",
              "      fill: #174EA6;\n",
              "    }\n",
              "\n",
              "    [theme=dark] .colab-df-convert {\n",
              "      background-color: #3B4455;\n",
              "      fill: #D2E3FC;\n",
              "    }\n",
              "\n",
              "    [theme=dark] .colab-df-convert:hover {\n",
              "      background-color: #434B5C;\n",
              "      box-shadow: 0px 1px 3px 1px rgba(0, 0, 0, 0.15);\n",
              "      filter: drop-shadow(0px 1px 2px rgba(0, 0, 0, 0.3));\n",
              "      fill: #FFFFFF;\n",
              "    }\n",
              "  </style>\n",
              "\n",
              "      <script>\n",
              "        const buttonEl =\n",
              "          document.querySelector('#df-ebd3d878-995c-4dc9-a912-b5d9a370ab23 button.colab-df-convert');\n",
              "        buttonEl.style.display =\n",
              "          google.colab.kernel.accessAllowed ? 'block' : 'none';\n",
              "\n",
              "        async function convertToInteractive(key) {\n",
              "          const element = document.querySelector('#df-ebd3d878-995c-4dc9-a912-b5d9a370ab23');\n",
              "          const dataTable =\n",
              "            await google.colab.kernel.invokeFunction('convertToInteractive',\n",
              "                                                     [key], {});\n",
              "          if (!dataTable) return;\n",
              "\n",
              "          const docLinkHtml = 'Like what you see? Visit the ' +\n",
              "            '<a target=\"_blank\" href=https://colab.research.google.com/notebooks/data_table.ipynb>data table notebook</a>'\n",
              "            + ' to learn more about interactive tables.';\n",
              "          element.innerHTML = '';\n",
              "          dataTable['output_type'] = 'display_data';\n",
              "          await google.colab.output.renderOutput(dataTable, element);\n",
              "          const docLink = document.createElement('div');\n",
              "          docLink.innerHTML = docLinkHtml;\n",
              "          element.appendChild(docLink);\n",
              "        }\n",
              "      </script>\n",
              "    </div>\n",
              "  </div>\n",
              "  "
            ]
          },
          "metadata": {},
          "execution_count": 44
        }
      ]
    },
    {
      "cell_type": "markdown",
      "source": [
        "### Null values is greater than 50 percent in training data.So I dropped the columns"
      ],
      "metadata": {
        "id": "sEIVASB9dZCl"
      }
    },
    {
      "cell_type": "code",
      "source": [
        "drop1=['WARD', 'PRECINCT', 'POLICE DISTRICT', 'WARD PRECINCT','LOCATION']\n",
        "train = train.drop(drop1, axis=1)\n",
        "test = test.drop(drop1, axis=1)"
      ],
      "metadata": {
        "id": "UD35icwWWGER"
      },
      "execution_count": 45,
      "outputs": []
    },
    {
      "cell_type": "markdown",
      "source": [
        "### Null values replaced with 0"
      ],
      "metadata": {
        "id": "NLjEYLE5dhW4"
      }
    },
    {
      "cell_type": "code",
      "source": [
        "null_list = ['ZIP CODE','LICENSE NUMBER']\n",
        "def null(imp_nil_list):\n",
        "    for i in imp_nil_list:\n",
        "        train[i] = train[i].fillna(0)\n",
        "        test[i] = test[i].fillna(0)\n",
        "\n",
        "\n",
        "null(null_list)    \n"
      ],
      "metadata": {
        "id": "u7T8JGsBZFOJ"
      },
      "execution_count": 46,
      "outputs": []
    },
    {
      "cell_type": "markdown",
      "source": [
        "## All null values are Handled"
      ],
      "metadata": {
        "id": "t0BgU6fidlum"
      }
    },
    {
      "cell_type": "code",
      "source": [
        "train.isnull().sum().sort_values(ascending=False) * 100 / len(train)"
      ],
      "metadata": {
        "colab": {
          "base_uri": "https://localhost:8080/"
        },
        "id": "ULmaNxThZ_E3",
        "outputId": "a3a370e0-666c-4fb7-dde0-c55c4485f057"
      },
      "execution_count": 47,
      "outputs": [
        {
          "output_type": "execute_result",
          "data": {
            "text/plain": [
              "ID                                        0.0\n",
              "LATITUDE                                  0.0\n",
              "LICENSE STATUS CHANGE YEAR                0.0\n",
              "LICENSE APPROVED FOR ISSUANCE YEAR        0.0\n",
              "DATE ISSUED YEAR                          0.0\n",
              "LICENSE TERM START YEAR                   0.0\n",
              "LICENSE TERM EXPIRATION YEAR              0.0\n",
              "PAYMENT YEAR                              0.0\n",
              "APPLICATION REQUIREMENTS COMPLETE YEAR    0.0\n",
              "LICENSE STATUS                            0.0\n",
              "LONGITUDE                                 0.0\n",
              "CONDITIONAL APPROVAL                      0.0\n",
              "ACCOUNT NUMBER                            0.0\n",
              "APPLICATION TYPE                          0.0\n",
              "LICENSE NUMBER                            0.0\n",
              "LICENSE DESCRIPTION                       0.0\n",
              "LICENSE CODE                              0.0\n",
              "ZIP CODE                                  0.0\n",
              "STATE                                     0.0\n",
              "CITY                                      0.0\n",
              "ADDRESS                                   0.0\n",
              "SITE NUMBER                               0.0\n",
              "LEGAL ENTITY                              0.0\n",
              "dtype: float64"
            ]
          },
          "metadata": {},
          "execution_count": 47
        }
      ]
    },
    {
      "cell_type": "code",
      "source": [
        "test.isnull().sum().sort_values(ascending=False) * 100 / len(train)"
      ],
      "metadata": {
        "colab": {
          "base_uri": "https://localhost:8080/"
        },
        "id": "ZqLK_A-ZaFQo",
        "outputId": "7aac6fb8-35fd-45ee-fb69-8df107c8a336"
      },
      "execution_count": 48,
      "outputs": [
        {
          "output_type": "execute_result",
          "data": {
            "text/plain": [
              "ID                                        0.0\n",
              "ACCOUNT NUMBER                            0.0\n",
              "LICENSE STATUS CHANGE YEAR                0.0\n",
              "LICENSE APPROVED FOR ISSUANCE YEAR        0.0\n",
              "DATE ISSUED YEAR                          0.0\n",
              "LICENSE TERM START YEAR                   0.0\n",
              "LICENSE TERM EXPIRATION YEAR              0.0\n",
              "PAYMENT YEAR                              0.0\n",
              "APPLICATION REQUIREMENTS COMPLETE YEAR    0.0\n",
              "LONGITUDE                                 0.0\n",
              "LATITUDE                                  0.0\n",
              "CONDITIONAL APPROVAL                      0.0\n",
              "APPLICATION TYPE                          0.0\n",
              "LICENSE NUMBER                            0.0\n",
              "LICENSE DESCRIPTION                       0.0\n",
              "LICENSE CODE                              0.0\n",
              "ZIP CODE                                  0.0\n",
              "STATE                                     0.0\n",
              "CITY                                      0.0\n",
              "ADDRESS                                   0.0\n",
              "SITE NUMBER                               0.0\n",
              "LEGAL ENTITY                              0.0\n",
              "dtype: float64"
            ]
          },
          "metadata": {},
          "execution_count": 48
        }
      ]
    },
    {
      "cell_type": "markdown",
      "source": [
        "License Description drop"
      ],
      "metadata": {
        "id": "zrJ31hFFaR-Z"
      }
    },
    {
      "cell_type": "markdown",
      "source": [
        "### Due to time constraint I can't able to extract any useful information from this column ,So I dropped the column.I have some ideas I can share while presenting"
      ],
      "metadata": {
        "id": "jODnXyDAdqbV"
      }
    },
    {
      "cell_type": "code",
      "source": [
        "train = train.drop('LICENSE DESCRIPTION', axis=1)\n",
        "test = test.drop('LICENSE DESCRIPTION', axis=1)\n"
      ],
      "metadata": {
        "id": "L5uarxLqaL9E"
      },
      "execution_count": 49,
      "outputs": []
    },
    {
      "cell_type": "markdown",
      "source": [
        "### I can't encode this column and also I aleeady have 'STATE', 'CITY', 'ZIP CODE'.So I dropped Address column"
      ],
      "metadata": {
        "id": "bkKyIcwAeBTr"
      }
    },
    {
      "cell_type": "code",
      "source": [
        "train = train.drop('ADDRESS', axis=1)\n",
        "test = test.drop('ADDRESS', axis=1)"
      ],
      "metadata": {
        "id": "13R2omwocP5K"
      },
      "execution_count": 50,
      "outputs": []
    },
    {
      "cell_type": "code",
      "source": [
        "train.dtypes"
      ],
      "metadata": {
        "colab": {
          "base_uri": "https://localhost:8080/"
        },
        "id": "Lgm5V7q6boBi",
        "outputId": "a50cfb3b-f630-471a-d8d3-36edde942f71"
      },
      "execution_count": 51,
      "outputs": [
        {
          "output_type": "execute_result",
          "data": {
            "text/plain": [
              "ID                                         object\n",
              "ACCOUNT NUMBER                              int64\n",
              "SITE NUMBER                                 int64\n",
              "CITY                                       object\n",
              "STATE                                      object\n",
              "ZIP CODE                                   object\n",
              "LICENSE CODE                                int64\n",
              "LICENSE NUMBER                            float64\n",
              "APPLICATION TYPE                           object\n",
              "CONDITIONAL APPROVAL                       object\n",
              "LATITUDE                                  float64\n",
              "LONGITUDE                                 float64\n",
              "LICENSE STATUS                             object\n",
              "APPLICATION REQUIREMENTS COMPLETE YEAR    float64\n",
              "PAYMENT YEAR                              float64\n",
              "LICENSE TERM EXPIRATION YEAR              float64\n",
              "LICENSE TERM START YEAR                   float64\n",
              "DATE ISSUED YEAR                            int64\n",
              "LICENSE APPROVED FOR ISSUANCE YEAR        float64\n",
              "LICENSE STATUS CHANGE YEAR                float64\n",
              "LEGAL ENTITY                               object\n",
              "dtype: object"
            ]
          },
          "metadata": {},
          "execution_count": 51
        }
      ]
    },
    {
      "cell_type": "markdown",
      "source": [
        "## Handling Categorical Values\n",
        "\n",
        "### One Hot Encoding is prferred where No. of unique values is less\n",
        "### Label Encoding is preferred if No. of unique values is large"
      ],
      "metadata": {
        "id": "b4XEoWGfaqkg"
      }
    },
    {
      "cell_type": "code",
      "source": [
        "  train.nunique()"
      ],
      "metadata": {
        "colab": {
          "base_uri": "https://localhost:8080/"
        },
        "id": "6w2joOhhay4n",
        "outputId": "b31833da-c428-4ae7-ce98-958229ebb819"
      },
      "execution_count": 52,
      "outputs": [
        {
          "output_type": "execute_result",
          "data": {
            "text/plain": [
              "ID                                        85895\n",
              "ACCOUNT NUMBER                            38897\n",
              "SITE NUMBER                                 177\n",
              "CITY                                       1223\n",
              "STATE                                        54\n",
              "ZIP CODE                                   2457\n",
              "LICENSE CODE                                106\n",
              "LICENSE NUMBER                            49769\n",
              "APPLICATION TYPE                              5\n",
              "CONDITIONAL APPROVAL                          2\n",
              "LATITUDE                                  21387\n",
              "LONGITUDE                                 21389\n",
              "LICENSE STATUS                                5\n",
              "APPLICATION REQUIREMENTS COMPLETE YEAR       17\n",
              "PAYMENT YEAR                                 17\n",
              "LICENSE TERM EXPIRATION YEAR                 25\n",
              "LICENSE TERM START YEAR                      21\n",
              "DATE ISSUED YEAR                             15\n",
              "LICENSE APPROVED FOR ISSUANCE YEAR           17\n",
              "LICENSE STATUS CHANGE YEAR                   15\n",
              "LEGAL ENTITY                                  5\n",
              "dtype: int64"
            ]
          },
          "metadata": {},
          "execution_count": 52
        }
      ]
    },
    {
      "cell_type": "markdown",
      "source": [
        "### We will do One Hot Encoding for APPLICATION TYPE, COND. APPROVAL & LEGAL ENTITY"
      ],
      "metadata": {
        "id": "LaZVtKiXny-H"
      }
    },
    {
      "cell_type": "code",
      "source": [
        "Cat_col=['LEGAL ENTITY','APPLICATION TYPE','CONDITIONAL APPROVAL']\n",
        "train=pd.get_dummies(train, columns=Cat_col)\n",
        "test=pd.get_dummies(test, columns=Cat_col)\n"
      ],
      "metadata": {
        "id": "SJhNM7NonyRF"
      },
      "execution_count": 53,
      "outputs": []
    },
    {
      "cell_type": "markdown",
      "source": [
        "### Label Encoding for other object types"
      ],
      "metadata": {
        "id": "Vgvq-I4fpMo-"
      }
    },
    {
      "cell_type": "code",
      "source": [
        "categ = ['CITY','STATE']\n",
        "le = LabelEncoder()\n",
        "\n",
        "train[categ] = train[categ].apply(lambda col: le.fit_transform(col))\n",
        "test[categ] = test[categ].apply(lambda col: le.fit_transform(col))\n",
        "train.head()"
      ],
      "metadata": {
        "colab": {
          "base_uri": "https://localhost:8080/",
          "height": 426
        },
        "id": "5uj_TfhwpLg6",
        "outputId": "e49d246c-83e4-4214-b2f2-3decf9abe762"
      },
      "execution_count": 54,
      "outputs": [
        {
          "output_type": "execute_result",
          "data": {
            "text/plain": [
              "                 ID  ACCOUNT NUMBER  SITE NUMBER  CITY  STATE ZIP CODE  \\\n",
              "0    35342-20020816           32811            1   193     16  60623.0   \n",
              "1  1358463-20051116          262311           29   193     16    60618   \n",
              "2  1980233-20090722          345008            1   466     16    60035   \n",
              "3  1476582-20040211          273121            1   585     16    60439   \n",
              "4  1141408-20080516          213785            1  1145     16    60087   \n",
              "\n",
              "   LICENSE CODE  LICENSE NUMBER   LATITUDE  LONGITUDE LICENSE STATUS  \\\n",
              "0          1010         35342.0  41.843613 -87.714618            AAI   \n",
              "1          1315       1358463.0  41.961132 -87.699626            AAC   \n",
              "2          1011       1980233.0  41.880952 -87.681165            AAI   \n",
              "3          1010       1476582.0  41.880952 -87.681165            AAI   \n",
              "4          1010       1141408.0  41.880952 -87.681165            AAI   \n",
              "\n",
              "   APPLICATION REQUIREMENTS COMPLETE YEAR  PAYMENT YEAR  \\\n",
              "0                                  2002.0        2002.0   \n",
              "1                                  2005.0        2005.0   \n",
              "2                                  2009.0        2009.0   \n",
              "3                                  2004.0        2004.0   \n",
              "4                                  2008.0        2008.0   \n",
              "\n",
              "   LICENSE TERM EXPIRATION YEAR  LICENSE TERM START YEAR  DATE ISSUED YEAR  \\\n",
              "0                        2003.0                   2002.0              2006   \n",
              "1                        2006.0                   2005.0              2006   \n",
              "2                        2011.0                   2009.0              2009   \n",
              "3                        2005.0                   2004.0              2004   \n",
              "4                        2010.0                   2008.0              2008   \n",
              "\n",
              "   LICENSE APPROVED FOR ISSUANCE YEAR  LICENSE STATUS CHANGE YEAR  \\\n",
              "0                              2002.0                      2012.0   \n",
              "1                              2006.0                      2006.0   \n",
              "2                              2009.0                      2012.0   \n",
              "3                              2004.0                      2012.0   \n",
              "4                              2008.0                      2012.0   \n",
              "\n",
              "   LEGAL ENTITY_CORP  LEGAL ENTITY_INC  LEGAL ENTITY_LLC  LEGAL ENTITY_LTD  \\\n",
              "0                  0                 0                 0                 0   \n",
              "1                  0                 1                 0                 0   \n",
              "2                  0                 1                 0                 0   \n",
              "3                  1                 0                 0                 0   \n",
              "4                  0                 0                 0                 0   \n",
              "\n",
              "   LEGAL ENTITY_OTHER  APPLICATION TYPE_C_CAPA  APPLICATION TYPE_C_EXPA  \\\n",
              "0                   1                        0                        0   \n",
              "1                   0                        0                        0   \n",
              "2                   0                        0                        0   \n",
              "3                   0                        0                        0   \n",
              "4                   1                        0                        0   \n",
              "\n",
              "   APPLICATION TYPE_C_LOC  APPLICATION TYPE_ISSUE  APPLICATION TYPE_RENEW  \\\n",
              "0                       0                       0                       1   \n",
              "1                       0                       0                       1   \n",
              "2                       0                       1                       0   \n",
              "3                       0                       1                       0   \n",
              "4                       0                       0                       1   \n",
              "\n",
              "   CONDITIONAL APPROVAL_N  CONDITIONAL APPROVAL_Y  \n",
              "0                       1                       0  \n",
              "1                       1                       0  \n",
              "2                       1                       0  \n",
              "3                       1                       0  \n",
              "4                       1                       0  "
            ],
            "text/html": [
              "\n",
              "  <div id=\"df-9b9fd7c7-429f-4a2a-9944-84ea020ab888\">\n",
              "    <div class=\"colab-df-container\">\n",
              "      <div>\n",
              "<style scoped>\n",
              "    .dataframe tbody tr th:only-of-type {\n",
              "        vertical-align: middle;\n",
              "    }\n",
              "\n",
              "    .dataframe tbody tr th {\n",
              "        vertical-align: top;\n",
              "    }\n",
              "\n",
              "    .dataframe thead th {\n",
              "        text-align: right;\n",
              "    }\n",
              "</style>\n",
              "<table border=\"1\" class=\"dataframe\">\n",
              "  <thead>\n",
              "    <tr style=\"text-align: right;\">\n",
              "      <th></th>\n",
              "      <th>ID</th>\n",
              "      <th>ACCOUNT NUMBER</th>\n",
              "      <th>SITE NUMBER</th>\n",
              "      <th>CITY</th>\n",
              "      <th>STATE</th>\n",
              "      <th>ZIP CODE</th>\n",
              "      <th>LICENSE CODE</th>\n",
              "      <th>LICENSE NUMBER</th>\n",
              "      <th>LATITUDE</th>\n",
              "      <th>LONGITUDE</th>\n",
              "      <th>LICENSE STATUS</th>\n",
              "      <th>APPLICATION REQUIREMENTS COMPLETE YEAR</th>\n",
              "      <th>PAYMENT YEAR</th>\n",
              "      <th>LICENSE TERM EXPIRATION YEAR</th>\n",
              "      <th>LICENSE TERM START YEAR</th>\n",
              "      <th>DATE ISSUED YEAR</th>\n",
              "      <th>LICENSE APPROVED FOR ISSUANCE YEAR</th>\n",
              "      <th>LICENSE STATUS CHANGE YEAR</th>\n",
              "      <th>LEGAL ENTITY_CORP</th>\n",
              "      <th>LEGAL ENTITY_INC</th>\n",
              "      <th>LEGAL ENTITY_LLC</th>\n",
              "      <th>LEGAL ENTITY_LTD</th>\n",
              "      <th>LEGAL ENTITY_OTHER</th>\n",
              "      <th>APPLICATION TYPE_C_CAPA</th>\n",
              "      <th>APPLICATION TYPE_C_EXPA</th>\n",
              "      <th>APPLICATION TYPE_C_LOC</th>\n",
              "      <th>APPLICATION TYPE_ISSUE</th>\n",
              "      <th>APPLICATION TYPE_RENEW</th>\n",
              "      <th>CONDITIONAL APPROVAL_N</th>\n",
              "      <th>CONDITIONAL APPROVAL_Y</th>\n",
              "    </tr>\n",
              "  </thead>\n",
              "  <tbody>\n",
              "    <tr>\n",
              "      <th>0</th>\n",
              "      <td>35342-20020816</td>\n",
              "      <td>32811</td>\n",
              "      <td>1</td>\n",
              "      <td>193</td>\n",
              "      <td>16</td>\n",
              "      <td>60623.0</td>\n",
              "      <td>1010</td>\n",
              "      <td>35342.0</td>\n",
              "      <td>41.843613</td>\n",
              "      <td>-87.714618</td>\n",
              "      <td>AAI</td>\n",
              "      <td>2002.0</td>\n",
              "      <td>2002.0</td>\n",
              "      <td>2003.0</td>\n",
              "      <td>2002.0</td>\n",
              "      <td>2006</td>\n",
              "      <td>2002.0</td>\n",
              "      <td>2012.0</td>\n",
              "      <td>0</td>\n",
              "      <td>0</td>\n",
              "      <td>0</td>\n",
              "      <td>0</td>\n",
              "      <td>1</td>\n",
              "      <td>0</td>\n",
              "      <td>0</td>\n",
              "      <td>0</td>\n",
              "      <td>0</td>\n",
              "      <td>1</td>\n",
              "      <td>1</td>\n",
              "      <td>0</td>\n",
              "    </tr>\n",
              "    <tr>\n",
              "      <th>1</th>\n",
              "      <td>1358463-20051116</td>\n",
              "      <td>262311</td>\n",
              "      <td>29</td>\n",
              "      <td>193</td>\n",
              "      <td>16</td>\n",
              "      <td>60618</td>\n",
              "      <td>1315</td>\n",
              "      <td>1358463.0</td>\n",
              "      <td>41.961132</td>\n",
              "      <td>-87.699626</td>\n",
              "      <td>AAC</td>\n",
              "      <td>2005.0</td>\n",
              "      <td>2005.0</td>\n",
              "      <td>2006.0</td>\n",
              "      <td>2005.0</td>\n",
              "      <td>2006</td>\n",
              "      <td>2006.0</td>\n",
              "      <td>2006.0</td>\n",
              "      <td>0</td>\n",
              "      <td>1</td>\n",
              "      <td>0</td>\n",
              "      <td>0</td>\n",
              "      <td>0</td>\n",
              "      <td>0</td>\n",
              "      <td>0</td>\n",
              "      <td>0</td>\n",
              "      <td>0</td>\n",
              "      <td>1</td>\n",
              "      <td>1</td>\n",
              "      <td>0</td>\n",
              "    </tr>\n",
              "    <tr>\n",
              "      <th>2</th>\n",
              "      <td>1980233-20090722</td>\n",
              "      <td>345008</td>\n",
              "      <td>1</td>\n",
              "      <td>466</td>\n",
              "      <td>16</td>\n",
              "      <td>60035</td>\n",
              "      <td>1011</td>\n",
              "      <td>1980233.0</td>\n",
              "      <td>41.880952</td>\n",
              "      <td>-87.681165</td>\n",
              "      <td>AAI</td>\n",
              "      <td>2009.0</td>\n",
              "      <td>2009.0</td>\n",
              "      <td>2011.0</td>\n",
              "      <td>2009.0</td>\n",
              "      <td>2009</td>\n",
              "      <td>2009.0</td>\n",
              "      <td>2012.0</td>\n",
              "      <td>0</td>\n",
              "      <td>1</td>\n",
              "      <td>0</td>\n",
              "      <td>0</td>\n",
              "      <td>0</td>\n",
              "      <td>0</td>\n",
              "      <td>0</td>\n",
              "      <td>0</td>\n",
              "      <td>1</td>\n",
              "      <td>0</td>\n",
              "      <td>1</td>\n",
              "      <td>0</td>\n",
              "    </tr>\n",
              "    <tr>\n",
              "      <th>3</th>\n",
              "      <td>1476582-20040211</td>\n",
              "      <td>273121</td>\n",
              "      <td>1</td>\n",
              "      <td>585</td>\n",
              "      <td>16</td>\n",
              "      <td>60439</td>\n",
              "      <td>1010</td>\n",
              "      <td>1476582.0</td>\n",
              "      <td>41.880952</td>\n",
              "      <td>-87.681165</td>\n",
              "      <td>AAI</td>\n",
              "      <td>2004.0</td>\n",
              "      <td>2004.0</td>\n",
              "      <td>2005.0</td>\n",
              "      <td>2004.0</td>\n",
              "      <td>2004</td>\n",
              "      <td>2004.0</td>\n",
              "      <td>2012.0</td>\n",
              "      <td>1</td>\n",
              "      <td>0</td>\n",
              "      <td>0</td>\n",
              "      <td>0</td>\n",
              "      <td>0</td>\n",
              "      <td>0</td>\n",
              "      <td>0</td>\n",
              "      <td>0</td>\n",
              "      <td>1</td>\n",
              "      <td>0</td>\n",
              "      <td>1</td>\n",
              "      <td>0</td>\n",
              "    </tr>\n",
              "    <tr>\n",
              "      <th>4</th>\n",
              "      <td>1141408-20080516</td>\n",
              "      <td>213785</td>\n",
              "      <td>1</td>\n",
              "      <td>1145</td>\n",
              "      <td>16</td>\n",
              "      <td>60087</td>\n",
              "      <td>1010</td>\n",
              "      <td>1141408.0</td>\n",
              "      <td>41.880952</td>\n",
              "      <td>-87.681165</td>\n",
              "      <td>AAI</td>\n",
              "      <td>2008.0</td>\n",
              "      <td>2008.0</td>\n",
              "      <td>2010.0</td>\n",
              "      <td>2008.0</td>\n",
              "      <td>2008</td>\n",
              "      <td>2008.0</td>\n",
              "      <td>2012.0</td>\n",
              "      <td>0</td>\n",
              "      <td>0</td>\n",
              "      <td>0</td>\n",
              "      <td>0</td>\n",
              "      <td>1</td>\n",
              "      <td>0</td>\n",
              "      <td>0</td>\n",
              "      <td>0</td>\n",
              "      <td>0</td>\n",
              "      <td>1</td>\n",
              "      <td>1</td>\n",
              "      <td>0</td>\n",
              "    </tr>\n",
              "  </tbody>\n",
              "</table>\n",
              "</div>\n",
              "      <button class=\"colab-df-convert\" onclick=\"convertToInteractive('df-9b9fd7c7-429f-4a2a-9944-84ea020ab888')\"\n",
              "              title=\"Convert this dataframe to an interactive table.\"\n",
              "              style=\"display:none;\">\n",
              "        \n",
              "  <svg xmlns=\"http://www.w3.org/2000/svg\" height=\"24px\"viewBox=\"0 0 24 24\"\n",
              "       width=\"24px\">\n",
              "    <path d=\"M0 0h24v24H0V0z\" fill=\"none\"/>\n",
              "    <path d=\"M18.56 5.44l.94 2.06.94-2.06 2.06-.94-2.06-.94-.94-2.06-.94 2.06-2.06.94zm-11 1L8.5 8.5l.94-2.06 2.06-.94-2.06-.94L8.5 2.5l-.94 2.06-2.06.94zm10 10l.94 2.06.94-2.06 2.06-.94-2.06-.94-.94-2.06-.94 2.06-2.06.94z\"/><path d=\"M17.41 7.96l-1.37-1.37c-.4-.4-.92-.59-1.43-.59-.52 0-1.04.2-1.43.59L10.3 9.45l-7.72 7.72c-.78.78-.78 2.05 0 2.83L4 21.41c.39.39.9.59 1.41.59.51 0 1.02-.2 1.41-.59l7.78-7.78 2.81-2.81c.8-.78.8-2.07 0-2.86zM5.41 20L4 18.59l7.72-7.72 1.47 1.35L5.41 20z\"/>\n",
              "  </svg>\n",
              "      </button>\n",
              "      \n",
              "  <style>\n",
              "    .colab-df-container {\n",
              "      display:flex;\n",
              "      flex-wrap:wrap;\n",
              "      gap: 12px;\n",
              "    }\n",
              "\n",
              "    .colab-df-convert {\n",
              "      background-color: #E8F0FE;\n",
              "      border: none;\n",
              "      border-radius: 50%;\n",
              "      cursor: pointer;\n",
              "      display: none;\n",
              "      fill: #1967D2;\n",
              "      height: 32px;\n",
              "      padding: 0 0 0 0;\n",
              "      width: 32px;\n",
              "    }\n",
              "\n",
              "    .colab-df-convert:hover {\n",
              "      background-color: #E2EBFA;\n",
              "      box-shadow: 0px 1px 2px rgba(60, 64, 67, 0.3), 0px 1px 3px 1px rgba(60, 64, 67, 0.15);\n",
              "      fill: #174EA6;\n",
              "    }\n",
              "\n",
              "    [theme=dark] .colab-df-convert {\n",
              "      background-color: #3B4455;\n",
              "      fill: #D2E3FC;\n",
              "    }\n",
              "\n",
              "    [theme=dark] .colab-df-convert:hover {\n",
              "      background-color: #434B5C;\n",
              "      box-shadow: 0px 1px 3px 1px rgba(0, 0, 0, 0.15);\n",
              "      filter: drop-shadow(0px 1px 2px rgba(0, 0, 0, 0.3));\n",
              "      fill: #FFFFFF;\n",
              "    }\n",
              "  </style>\n",
              "\n",
              "      <script>\n",
              "        const buttonEl =\n",
              "          document.querySelector('#df-9b9fd7c7-429f-4a2a-9944-84ea020ab888 button.colab-df-convert');\n",
              "        buttonEl.style.display =\n",
              "          google.colab.kernel.accessAllowed ? 'block' : 'none';\n",
              "\n",
              "        async function convertToInteractive(key) {\n",
              "          const element = document.querySelector('#df-9b9fd7c7-429f-4a2a-9944-84ea020ab888');\n",
              "          const dataTable =\n",
              "            await google.colab.kernel.invokeFunction('convertToInteractive',\n",
              "                                                     [key], {});\n",
              "          if (!dataTable) return;\n",
              "\n",
              "          const docLinkHtml = 'Like what you see? Visit the ' +\n",
              "            '<a target=\"_blank\" href=https://colab.research.google.com/notebooks/data_table.ipynb>data table notebook</a>'\n",
              "            + ' to learn more about interactive tables.';\n",
              "          element.innerHTML = '';\n",
              "          dataTable['output_type'] = 'display_data';\n",
              "          await google.colab.output.renderOutput(dataTable, element);\n",
              "          const docLink = document.createElement('div');\n",
              "          docLink.innerHTML = docLinkHtml;\n",
              "          element.appendChild(docLink);\n",
              "        }\n",
              "      </script>\n",
              "    </div>\n",
              "  </div>\n",
              "  "
            ]
          },
          "metadata": {},
          "execution_count": 54
        }
      ]
    },
    {
      "cell_type": "code",
      "source": [
        "encoder = LabelEncoder()\n",
        "train[\"ZIP CODE\"] = encoder.fit_transform(train[\"ZIP CODE\"].astype(str))\n",
        "test[\"ZIP CODE\"] = encoder.fit_transform(test[\"ZIP CODE\"].astype(str))\n",
        "test.head()"
      ],
      "metadata": {
        "colab": {
          "base_uri": "https://localhost:8080/",
          "height": 426
        },
        "id": "bRu2cx9Ztrqo",
        "outputId": "038b5cb8-6454-4b24-e27a-c8a95771c6a6"
      },
      "execution_count": 55,
      "outputs": [
        {
          "output_type": "execute_result",
          "data": {
            "text/plain": [
              "                 ID  ACCOUNT NUMBER  SITE NUMBER  CITY  STATE  ZIP CODE  \\\n",
              "0  1516615-20120216          280120            1    59     13       256   \n",
              "1    69813-20110616           65043            1    59     13       281   \n",
              "2  1519227-20041116          281270            1    59     13       251   \n",
              "3  1922025-20100816          335243            1    59     13       312   \n",
              "4  1675683-20070816          283018            3    59     13       277   \n",
              "\n",
              "   LICENSE CODE  LICENSE NUMBER   LATITUDE  LONGITUDE  \\\n",
              "0          1020       1516615.0  41.890047 -87.637467   \n",
              "1          1010         69813.0  41.786485 -87.676665   \n",
              "2          1020       1519227.0  41.868269 -87.625695   \n",
              "3          1607       1922025.0  41.655762 -87.608686   \n",
              "4          1010       1675683.0  41.816969 -87.699785   \n",
              "\n",
              "   APPLICATION REQUIREMENTS COMPLETE YEAR  PAYMENT YEAR  \\\n",
              "0                                  2011.0        2012.0   \n",
              "1                                  2011.0        2012.0   \n",
              "2                                  2004.0        2004.0   \n",
              "3                                  2010.0        2010.0   \n",
              "4                                  2007.0        2007.0   \n",
              "\n",
              "   LICENSE TERM EXPIRATION YEAR  LICENSE TERM START YEAR  DATE ISSUED YEAR  \\\n",
              "0                        2014.0                   2012.0              2012   \n",
              "1                        2013.0                   2011.0              2012   \n",
              "2                        2005.0                   2004.0              2004   \n",
              "3                        2012.0                   2010.0              2010   \n",
              "4                        2009.0                   2007.0              2007   \n",
              "\n",
              "   LICENSE APPROVED FOR ISSUANCE YEAR  LICENSE STATUS CHANGE YEAR  \\\n",
              "0                              2012.0                      2012.0   \n",
              "1                              2012.0                      2012.0   \n",
              "2                              2004.0                      2012.0   \n",
              "3                              2008.0                      2012.0   \n",
              "4                              2007.0                      2008.0   \n",
              "\n",
              "   LEGAL ENTITY_CORP  LEGAL ENTITY_INC  LEGAL ENTITY_LLC  LEGAL ENTITY_LTD  \\\n",
              "0                  0                 0                 1                 0   \n",
              "1                  0                 1                 0                 0   \n",
              "2                  0                 0                 1                 0   \n",
              "3                  0                 0                 0                 0   \n",
              "4                  1                 0                 0                 0   \n",
              "\n",
              "   LEGAL ENTITY_OTHER  APPLICATION TYPE_C_CAPA  APPLICATION TYPE_C_EXPA  \\\n",
              "0                   0                        0                        0   \n",
              "1                   0                        0                        0   \n",
              "2                   0                        0                        0   \n",
              "3                   1                        0                        0   \n",
              "4                   0                        0                        0   \n",
              "\n",
              "   APPLICATION TYPE_C_LOC  APPLICATION TYPE_C_SBA  APPLICATION TYPE_ISSUE  \\\n",
              "0                       0                       0                       0   \n",
              "1                       0                       0                       0   \n",
              "2                       0                       0                       0   \n",
              "3                       0                       0                       0   \n",
              "4                       0                       0                       0   \n",
              "\n",
              "   APPLICATION TYPE_RENEW  CONDITIONAL APPROVAL_N  CONDITIONAL APPROVAL_Y  \n",
              "0                       1                       1                       0  \n",
              "1                       1                       1                       0  \n",
              "2                       1                       1                       0  \n",
              "3                       1                       1                       0  \n",
              "4                       1                       1                       0  "
            ],
            "text/html": [
              "\n",
              "  <div id=\"df-0c4e27e0-fbe9-4087-a827-96bbdf7d2aed\">\n",
              "    <div class=\"colab-df-container\">\n",
              "      <div>\n",
              "<style scoped>\n",
              "    .dataframe tbody tr th:only-of-type {\n",
              "        vertical-align: middle;\n",
              "    }\n",
              "\n",
              "    .dataframe tbody tr th {\n",
              "        vertical-align: top;\n",
              "    }\n",
              "\n",
              "    .dataframe thead th {\n",
              "        text-align: right;\n",
              "    }\n",
              "</style>\n",
              "<table border=\"1\" class=\"dataframe\">\n",
              "  <thead>\n",
              "    <tr style=\"text-align: right;\">\n",
              "      <th></th>\n",
              "      <th>ID</th>\n",
              "      <th>ACCOUNT NUMBER</th>\n",
              "      <th>SITE NUMBER</th>\n",
              "      <th>CITY</th>\n",
              "      <th>STATE</th>\n",
              "      <th>ZIP CODE</th>\n",
              "      <th>LICENSE CODE</th>\n",
              "      <th>LICENSE NUMBER</th>\n",
              "      <th>LATITUDE</th>\n",
              "      <th>LONGITUDE</th>\n",
              "      <th>APPLICATION REQUIREMENTS COMPLETE YEAR</th>\n",
              "      <th>PAYMENT YEAR</th>\n",
              "      <th>LICENSE TERM EXPIRATION YEAR</th>\n",
              "      <th>LICENSE TERM START YEAR</th>\n",
              "      <th>DATE ISSUED YEAR</th>\n",
              "      <th>LICENSE APPROVED FOR ISSUANCE YEAR</th>\n",
              "      <th>LICENSE STATUS CHANGE YEAR</th>\n",
              "      <th>LEGAL ENTITY_CORP</th>\n",
              "      <th>LEGAL ENTITY_INC</th>\n",
              "      <th>LEGAL ENTITY_LLC</th>\n",
              "      <th>LEGAL ENTITY_LTD</th>\n",
              "      <th>LEGAL ENTITY_OTHER</th>\n",
              "      <th>APPLICATION TYPE_C_CAPA</th>\n",
              "      <th>APPLICATION TYPE_C_EXPA</th>\n",
              "      <th>APPLICATION TYPE_C_LOC</th>\n",
              "      <th>APPLICATION TYPE_C_SBA</th>\n",
              "      <th>APPLICATION TYPE_ISSUE</th>\n",
              "      <th>APPLICATION TYPE_RENEW</th>\n",
              "      <th>CONDITIONAL APPROVAL_N</th>\n",
              "      <th>CONDITIONAL APPROVAL_Y</th>\n",
              "    </tr>\n",
              "  </thead>\n",
              "  <tbody>\n",
              "    <tr>\n",
              "      <th>0</th>\n",
              "      <td>1516615-20120216</td>\n",
              "      <td>280120</td>\n",
              "      <td>1</td>\n",
              "      <td>59</td>\n",
              "      <td>13</td>\n",
              "      <td>256</td>\n",
              "      <td>1020</td>\n",
              "      <td>1516615.0</td>\n",
              "      <td>41.890047</td>\n",
              "      <td>-87.637467</td>\n",
              "      <td>2011.0</td>\n",
              "      <td>2012.0</td>\n",
              "      <td>2014.0</td>\n",
              "      <td>2012.0</td>\n",
              "      <td>2012</td>\n",
              "      <td>2012.0</td>\n",
              "      <td>2012.0</td>\n",
              "      <td>0</td>\n",
              "      <td>0</td>\n",
              "      <td>1</td>\n",
              "      <td>0</td>\n",
              "      <td>0</td>\n",
              "      <td>0</td>\n",
              "      <td>0</td>\n",
              "      <td>0</td>\n",
              "      <td>0</td>\n",
              "      <td>0</td>\n",
              "      <td>1</td>\n",
              "      <td>1</td>\n",
              "      <td>0</td>\n",
              "    </tr>\n",
              "    <tr>\n",
              "      <th>1</th>\n",
              "      <td>69813-20110616</td>\n",
              "      <td>65043</td>\n",
              "      <td>1</td>\n",
              "      <td>59</td>\n",
              "      <td>13</td>\n",
              "      <td>281</td>\n",
              "      <td>1010</td>\n",
              "      <td>69813.0</td>\n",
              "      <td>41.786485</td>\n",
              "      <td>-87.676665</td>\n",
              "      <td>2011.0</td>\n",
              "      <td>2012.0</td>\n",
              "      <td>2013.0</td>\n",
              "      <td>2011.0</td>\n",
              "      <td>2012</td>\n",
              "      <td>2012.0</td>\n",
              "      <td>2012.0</td>\n",
              "      <td>0</td>\n",
              "      <td>1</td>\n",
              "      <td>0</td>\n",
              "      <td>0</td>\n",
              "      <td>0</td>\n",
              "      <td>0</td>\n",
              "      <td>0</td>\n",
              "      <td>0</td>\n",
              "      <td>0</td>\n",
              "      <td>0</td>\n",
              "      <td>1</td>\n",
              "      <td>1</td>\n",
              "      <td>0</td>\n",
              "    </tr>\n",
              "    <tr>\n",
              "      <th>2</th>\n",
              "      <td>1519227-20041116</td>\n",
              "      <td>281270</td>\n",
              "      <td>1</td>\n",
              "      <td>59</td>\n",
              "      <td>13</td>\n",
              "      <td>251</td>\n",
              "      <td>1020</td>\n",
              "      <td>1519227.0</td>\n",
              "      <td>41.868269</td>\n",
              "      <td>-87.625695</td>\n",
              "      <td>2004.0</td>\n",
              "      <td>2004.0</td>\n",
              "      <td>2005.0</td>\n",
              "      <td>2004.0</td>\n",
              "      <td>2004</td>\n",
              "      <td>2004.0</td>\n",
              "      <td>2012.0</td>\n",
              "      <td>0</td>\n",
              "      <td>0</td>\n",
              "      <td>1</td>\n",
              "      <td>0</td>\n",
              "      <td>0</td>\n",
              "      <td>0</td>\n",
              "      <td>0</td>\n",
              "      <td>0</td>\n",
              "      <td>0</td>\n",
              "      <td>0</td>\n",
              "      <td>1</td>\n",
              "      <td>1</td>\n",
              "      <td>0</td>\n",
              "    </tr>\n",
              "    <tr>\n",
              "      <th>3</th>\n",
              "      <td>1922025-20100816</td>\n",
              "      <td>335243</td>\n",
              "      <td>1</td>\n",
              "      <td>59</td>\n",
              "      <td>13</td>\n",
              "      <td>312</td>\n",
              "      <td>1607</td>\n",
              "      <td>1922025.0</td>\n",
              "      <td>41.655762</td>\n",
              "      <td>-87.608686</td>\n",
              "      <td>2010.0</td>\n",
              "      <td>2010.0</td>\n",
              "      <td>2012.0</td>\n",
              "      <td>2010.0</td>\n",
              "      <td>2010</td>\n",
              "      <td>2008.0</td>\n",
              "      <td>2012.0</td>\n",
              "      <td>0</td>\n",
              "      <td>0</td>\n",
              "      <td>0</td>\n",
              "      <td>0</td>\n",
              "      <td>1</td>\n",
              "      <td>0</td>\n",
              "      <td>0</td>\n",
              "      <td>0</td>\n",
              "      <td>0</td>\n",
              "      <td>0</td>\n",
              "      <td>1</td>\n",
              "      <td>1</td>\n",
              "      <td>0</td>\n",
              "    </tr>\n",
              "    <tr>\n",
              "      <th>4</th>\n",
              "      <td>1675683-20070816</td>\n",
              "      <td>283018</td>\n",
              "      <td>3</td>\n",
              "      <td>59</td>\n",
              "      <td>13</td>\n",
              "      <td>277</td>\n",
              "      <td>1010</td>\n",
              "      <td>1675683.0</td>\n",
              "      <td>41.816969</td>\n",
              "      <td>-87.699785</td>\n",
              "      <td>2007.0</td>\n",
              "      <td>2007.0</td>\n",
              "      <td>2009.0</td>\n",
              "      <td>2007.0</td>\n",
              "      <td>2007</td>\n",
              "      <td>2007.0</td>\n",
              "      <td>2008.0</td>\n",
              "      <td>1</td>\n",
              "      <td>0</td>\n",
              "      <td>0</td>\n",
              "      <td>0</td>\n",
              "      <td>0</td>\n",
              "      <td>0</td>\n",
              "      <td>0</td>\n",
              "      <td>0</td>\n",
              "      <td>0</td>\n",
              "      <td>0</td>\n",
              "      <td>1</td>\n",
              "      <td>1</td>\n",
              "      <td>0</td>\n",
              "    </tr>\n",
              "  </tbody>\n",
              "</table>\n",
              "</div>\n",
              "      <button class=\"colab-df-convert\" onclick=\"convertToInteractive('df-0c4e27e0-fbe9-4087-a827-96bbdf7d2aed')\"\n",
              "              title=\"Convert this dataframe to an interactive table.\"\n",
              "              style=\"display:none;\">\n",
              "        \n",
              "  <svg xmlns=\"http://www.w3.org/2000/svg\" height=\"24px\"viewBox=\"0 0 24 24\"\n",
              "       width=\"24px\">\n",
              "    <path d=\"M0 0h24v24H0V0z\" fill=\"none\"/>\n",
              "    <path d=\"M18.56 5.44l.94 2.06.94-2.06 2.06-.94-2.06-.94-.94-2.06-.94 2.06-2.06.94zm-11 1L8.5 8.5l.94-2.06 2.06-.94-2.06-.94L8.5 2.5l-.94 2.06-2.06.94zm10 10l.94 2.06.94-2.06 2.06-.94-2.06-.94-.94-2.06-.94 2.06-2.06.94z\"/><path d=\"M17.41 7.96l-1.37-1.37c-.4-.4-.92-.59-1.43-.59-.52 0-1.04.2-1.43.59L10.3 9.45l-7.72 7.72c-.78.78-.78 2.05 0 2.83L4 21.41c.39.39.9.59 1.41.59.51 0 1.02-.2 1.41-.59l7.78-7.78 2.81-2.81c.8-.78.8-2.07 0-2.86zM5.41 20L4 18.59l7.72-7.72 1.47 1.35L5.41 20z\"/>\n",
              "  </svg>\n",
              "      </button>\n",
              "      \n",
              "  <style>\n",
              "    .colab-df-container {\n",
              "      display:flex;\n",
              "      flex-wrap:wrap;\n",
              "      gap: 12px;\n",
              "    }\n",
              "\n",
              "    .colab-df-convert {\n",
              "      background-color: #E8F0FE;\n",
              "      border: none;\n",
              "      border-radius: 50%;\n",
              "      cursor: pointer;\n",
              "      display: none;\n",
              "      fill: #1967D2;\n",
              "      height: 32px;\n",
              "      padding: 0 0 0 0;\n",
              "      width: 32px;\n",
              "    }\n",
              "\n",
              "    .colab-df-convert:hover {\n",
              "      background-color: #E2EBFA;\n",
              "      box-shadow: 0px 1px 2px rgba(60, 64, 67, 0.3), 0px 1px 3px 1px rgba(60, 64, 67, 0.15);\n",
              "      fill: #174EA6;\n",
              "    }\n",
              "\n",
              "    [theme=dark] .colab-df-convert {\n",
              "      background-color: #3B4455;\n",
              "      fill: #D2E3FC;\n",
              "    }\n",
              "\n",
              "    [theme=dark] .colab-df-convert:hover {\n",
              "      background-color: #434B5C;\n",
              "      box-shadow: 0px 1px 3px 1px rgba(0, 0, 0, 0.15);\n",
              "      filter: drop-shadow(0px 1px 2px rgba(0, 0, 0, 0.3));\n",
              "      fill: #FFFFFF;\n",
              "    }\n",
              "  </style>\n",
              "\n",
              "      <script>\n",
              "        const buttonEl =\n",
              "          document.querySelector('#df-0c4e27e0-fbe9-4087-a827-96bbdf7d2aed button.colab-df-convert');\n",
              "        buttonEl.style.display =\n",
              "          google.colab.kernel.accessAllowed ? 'block' : 'none';\n",
              "\n",
              "        async function convertToInteractive(key) {\n",
              "          const element = document.querySelector('#df-0c4e27e0-fbe9-4087-a827-96bbdf7d2aed');\n",
              "          const dataTable =\n",
              "            await google.colab.kernel.invokeFunction('convertToInteractive',\n",
              "                                                     [key], {});\n",
              "          if (!dataTable) return;\n",
              "\n",
              "          const docLinkHtml = 'Like what you see? Visit the ' +\n",
              "            '<a target=\"_blank\" href=https://colab.research.google.com/notebooks/data_table.ipynb>data table notebook</a>'\n",
              "            + ' to learn more about interactive tables.';\n",
              "          element.innerHTML = '';\n",
              "          dataTable['output_type'] = 'display_data';\n",
              "          await google.colab.output.renderOutput(dataTable, element);\n",
              "          const docLink = document.createElement('div');\n",
              "          docLink.innerHTML = docLinkHtml;\n",
              "          element.appendChild(docLink);\n",
              "        }\n",
              "      </script>\n",
              "    </div>\n",
              "  </div>\n",
              "  "
            ]
          },
          "metadata": {},
          "execution_count": 55
        }
      ]
    },
    {
      "cell_type": "markdown",
      "source": [
        "### Encoding Target Variable"
      ],
      "metadata": {
        "id": "GdQNAJMOu0AK"
      }
    },
    {
      "cell_type": "code",
      "source": [
        "train[\"LICENSE STATUS\"] = train[\"LICENSE STATUS\"].replace('AAI', 0)\n",
        "train[\"LICENSE STATUS\"] = train[\"LICENSE STATUS\"].replace('AAC', 1)\n",
        "train[\"LICENSE STATUS\"] = train[\"LICENSE STATUS\"].replace('REV', 2)\n",
        "train[\"LICENSE STATUS\"] = train[\"LICENSE STATUS\"].replace('REA', 3)\n",
        "train[\"LICENSE STATUS\"] = train[\"LICENSE STATUS\"].replace('INQ', 4)\n",
        "train[\"LICENSE STATUS\"].value_counts()\n"
      ],
      "metadata": {
        "colab": {
          "base_uri": "https://localhost:8080/"
        },
        "id": "pXSDYZnyudu9",
        "outputId": "3cbb210b-386d-4908-fa91-13f3774d8226"
      },
      "execution_count": 56,
      "outputs": [
        {
          "output_type": "execute_result",
          "data": {
            "text/plain": [
              "0    55400\n",
              "1    30200\n",
              "2      290\n",
              "3        3\n",
              "4        2\n",
              "Name: LICENSE STATUS, dtype: int64"
            ]
          },
          "metadata": {},
          "execution_count": 56
        }
      ]
    },
    {
      "cell_type": "code",
      "source": [
        "#dropping Id coloum\n",
        "train = train.drop('ID', axis=1)\n",
        "test = test.drop('ID', axis=1)"
      ],
      "metadata": {
        "id": "t3kYrmrRvXva"
      },
      "execution_count": 57,
      "outputs": []
    },
    {
      "cell_type": "markdown",
      "source": [
        ""
      ],
      "metadata": {
        "id": "y7q6Q8pXv0jt"
      }
    },
    {
      "cell_type": "code",
      "source": [
        "x=train.drop('LICENSE STATUS',axis=1)\n",
        "x.info()\n"
      ],
      "metadata": {
        "colab": {
          "base_uri": "https://localhost:8080/"
        },
        "id": "EwsR0KPTv545",
        "outputId": "e16b4bfa-98e9-4cf9-a79f-552047d2e0c6"
      },
      "execution_count": 58,
      "outputs": [
        {
          "output_type": "stream",
          "name": "stdout",
          "text": [
            "<class 'pandas.core.frame.DataFrame'>\n",
            "RangeIndex: 85895 entries, 0 to 85894\n",
            "Data columns (total 28 columns):\n",
            " #   Column                                  Non-Null Count  Dtype  \n",
            "---  ------                                  --------------  -----  \n",
            " 0   ACCOUNT NUMBER                          85895 non-null  int64  \n",
            " 1   SITE NUMBER                             85895 non-null  int64  \n",
            " 2   CITY                                    85895 non-null  int64  \n",
            " 3   STATE                                   85895 non-null  int64  \n",
            " 4   ZIP CODE                                85895 non-null  int64  \n",
            " 5   LICENSE CODE                            85895 non-null  int64  \n",
            " 6   LICENSE NUMBER                          85895 non-null  float64\n",
            " 7   LATITUDE                                85895 non-null  float64\n",
            " 8   LONGITUDE                               85895 non-null  float64\n",
            " 9   APPLICATION REQUIREMENTS COMPLETE YEAR  85895 non-null  float64\n",
            " 10  PAYMENT YEAR                            85895 non-null  float64\n",
            " 11  LICENSE TERM EXPIRATION YEAR            85895 non-null  float64\n",
            " 12  LICENSE TERM START YEAR                 85895 non-null  float64\n",
            " 13  DATE ISSUED YEAR                        85895 non-null  int64  \n",
            " 14  LICENSE APPROVED FOR ISSUANCE YEAR      85895 non-null  float64\n",
            " 15  LICENSE STATUS CHANGE YEAR              85895 non-null  float64\n",
            " 16  LEGAL ENTITY_CORP                       85895 non-null  uint8  \n",
            " 17  LEGAL ENTITY_INC                        85895 non-null  uint8  \n",
            " 18  LEGAL ENTITY_LLC                        85895 non-null  uint8  \n",
            " 19  LEGAL ENTITY_LTD                        85895 non-null  uint8  \n",
            " 20  LEGAL ENTITY_OTHER                      85895 non-null  uint8  \n",
            " 21  APPLICATION TYPE_C_CAPA                 85895 non-null  uint8  \n",
            " 22  APPLICATION TYPE_C_EXPA                 85895 non-null  uint8  \n",
            " 23  APPLICATION TYPE_C_LOC                  85895 non-null  uint8  \n",
            " 24  APPLICATION TYPE_ISSUE                  85895 non-null  uint8  \n",
            " 25  APPLICATION TYPE_RENEW                  85895 non-null  uint8  \n",
            " 26  CONDITIONAL APPROVAL_N                  85895 non-null  uint8  \n",
            " 27  CONDITIONAL APPROVAL_Y                  85895 non-null  uint8  \n",
            "dtypes: float64(9), int64(7), uint8(12)\n",
            "memory usage: 11.5 MB\n"
          ]
        }
      ]
    },
    {
      "cell_type": "code",
      "source": [
        "y=train['LICENSE STATUS']"
      ],
      "metadata": {
        "id": "ApvBrzXa0m2a"
      },
      "execution_count": 59,
      "outputs": []
    },
    {
      "cell_type": "markdown",
      "source": [
        "## Handling Imbalanced dataset\n",
        "\n",
        "### I used Random over Sampler to balanced the target variable\n",
        "### Other techniques like SMOTE can be used\n",
        "### We can also use SMOTeeen which do both undersample and oversample at same time"
      ],
      "metadata": {
        "id": "SoSo921vev-F"
      }
    },
    {
      "cell_type": "code",
      "source": [
        "from imblearn.over_sampling import RandomOverSampler\n",
        "os = RandomOverSampler({0:55400, 1:40000, 2:20000, 3:8000, 4:5000,})\n",
        "x1,y1=os.fit_resample(x,y)\n",
        "y1.shape\n",
        "y1.value_counts()"
      ],
      "metadata": {
        "colab": {
          "base_uri": "https://localhost:8080/"
        },
        "id": "DPiObEuK0yvM",
        "outputId": "11dad70b-8175-4650-8937-2c0c6817611d"
      },
      "execution_count": 60,
      "outputs": [
        {
          "output_type": "stream",
          "name": "stderr",
          "text": [
            "/usr/local/lib/python3.7/dist-packages/imblearn/utils/_validation.py:591: FutureWarning: Pass sampling_strategy={0: 55400, 1: 40000, 2: 20000, 3: 8000, 4: 5000} as keyword args. From version 0.9 passing these as positional arguments will result in an error\n",
            "  FutureWarning,\n"
          ]
        },
        {
          "output_type": "execute_result",
          "data": {
            "text/plain": [
              "0    55400\n",
              "1    40000\n",
              "2    20000\n",
              "3     8000\n",
              "4     5000\n",
              "Name: LICENSE STATUS, dtype: int64"
            ]
          },
          "metadata": {},
          "execution_count": 60
        }
      ]
    },
    {
      "cell_type": "code",
      "source": [
        "xt2,xte2,yt1,yte1=tt(x1,y1,test_size=0.2,random_state=2)\n",
        "xt2.shape"
      ],
      "metadata": {
        "colab": {
          "base_uri": "https://localhost:8080/"
        },
        "id": "oZzCg6Pn6JwU",
        "outputId": "0238be4d-a032-48a5-a42a-81f493ebe0a7"
      },
      "execution_count": 62,
      "outputs": [
        {
          "output_type": "execute_result",
          "data": {
            "text/plain": [
              "(102720, 28)"
            ]
          },
          "metadata": {},
          "execution_count": 62
        }
      ]
    },
    {
      "cell_type": "code",
      "source": [
        "\n",
        "from sklearn.linear_model import LogisticRegression\n",
        "\n",
        "# Create a Logistic regression classifier\n",
        "lg = LogisticRegression()\n",
        "\n",
        "# Train the model using the training sets \n",
        "lg.fit(xt2, yt1)\n",
        "yp=lg.predict(xte2)"
      ],
      "metadata": {
        "colab": {
          "base_uri": "https://localhost:8080/"
        },
        "id": "r9s4FfTY6q_A",
        "outputId": "b918112c-cb35-4610-d02e-5cfe4ca0502f"
      },
      "execution_count": 63,
      "outputs": [
        {
          "output_type": "stream",
          "name": "stderr",
          "text": [
            "/usr/local/lib/python3.7/dist-packages/sklearn/linear_model/_logistic.py:818: ConvergenceWarning: lbfgs failed to converge (status=1):\n",
            "STOP: TOTAL NO. of ITERATIONS REACHED LIMIT.\n",
            "\n",
            "Increase the number of iterations (max_iter) or scale the data as shown in:\n",
            "    https://scikit-learn.org/stable/modules/preprocessing.html\n",
            "Please also refer to the documentation for alternative solver options:\n",
            "    https://scikit-learn.org/stable/modules/linear_model.html#logistic-regression\n",
            "  extra_warning_msg=_LOGISTIC_SOLVER_CONVERGENCE_MSG,\n"
          ]
        }
      ]
    },
    {
      "cell_type": "markdown",
      "source": [
        "### Used classification report to see the FI weighted avg score as required"
      ],
      "metadata": {
        "id": "0vk-8gZ9f-hC"
      }
    },
    {
      "cell_type": "code",
      "source": [
        "from sklearn.metrics import accuracy_score as ar,confusion_matrix, classification_report as cr\n",
        "print(cr(yte1,yp))"
      ],
      "metadata": {
        "colab": {
          "base_uri": "https://localhost:8080/"
        },
        "id": "sMagUkY77xCe",
        "outputId": "6db90d9f-7357-4de4-9840-8feb1105fe5f"
      },
      "execution_count": 64,
      "outputs": [
        {
          "output_type": "stream",
          "name": "stdout",
          "text": [
            "              precision    recall  f1-score   support\n",
            "\n",
            "           0       0.43      1.00      0.60     11130\n",
            "           1       0.59      0.01      0.01      7992\n",
            "           2       0.00      0.00      0.00      3982\n",
            "           3       0.00      0.00      0.00      1573\n",
            "           4       0.00      0.00      0.00      1003\n",
            "\n",
            "    accuracy                           0.43     25680\n",
            "   macro avg       0.21      0.20      0.12     25680\n",
            "weighted avg       0.37      0.43      0.27     25680\n",
            "\n"
          ]
        },
        {
          "output_type": "stream",
          "name": "stderr",
          "text": [
            "/usr/local/lib/python3.7/dist-packages/sklearn/metrics/_classification.py:1318: UndefinedMetricWarning: Precision and F-score are ill-defined and being set to 0.0 in labels with no predicted samples. Use `zero_division` parameter to control this behavior.\n",
            "  _warn_prf(average, modifier, msg_start, len(result))\n",
            "/usr/local/lib/python3.7/dist-packages/sklearn/metrics/_classification.py:1318: UndefinedMetricWarning: Precision and F-score are ill-defined and being set to 0.0 in labels with no predicted samples. Use `zero_division` parameter to control this behavior.\n",
            "  _warn_prf(average, modifier, msg_start, len(result))\n",
            "/usr/local/lib/python3.7/dist-packages/sklearn/metrics/_classification.py:1318: UndefinedMetricWarning: Precision and F-score are ill-defined and being set to 0.0 in labels with no predicted samples. Use `zero_division` parameter to control this behavior.\n",
            "  _warn_prf(average, modifier, msg_start, len(result))\n"
          ]
        }
      ]
    },
    {
      "cell_type": "markdown",
      "source": [
        "## Random Forest Classifier\n",
        "\n",
        "### I tried Hyperparameter optimization using GridSearchCV but due to my laptop hardware limitation ,notebook is getting crashed.\n"
      ],
      "metadata": {
        "id": "exnDwSoKfDXD"
      }
    },
    {
      "cell_type": "code",
      "source": [
        "from sklearn.ensemble import RandomForestClassifier\n",
        "\n",
        "\n",
        "rf = RandomForestClassifier()\n",
        "\n",
        "# Train the model using the training sets \n",
        "rf.fit(xt2,yt1)\n",
        "yp1=rf.predict(xte2)"
      ],
      "metadata": {
        "id": "3pNyGEQ38JcG"
      },
      "execution_count": 65,
      "outputs": []
    },
    {
      "cell_type": "code",
      "source": [
        "print(cr(yte1,yp1))"
      ],
      "metadata": {
        "colab": {
          "base_uri": "https://localhost:8080/"
        },
        "id": "vmmPbbyyClkv",
        "outputId": "5f962060-f20d-49e0-a32e-e0a0e7481b21"
      },
      "execution_count": 66,
      "outputs": [
        {
          "output_type": "stream",
          "name": "stdout",
          "text": [
            "              precision    recall  f1-score   support\n",
            "\n",
            "           0       0.99      0.99      0.99     11130\n",
            "           1       0.98      0.99      0.99      7992\n",
            "           2       1.00      1.00      1.00      3982\n",
            "           3       1.00      1.00      1.00      1573\n",
            "           4       1.00      1.00      1.00      1003\n",
            "\n",
            "    accuracy                           0.99     25680\n",
            "   macro avg       0.99      1.00      1.00     25680\n",
            "weighted avg       0.99      0.99      0.99     25680\n",
            "\n"
          ]
        }
      ]
    },
    {
      "cell_type": "markdown",
      "source": [
        "### Feature importance using Random Forest"
      ],
      "metadata": {
        "id": "_XSjDGdRfwvV"
      }
    },
    {
      "cell_type": "code",
      "source": [
        "feature_imp = pd.Series(rf.feature_importances_,index= xt2.columns).sort_values(ascending=False)\n",
        "\n",
        "feature_imp=feature_imp[0:12,]\n",
        "sns.barplot(x=feature_imp, y=feature_imp.index)\n",
        "plt.xlabel('Feature Importance Score')\n",
        "plt.ylabel('Features')\n",
        "plt.title(\"Visualizing Important Features\")\n",
        "plt.legend()\n",
        "plt.show()"
      ],
      "metadata": {
        "colab": {
          "base_uri": "https://localhost:8080/",
          "height": 312
        },
        "id": "eB5CPN0ccWGk",
        "outputId": "007f449a-c9b8-4df1-8952-60d18fc9ae46"
      },
      "execution_count": 70,
      "outputs": [
        {
          "output_type": "stream",
          "name": "stderr",
          "text": [
            "No handles with labels found to put in legend.\n"
          ]
        },
        {
          "output_type": "display_data",
          "data": {
            "text/plain": [
              "<Figure size 432x288 with 1 Axes>"
            ],
            "image/png": "[encoded data removed]"
          },
          "metadata": {
            "needs_background": "light"
          }
        }
      ]
    },
    {
      "cell_type": "markdown",
      "source": [
        "## XGBoost\n",
        "\n",
        "### I tried Hyperparameter optimization using GridSearchCV but due to my laptop hardware limitation ,notebook is getting crashed."
      ],
      "metadata": {
        "id": "5jiJDuTSfllI"
      }
    },
    {
      "cell_type": "code",
      "source": [
        "from xgboost import XGBClassifier , plot_importance\n",
        "\n",
        "# Create a XGB Classifier\n",
        "xg = XGBClassifier( n_estimators=10)\n",
        "\n",
        "\n",
        "# Train the model using the training sets\n",
        "xg.fit(xt2,yt1)\n",
        "yp2=rf.predict(xte2)"
      ],
      "metadata": {
        "id": "HiGJ7rY9C-zZ"
      },
      "execution_count": 67,
      "outputs": []
    },
    {
      "cell_type": "code",
      "source": [
        "print(cr(yte1,yp2))"
      ],
      "metadata": {
        "colab": {
          "base_uri": "https://localhost:8080/"
        },
        "id": "pO5Au7AbF1Va",
        "outputId": "f07de0b6-19ec-4e95-dc17-774867484d61"
      },
      "execution_count": 68,
      "outputs": [
        {
          "output_type": "stream",
          "name": "stdout",
          "text": [
            "              precision    recall  f1-score   support\n",
            "\n",
            "           0       0.99      0.99      0.99     11130\n",
            "           1       0.98      0.99      0.99      7992\n",
            "           2       1.00      1.00      1.00      3982\n",
            "           3       1.00      1.00      1.00      1573\n",
            "           4       1.00      1.00      1.00      1003\n",
            "\n",
            "    accuracy                           0.99     25680\n",
            "   macro avg       0.99      1.00      1.00     25680\n",
            "weighted avg       0.99      0.99      0.99     25680\n",
            "\n"
          ]
        }
      ]
    },
    {
      "cell_type": "markdown",
      "source": [
        ""
      ],
      "metadata": {
        "id": "_Seod8_VXLNC"
      }
    }
  ]
}